{
 "cells": [
  {
   "cell_type": "code",
   "execution_count": null,
   "metadata": {},
   "outputs": [],
   "source": [
    "import numpy as np\n",
    "import pandas as pd\n",
    "\n",
    "import tensorflow as tf"
   ]
  },
  {
   "cell_type": "code",
   "execution_count": 3,
   "metadata": {
    "scrolled": true
   },
   "outputs": [],
   "source": [
    "import os\n",
    "filelist = os.listdir(\"savedata\")\n",
    "lst = []\n",
    "for ijk in filelist:\n",
    "#     frame = pd.read_csv(f\"/home/technology/vikram/ISV_detection_LSTMs/new_about_extraction/savedata/{ijk}\")\n",
    "    with open(f\"savedata/{ijk}\",'r') as fl:\n",
    "        text = fl.readlines()\n",
    "        text = \" \".join(text)\n",
    "    \n",
    "    lst.append([ijk.replace(\"_\",\".\").replace(\".txt\",\"\"),text])\n",
    "#     df = df.append(list(frame).insert(0,str(ijk.replace(\"_\",\".\").replace(\".txt\",\"\"))))\n",
    "df_text = pd.DataFrame(lst,columns = [\"domains\",\"text\"])"
   ]
  },
  {
   "cell_type": "code",
   "execution_count": 3,
   "metadata": {},
   "outputs": [],
   "source": [
    "df1=pd.read_excel(\"2k_sample_b2b_b2c.xlsx\")"
   ]
  },
  {
   "cell_type": "code",
   "execution_count": 4,
   "metadata": {},
   "outputs": [],
   "source": [
    "df1 = df1.rename(columns={'Website': 'domains'})"
   ]
  },
  {
   "cell_type": "code",
   "execution_count": 5,
   "metadata": {
    "scrolled": true
   },
   "outputs": [
    {
     "data": {
      "text/html": [
       "<div>\n",
       "<style scoped>\n",
       "    .dataframe tbody tr th:only-of-type {\n",
       "        vertical-align: middle;\n",
       "    }\n",
       "\n",
       "    .dataframe tbody tr th {\n",
       "        vertical-align: top;\n",
       "    }\n",
       "\n",
       "    .dataframe thead th {\n",
       "        text-align: right;\n",
       "    }\n",
       "</style>\n",
       "<table border=\"1\" class=\"dataframe\">\n",
       "  <thead>\n",
       "    <tr style=\"text-align: right;\">\n",
       "      <th></th>\n",
       "      <th>domains</th>\n",
       "      <th>text</th>\n",
       "      <th>Email Domain</th>\n",
       "      <th>Business Model</th>\n",
       "    </tr>\n",
       "  </thead>\n",
       "  <tbody>\n",
       "    <tr>\n",
       "      <th>0</th>\n",
       "      <td>www.umcelpaso.org</td>\n",
       "      <td>umc paso university medical center paso welcom...</td>\n",
       "      <td>umcelpaso.org</td>\n",
       "      <td>B2C</td>\n",
       "    </tr>\n",
       "    <tr>\n",
       "      <th>1</th>\n",
       "      <td>www.merithall.com</td>\n",
       "      <td>staffing recruitment agencies detroit merithal...</td>\n",
       "      <td>merithall.com</td>\n",
       "      <td>B2C</td>\n",
       "    </tr>\n",
       "    <tr>\n",
       "      <th>2</th>\n",
       "      <td>www.intd.com</td>\n",
       "      <td>heartland express giving truck drivers best pa...</td>\n",
       "      <td>intd.com</td>\n",
       "      <td>B2B</td>\n",
       "    </tr>\n",
       "    <tr>\n",
       "      <th>3</th>\n",
       "      <td>www.edgetherapeutics.com</td>\n",
       "      <td>site configured found site looking found domai...</td>\n",
       "      <td>edgetherapeutics.com</td>\n",
       "      <td>B2B</td>\n",
       "    </tr>\n",
       "    <tr>\n",
       "      <th>4</th>\n",
       "      <td>www.backchecked.com</td>\n",
       "      <td>urls looking</td>\n",
       "      <td>backchecked.com</td>\n",
       "      <td>B2B</td>\n",
       "    </tr>\n",
       "    <tr>\n",
       "      <th>...</th>\n",
       "      <td>...</td>\n",
       "      <td>...</td>\n",
       "      <td>...</td>\n",
       "      <td>...</td>\n",
       "    </tr>\n",
       "    <tr>\n",
       "      <th>3829</th>\n",
       "      <td>www.marketmuse.com</td>\n",
       "      <td>content planning optimization software marketm...</td>\n",
       "      <td>marketmuse.com</td>\n",
       "      <td>B2B</td>\n",
       "    </tr>\n",
       "    <tr>\n",
       "      <th>3830</th>\n",
       "      <td>www.modernstorytellers.com</td>\n",
       "      <td>haberman mission based marketing communication...</td>\n",
       "      <td>modernstorytellers.com</td>\n",
       "      <td>B2B</td>\n",
       "    </tr>\n",
       "    <tr>\n",
       "      <th>3831</th>\n",
       "      <td>www.startel.com</td>\n",
       "      <td>contact center software startel com follow fol...</td>\n",
       "      <td>startel.com</td>\n",
       "      <td>B2B</td>\n",
       "    </tr>\n",
       "    <tr>\n",
       "      <th>3832</th>\n",
       "      <td>www.donleefarms.com</td>\n",
       "      <td>meat meatless plant based burgers bowls lee fa...</td>\n",
       "      <td>donleefarms.com</td>\n",
       "      <td>B2C</td>\n",
       "    </tr>\n",
       "    <tr>\n",
       "      <th>3833</th>\n",
       "      <td>www.dovedata.com</td>\n",
       "      <td>index index name last modified size cgi bin uc...</td>\n",
       "      <td>dovedata.com</td>\n",
       "      <td>B2B</td>\n",
       "    </tr>\n",
       "  </tbody>\n",
       "</table>\n",
       "<p>3834 rows × 4 columns</p>\n",
       "</div>"
      ],
      "text/plain": [
       "                         domains  \\\n",
       "0              www.umcelpaso.org   \n",
       "1              www.merithall.com   \n",
       "2                   www.intd.com   \n",
       "3       www.edgetherapeutics.com   \n",
       "4            www.backchecked.com   \n",
       "...                          ...   \n",
       "3829          www.marketmuse.com   \n",
       "3830  www.modernstorytellers.com   \n",
       "3831             www.startel.com   \n",
       "3832         www.donleefarms.com   \n",
       "3833            www.dovedata.com   \n",
       "\n",
       "                                                   text  \\\n",
       "0     umc paso university medical center paso welcom...   \n",
       "1     staffing recruitment agencies detroit merithal...   \n",
       "2     heartland express giving truck drivers best pa...   \n",
       "3     site configured found site looking found domai...   \n",
       "4                                          urls looking   \n",
       "...                                                 ...   \n",
       "3829  content planning optimization software marketm...   \n",
       "3830  haberman mission based marketing communication...   \n",
       "3831  contact center software startel com follow fol...   \n",
       "3832  meat meatless plant based burgers bowls lee fa...   \n",
       "3833  index index name last modified size cgi bin uc...   \n",
       "\n",
       "                Email Domain Business Model  \n",
       "0              umcelpaso.org            B2C  \n",
       "1              merithall.com            B2C  \n",
       "2                   intd.com            B2B  \n",
       "3       edgetherapeutics.com            B2B  \n",
       "4            backchecked.com            B2B  \n",
       "...                      ...            ...  \n",
       "3829          marketmuse.com            B2B  \n",
       "3830  modernstorytellers.com            B2B  \n",
       "3831             startel.com            B2B  \n",
       "3832         donleefarms.com            B2C  \n",
       "3833            dovedata.com            B2B  \n",
       "\n",
       "[3834 rows x 4 columns]"
      ]
     },
     "execution_count": 5,
     "metadata": {},
     "output_type": "execute_result"
    }
   ],
   "source": [
    "final_df=pd.merge(df_text,df1,on='domains')\n",
    "final_df"
   ]
  },
  {
   "cell_type": "code",
   "execution_count": 6,
   "metadata": {
    "scrolled": true
   },
   "outputs": [
    {
     "data": {
      "text/plain": [
       "'umc paso university medical center paso welcome toggle navigation main number find doctor find doctor verify provider privileges find facility medical services digestive health center cardiology emergency geriatrics imaging services infusion services lab services scherr legate level trauma center maternity men health neurosciences orthopedics outpatient clinics outpatient pharmacy pediatrics border pediatrics rehabilitation spine center neurosurgery surgery women health vascular endovascular surgery west texas regional poison center patients visitors billing insurance hours visitation cafeteria menus find facility medical records prescriptions volunteer hospital community programs leadership meetings region rhp legal medical staff services compliance main number search careers business umc contact api staffing scheduling login myhealthep myhealthep self enroll neighborhood healthcare centers volunteer make payment find doctor find doctor verify provider privileges find facility medical services digestive health center cardiology emergency geriatrics imaging services infusion services lab services scherr legate level trauma center maternity men health neurosciences orthopedics outpatient clinics outpatient pharmacy pediatrics border pediatrics rehabilitation spine center neurosurgery surgery women health vascular endovascular surgery west texas regional poison center patients visitors billing insurance charity care paso health charge master prices hours visitation cafeteria menus find facility medical records prescriptions volunteer adult volunteers pastoral care juniors volunteer login hospital affiliations awards finances nursing umc foundation pharmacy residency pgy1 government relations community programs community coalition partnership ccp paso occupant protection program injury prevention nurse family partnership leadership board managers administration medical staff officers meetings board finance board meeting videos region rhp documents learning collaboratives meetings archives legal disclaimer joint commission privacy statement public notice community health needs assessment medical staff services compliance nondiscrimination notice code conduct conflict interest disclosure joint notice privacy practices anonymous reporting region level trauma center community lifeline open advanced emergency care located east northeast paso geriatrics expert multidisciplinary care older adults previous next university medical center paso care paso umc hospital region trusts exceptional healthcare services expertise hospital paso named three times one america top hospitals university medical center paso renowned teaching research hospital equipped advanced medical equipment expertise region umc always pursuing highest levels expertise resources remain standard bearer medical care paso depend level trauma center mile radius paso services verified american college surgeons home region level stroke center joint commission certified comprehensive stroke center able treat care complex brain injuries hospital west texas entire state new mexico anywhere southern arizona certification unmatched region umc digestive health center become referral center gastroenterologists across west texas southern new mexico region first level maternal care officially certified baby friendly hospital highest rated maternal care hospital city mission mission heal serve educate vision vision first choice healthcare southwest budget notice meeting monday august paso county commissioners behalf paso county hospital district adopt new revenue tax rate tax year tax rate raise taxes maintenance operations last year tax rate tax rate effectively raised fifty seven hundredths percent raise taxes maintenance operations home approximately umc celebrates years healthcare borderplex february paso texas university medical center umc paso honored recognize year healthcare paso county borderplex region today jan umc celebrates history progress hospital made millions healed patients hundreds thousands newborns betterment health community first opened doors known paso county general hospital paso county hospital district created approved local voters paved way new hospital building hospital named thomason general hospital honor robert ewing thomason former mayor paso united states district judge united states district court western district texas read pulse february umc ceo update cms covid vaccine mandate healthcare workers must compliance feb celebrating years healthcare myhealthep patient portal provides patients records test results covid long hauler umc patient felipe varela thankful umc read pulse december umc surgical center west performs first outpatient spinal fusions city paso patients find relief communication pbx operators connecting umc shine kudos recent group umc stars congratulations 3rd quarter umc daisy winners happy holidays creates days jolly umc cheer read view news university medical center paso disclaimer privacy statement nondiscrimination notice joint commission region rhp alameda ave paso designed stantonstreet umc paso university medical center paso medical staff officers toggle navigation main number find doctor find doctor verify provider privileges find facility medical services digestive health center cardiology emergency geriatrics imaging services infusion services lab services scherr legate level trauma center maternity men health neurosciences orthopedics outpatient clinics outpatient pharmacy pediatrics border pediatrics rehabilitation spine center neurosurgery surgery women health vascular endovascular surgery west texas regional poison center patients visitors billing insurance hours visitation cafeteria menus find facility medical records prescriptions volunteer hospital community programs leadership meetings region rhp legal medical staff services compliance main number search careers business umc contact api staffing scheduling login myhealthep myhealthep self enroll neighborhood healthcare centers volunteer make payment find doctor find doctor verify provider privileges find facility medical services digestive health center cardiology emergency geriatrics imaging services infusion services lab services scherr legate level trauma center maternity men health neurosciences orthopedics outpatient clinics outpatient pharmacy pediatrics border pediatrics rehabilitation spine center neurosurgery surgery women health vascular endovascular surgery west texas regional poison center patients visitors billing insurance charity care paso health charge master prices hours visitation cafeteria menus find facility medical records prescriptions volunteer adult volunteers pastoral care juniors volunteer login hospital affiliations awards finances nursing umc foundation pharmacy residency pgy1 government relations community programs community coalition partnership ccp paso occupant protection program injury prevention nurse family partnership leadership board managers administration medical staff officers meetings board finance board meeting videos region rhp documents learning collaboratives meetings archives legal disclaimer joint commission privacy statement public notice community health needs assessment medical staff services compliance nondiscrimination notice code conduct conflict interest disclosure joint notice privacy practices anonymous reporting medical staff officers medical staff officers leadership medical staff officers medical staff officers salvador cruz flores chief staff alan tyroch past chief staff debabrata mukherjee chief staff elect anantha vellipuram secretary fallah david member large alberto maud member large richard mccallum member large hospital medical staff services community programs leadership board managers administration medical staff officers meetings region rhp legal compliance university medical center paso disclaimer privacy statement nondiscrimination notice joint commission region rhp alameda ave paso designed stantonstreet umc paso university medical center paso affiliations toggle navigation main number find doctor find doctor verify provider privileges find facility medical services digestive health center cardiology emergency geriatrics imaging services infusion services lab services scherr legate level trauma center maternity men health neurosciences orthopedics outpatient clinics outpatient pharmacy pediatrics border pediatrics rehabilitation spine center neurosurgery surgery women health vascular endovascular surgery west texas regional poison center patients visitors billing insurance hours visitation cafeteria menus find facility medical records prescriptions volunteer hospital community programs leadership meetings region rhp legal medical staff services compliance main number search careers business umc contact api staffing scheduling login myhealthep myhealthep self enroll neighborhood healthcare centers volunteer make payment find doctor find doctor verify provider privileges find facility medical services digestive health center cardiology emergency geriatrics imaging services infusion services lab services scherr legate level trauma center maternity men health neurosciences orthopedics outpatient clinics outpatient pharmacy pediatrics border pediatrics rehabilitation spine center neurosurgery surgery women health vascular endovascular surgery west texas regional poison center patients visitors billing insurance charity care paso health charge master prices hours visitation cafeteria menus find facility medical records prescriptions volunteer adult volunteers pastoral care juniors volunteer login hospital affiliations awards finances nursing umc foundation pharmacy residency pgy1 government relations community programs community coalition partnership ccp paso occupant protection program injury prevention nurse family partnership leadership board managers administration medical staff officers meetings board finance board meeting videos region rhp documents learning collaboratives meetings archives legal disclaimer joint commission privacy statement public notice community health needs assessment medical staff services compliance nondiscrimination notice code conduct conflict interest disclosure joint notice privacy practices anonymous reporting affiliations affiliations hospital affiliations university medical center paso affiliation agreements virtually region educational institutions largest partnership texas tech became affiliated texas tech university school medicine established regional academic health sciences center campus designated university medical center paso primary teaching site resident physicians receive post graduate training university medical center paso family practice anesthesiology psychiatry internal medicine pediatrics surgery emergency medicine orthopedic surgery obstetrics gynecology radiology texas tech opened paul foster school medicine university medical center texas tech campus together umc texas tech also home five fellowship programs radiology nephrology sports medicine cardiology gastroenterology university medical center paso also affiliation agreements university texas paso paso community college texas tech university health science paso new mexico state university sul ross state university nursing allied health career students schools programs future nurses therapists technicians etc receive clinical training university medical center paso collaborate many vocational health training programs region told memorandums agreement region educational institutions including area magnet high schools health professions affiliations hospital affiliations awards finances nursing umc foundation pharmacy residency pgy1 government relations medical staff services community programs leadership meetings region rhp legal compliance university medical center paso disclaimer privacy statement nondiscrimination notice joint commission region rhp alameda ave paso designed stantonstreet umc paso university medical center paso documents toggle navigation main number find doctor find doctor verify provider privileges find facility medical services digestive health center cardiology emergency geriatrics imaging services infusion services lab services scherr legate level trauma center maternity men health neurosciences orthopedics outpatient clinics outpatient pharmacy pediatrics border pediatrics rehabilitation spine center neurosurgery surgery women health vascular endovascular surgery west texas regional poison center patients visitors billing insurance hours visitation cafeteria menus find facility medical records prescriptions volunteer hospital community programs leadership meetings region rhp legal medical staff services compliance main number search careers business umc contact api staffing scheduling login myhealthep myhealthep self enroll neighborhood healthcare centers volunteer make payment find doctor find doctor verify provider privileges find facility medical services digestive health center cardiology emergency geriatrics imaging services infusion services lab services scherr legate level trauma center maternity men health neurosciences orthopedics outpatient clinics outpatient pharmacy pediatrics border pediatrics rehabilitation spine center neurosurgery surgery women health vascular endovascular surgery west texas regional poison center patients visitors billing insurance charity care paso health charge master prices hours visitation cafeteria menus find facility medical records prescriptions volunteer adult volunteers pastoral care juniors volunteer login hospital affiliations awards finances nursing umc foundation pharmacy residency pgy1 government relations community programs community coalition partnership ccp paso occupant protection program injury prevention nurse family partnership leadership board managers administration medical staff officers meetings board finance board meeting videos region rhp documents learning collaboratives meetings archives legal disclaimer joint commission privacy statement public notice community health needs assessment medical staff services compliance nondiscrimination notice code conduct conflict interest disclosure joint notice privacy practices anonymous reporting documents documents region rhp documents rhp plan updates dy9 rhp dy9 regional tracker rhp stakeholders forum rhp stakeholder forum agenda rhp15 rhp plan update lpds rhp15 rhp plan update ephd rhp15 rhp plan update ttuhsc rhp15 rhp plan update ehn rhp15 rhp plan update pmh rhp15 rhp plan update umc rhp15 rhp plan update spemc rhp15 rhp plan update epch cost analysis reports dy8 draft dsrip transition plan cms rhp plan stakeholder forum nov anchor plan rhp test sign sheets nov quality improvement quality improvement introduction pdsa worksheet form fillable healthcare enterprise customer healthcare project book sixsigma dsrip umc metrics lean six sigma overview performance matrix capabilities readmissions task force hospital day readmissions committee presentation rev feedback dsrip updates umc dsrip clinic metrics thru dec rev dsrip hospital metrics thru dec rev improvement focused strategies dy7 dy8 protocols attachment pfm protocol dy7 changes highlighted summary proposed dy7 requirements jan texas measure bundle protocol final cat measure specifications introduction v11 category measure specifications v15 cat measure specifications cmhc v15 cat measure specifications lhd v15 summary proposed dy7 requirements rhpxx tpi catc summerdy7 cat summary workbook costs savings guidance dy7 cat measure specifications hospital physician practice v17 rhp providertpi catd octdy7 rhpxx tpixxxxx catc octdy7 rhpxx tpixxxxxx cat3 octdy7 v12 category measure specifications v17 cat measure specifications cmhc v16 cat measure specifications lhd v17 cat measure specifications hospital physician practice v17 category goal calculator cat measure specifications hospital physician practice v18 dy9 dy10 protocols draft provider dy9 valuations mpts summary pfm changes dy9 draft attachment pfm protocol dy9 provider template rhp stakeholders forum agenda rhp stakeholder forum rhp plan stakeholder forum apr rhp15 stakeholders forum sign sheets allocations bundle selections rhp15 submission healthy paso del norte report final english rhp plan submission action plan rhp plan submission timeline rhp15 plan submission core activities menus aug rhp participation certifications form rhp plan update companion document functional rhp plan update template v03 rhp rhp rhp rhp rhp rhp rhp rhp rhp anchor template rev apr rhp anchor template rhp plan stakeholder forum apr rhp regional tracker new dsrip faqs category faq sheet anchor questions dy7 category specifications faq category faq sheet category specifications faq faq transitionproposals category specifications faq paso del norte regional strategic health framework paso del norte regional strategic health framework healthy paso del norte report final english updated category template oct dy6 updated category template dy6 updated category template dy6 category workbook cat summary workbook revised rhp plan dy1 dy6 rhp15 sectionicontacts pasodelnorteregionalstrategichealthframework regionalstrategichealthframeworkneedsassessmentreport certification ttuhsc certification tenet certification puthoff sweeney certification lpds certification umc certification epch certification ehn certification andrews sweeney certification city paso certification andrews sweeney certification eppc rhp plan template year projects rhp plan template year projects umcep executiveoverview updated may updated executive overview pasodelnorteregionalstrategichealthframework regionalstrategichealthframeworkneedsassessmentreport rhp15 sectionicontacts executive summaries categories projects project executive summaries original rhp plan submissions paso complete rhp plan region paso complete rhp plan region prioritized list year projects scoring committee minutes oct adding3yrprojects prioritized list projects rank region scoring committee agenda region final plan documents cms workbook overview dsrip rhp workbook data rhp15 comments section rhp15 technical review valuation regional strategic health framework needs assessment report regional strategic health framework needs assessment report paso del norte regional strategic health framework rhp dsrip allocation dys paso region performing providers allocations rhp planning protocol dsrip menu rhp planning protocol texas waiver project summaries proposed dsrip project summaries post dsrip protocol approval pfm protocol submission cms final approved umcep welcome letter pdf umcep welcome letter rhp participants paso children hospital dsrip project update dy5 epch ttuhsc school medicine san vicente project vida health center international aids empowerment paso del norte health information exchange emergence health network las palmas del sol healthcare hospice paso inc paso county medical society paso specialty hospital providence memorial hospital sierra providence east paso coalition homeless rescue mission paso paso psychiatric center tender care home health paso county juvenile justice center paso dept public health vna home healthcare hospice county paso ubh paso salvation army paso child guidance center paso county medical society epcms rhp letter epmed dsrip sierra medical center dsrip updates oct learning collaboratives apr rhp anchor minutes 20tp anchormeeting anchormeeting anchormeeting anchormeeting anchormeeting anchormeeting anchormeeting anchormeeting anchormeeting anchormeeting anchormeeting rhp letter anchormeeting anchormeeting anchormeeting anchormeeting anchormeeting anchormeeting anchormeeting hospital medical staff services community programs leadership meetings region rhp documents learning collaboratives meetings archives legal compliance university medical center paso disclaimer privacy statement nondiscrimination notice joint commission region rhp alameda ave paso designed stantonstreet umc paso university medical center paso administration toggle navigation main number find doctor find doctor verify provider privileges find facility medical services digestive health center cardiology emergency geriatrics imaging services infusion services lab services scherr legate level trauma center maternity men health neurosciences orthopedics outpatient clinics outpatient pharmacy pediatrics border pediatrics rehabilitation spine center neurosurgery surgery women health vascular endovascular surgery west texas regional poison center patients visitors billing insurance hours visitation cafeteria menus find facility medical records prescriptions volunteer hospital community programs leadership meetings region rhp legal medical staff services compliance main number search careers business umc contact api staffing scheduling login myhealthep myhealthep self enroll neighborhood healthcare centers volunteer make payment find doctor find doctor verify provider privileges find facility medical services digestive health center cardiology emergency geriatrics imaging services infusion services lab services scherr legate level trauma center maternity men health neurosciences orthopedics outpatient clinics outpatient pharmacy pediatrics border pediatrics rehabilitation spine center neurosurgery surgery women health vascular endovascular surgery west texas regional poison center patients visitors billing insurance charity care paso health charge master prices hours visitation cafeteria menus find facility medical records prescriptions volunteer adult volunteers pastoral care juniors volunteer login hospital affiliations awards finances nursing umc foundation pharmacy residency pgy1 government relations community programs community coalition partnership ccp paso occupant protection program injury prevention nurse family partnership leadership board managers administration medical staff officers meetings board finance board meeting videos region rhp documents learning collaboratives meetings archives legal disclaimer joint commission privacy statement public notice community health needs assessment medical staff services compliance nondiscrimination notice code conduct conflict interest disclosure joint notice privacy practices anonymous reporting administration administration leadership administration administration jacob cintron president chief executive officer michael district chief financial officer maria zampini chief operating officer lorena navedo chief administrative officer joel hendryx chief medical officer amyra daher chief nursing officer jon law chief strategic officer leticia flores chief financial officer ray davis chief information officer cathy gibson chief compliance officer omar villa chief legal officer janel lujan interim chief executive officer paso health dave thomsen chief quality officer hospital medical staff services community programs leadership board managers administration medical staff officers meetings region rhp legal compliance university medical center paso disclaimer privacy statement nondiscrimination notice joint commission region rhp alameda ave paso designed stantonstreet umc paso university medical center paso nondiscrimination notice toggle navigation main number find doctor find doctor verify provider privileges find facility medical services digestive health center cardiology emergency geriatrics imaging services infusion services lab services scherr legate level trauma center maternity men health neurosciences orthopedics outpatient clinics outpatient pharmacy pediatrics border pediatrics rehabilitation spine center neurosurgery surgery women health vascular endovascular surgery west texas regional poison center patients visitors billing insurance hours visitation cafeteria menus find facility medical records prescriptions volunteer hospital community programs leadership meetings region rhp legal medical staff services compliance main number search careers business umc contact api staffing scheduling login myhealthep myhealthep self enroll neighborhood healthcare centers volunteer make payment find doctor find doctor verify provider privileges find facility medical services digestive health center cardiology emergency geriatrics imaging services infusion services lab services scherr legate level trauma center maternity men health neurosciences orthopedics outpatient clinics outpatient pharmacy pediatrics border pediatrics rehabilitation spine center neurosurgery surgery women health vascular endovascular surgery west texas regional poison center patients visitors billing insurance charity care paso health charge master prices hours visitation cafeteria menus find facility medical records prescriptions volunteer adult volunteers pastoral care juniors volunteer login hospital affiliations awards finances nursing umc foundation pharmacy residency pgy1 government relations community programs community coalition partnership ccp paso occupant protection program injury prevention nurse family partnership leadership board managers administration medical staff officers meetings board finance board meeting videos region rhp documents learning collaboratives meetings archives legal disclaimer joint commission privacy statement public notice community health needs assessment medical staff services compliance nondiscrimination notice code conduct conflict interest disclosure joint notice privacy practices anonymous reporting nondiscrimination notice nondiscrimination notice compliance nondiscrimination notice university medical center paso nondiscrimination notice university medical center paso complies applicable federal civil rights laws discriminate basis race color national origin age disability sex university medical center paso exclude people treat differently race color national origin age disability sex university medical center paso provides free aids services people disabilities communicate effectively qualified sign language interpreters written information formats large print audio accessible electronic formats formats free language services people whose primary language english qualified interpreters information written languages access telephonic video interpretation services need services contact administrator duty believe university medical center paso failed provide services discriminated another way basis race color national origin age disability sex file grievance cathy gibson chief compliance waiver officer university medical center paso alameda paso phone fax email cgibson umcelpaso org file grievance person mail fax email need help filing grievance cathy gibson chief compliance waiver officer available help also file civil rights complaint department health human services office civil rights electronically office civil rights complaint portal mail phone department health human services independence avenue room hhh building washington tdd complaint forms available http www hhs gov ocr office file index html spanish atenci habla espa tiene disposici servicios gratuitos asistencia ling stica vietnamese cho chinese korean arabic urdu tagalog filipino paunawa kung nagsasalita tagalog maaari kang gumamit mga serbisyo tulong wika nang walang bayad french attention vous parlez fran ais des services aide linguistique vous sont proposes gratuitement hindi farsi german achtung wenn sie deutsch sprechen stehen ihnen kostenlos sprachliche hilfsdienstleistungen zur verfu gung gujarati russian japanese lao hospital medical staff services community programs leadership meetings region rhp legal compliance nondiscrimination notice code conduct conflict interest disclosure joint notice privacy practices anonymous reporting university medical center paso disclaimer privacy statement nondiscrimination notice joint commission region rhp alameda ave paso designed stantonstreet umc paso university medical center paso hospital toggle navigation main number find doctor find doctor verify provider privileges find facility medical services digestive health center cardiology emergency geriatrics imaging services infusion services lab services scherr legate level trauma center maternity men health neurosciences orthopedics outpatient clinics outpatient pharmacy pediatrics border pediatrics rehabilitation spine center neurosurgery surgery women health vascular endovascular surgery west texas regional poison center patients visitors billing insurance hours visitation cafeteria menus find facility medical records prescriptions volunteer hospital community programs leadership meetings region rhp legal medical staff services compliance main number search careers business umc contact api staffing scheduling login myhealthep myhealthep self enroll neighborhood healthcare centers volunteer make payment find doctor find doctor verify provider privileges find facility medical services digestive health center cardiology emergency geriatrics imaging services infusion services lab services scherr legate level trauma center maternity men health neurosciences orthopedics outpatient clinics outpatient pharmacy pediatrics border pediatrics rehabilitation spine center neurosurgery surgery women health vascular endovascular surgery west texas regional poison center patients visitors billing insurance charity care paso health charge master prices hours visitation cafeteria menus find facility medical records prescriptions volunteer adult volunteers pastoral care juniors volunteer login hospital affiliations awards finances nursing umc foundation pharmacy residency pgy1 government relations community programs community coalition partnership ccp paso occupant protection program injury prevention nurse family partnership leadership board managers administration medical staff officers meetings board finance board meeting videos region rhp documents learning collaboratives meetings archives legal disclaimer joint commission privacy statement public notice community health needs assessment medical staff services compliance nondiscrimination notice code conduct conflict interest disclosure joint notice privacy practices anonymous reporting hospital hospital hospital unlike hospitals area university medical center paso owned people paso umc city profit community hospital means umc allegiances one people umc serves work began two story adobe building move alameda happened year later residents area raised money build new hospital called paso general pasoans voted create paso county hospital district agreed tax ensure quality healthcare services would available city especially neediest residents thomason general hospital built honor city former mayor congressman federal judge robert ewing thomason july became university medical center paso umc opens expanded service outpatient care opening new clinics east west sides paso umc designated joint commission nation highest standard medical accreditation comprehensive stroke center umc also designated state texas level stroke center umc becomes first level maternal care hospital paso designated texas department state health services umc one two hospitals paso care victims aug shooting killed pasoans umc expertise trauma care ensured victims arrived hospital alive day survived today though main campus emergency department expanded modernized numersous times umc introduced first satellite emergency departments state ofthe art emergency departments located east west paso equipped latest medical equipment technology available serving people umc becomes foremost hospital paso provide vaccinations paso community response ongoing covid pandemic largest public health crisis since pandemic hospital two years old values university medical center paso mission remained serve seek help regardless ability pay umc guided values community pursue access healthcare members community accountability embrace responsibility outcomes resulting choices actions respect treat everyone dignity compassion excellence provide highest quality care service exceed customer expectations every time hospital affiliations awards finances nursing umc foundation pharmacy residency pgy1 government relations medical staff services community programs leadership meetings region rhp legal compliance university medical center paso disclaimer privacy statement nondiscrimination notice joint commission region rhp alameda ave paso designed stantonstreet umc paso university medical center paso injury prevention toggle navigation main number find doctor find doctor verify provider privileges find facility medical services digestive health center cardiology emergency geriatrics imaging services infusion services lab services scherr legate level trauma center maternity men health neurosciences orthopedics outpatient clinics outpatient pharmacy pediatrics border pediatrics rehabilitation spine center neurosurgery surgery women health vascular endovascular surgery west texas regional poison center patients visitors billing insurance hours visitation cafeteria menus find facility medical records prescriptions volunteer hospital community programs leadership meetings region rhp legal medical staff services compliance main number search careers business umc contact api staffing scheduling login myhealthep myhealthep self enroll neighborhood healthcare centers volunteer make payment find doctor find doctor verify provider privileges find facility medical services digestive health center cardiology emergency geriatrics imaging services infusion services lab services scherr legate level trauma center maternity men health neurosciences orthopedics outpatient clinics outpatient pharmacy pediatrics border pediatrics rehabilitation spine center neurosurgery surgery women health vascular endovascular surgery west texas regional poison center patients visitors billing insurance charity care paso health charge master prices hours visitation cafeteria menus find facility medical records prescriptions volunteer adult volunteers pastoral care juniors volunteer login hospital affiliations awards finances nursing umc foundation pharmacy residency pgy1 government relations community programs community coalition partnership ccp paso occupant protection program injury prevention nurse family partnership leadership board managers administration medical staff officers meetings board finance board meeting videos region rhp documents learning collaboratives meetings archives legal disclaimer joint commission privacy statement public notice community health needs assessment medical staff services compliance nondiscrimination notice code conduct conflict interest disclosure joint notice privacy practices anonymous reporting injury prevention injury prevention community programs injury prevention prevention division provides community outreach programs include various topics safety prevention falls pedestrian bike safety occupant protections collaboration different agencies coordinate community events promote public awareness safety topics hospital medical staff services community programs community coalition partnership ccp paso occupant protection program injury prevention nurse family partnership leadership meetings region rhp legal compliance contact information phone university medical center paso disclaimer privacy statement nondiscrimination notice joint commission region rhp alameda ave paso designed stantonstreet umc paso university medical center paso joint notice privacy practices toggle navigation main number find doctor find doctor verify provider privileges find facility medical services digestive health center cardiology emergency geriatrics imaging services infusion services lab services scherr legate level trauma center maternity men health neurosciences orthopedics outpatient clinics outpatient pharmacy pediatrics border pediatrics rehabilitation spine center neurosurgery surgery women health vascular endovascular surgery west texas regional poison center patients visitors billing insurance hours visitation cafeteria menus find facility medical records prescriptions volunteer hospital community programs leadership meetings region rhp legal medical staff services compliance main number search careers business umc contact api staffing scheduling login myhealthep myhealthep self enroll neighborhood healthcare centers volunteer make payment find doctor find doctor verify provider privileges find facility medical services digestive health center cardiology emergency geriatrics imaging services infusion services lab services scherr legate level trauma center maternity men health neurosciences orthopedics outpatient clinics outpatient pharmacy pediatrics border pediatrics rehabilitation spine center neurosurgery surgery women health vascular endovascular surgery west texas regional poison center patients visitors billing insurance charity care paso health charge master prices hours visitation cafeteria menus find facility medical records prescriptions volunteer adult volunteers pastoral care juniors volunteer login hospital affiliations awards finances nursing umc foundation pharmacy residency pgy1 government relations community programs community coalition partnership ccp paso occupant protection program injury prevention nurse family partnership leadership board managers administration medical staff officers meetings board finance board meeting videos region rhp documents learning collaboratives meetings archives legal disclaimer joint commission privacy statement public notice community health needs assessment medical staff services compliance nondiscrimination notice code conduct conflict interest disclosure joint notice privacy practices anonymous reporting joint notice privacy practices joint notice privacy practices compliance joint notice privacy practices effective date september revision date may version notice describes medical information may used disclosed get access information please review carefully purpose university medical center paso umc paso children hospital epch separately licensed hospitals umc members workforce including professional staff employees students volunteers follow privacy practices described notice umc maintains medical information records kept confidential manner required law note words patient means patient parent legal guardian epch members workforce including professional staff employees students volunteers follow privacy practices described notice epch maintains medical information records kept confidential manner required law note words patient means patient parent legal guardian umc epch must use disclose medical information extent necessary provide quality health care umc epch must share medical information entities necessary treatment payment health care operations medical information may shared either printed electronic format information may shared among health care providers involved care treatment purposes example physician may share information condition pharmacist discuss appropriate medications radiologists consultants order make diagnosis umc epch may use medical information required insurer hmo obtain payment treatment hospital stay umc epch may use disclose medical information improve quality care review training purposes part health care operations may request restrict disclosure protected health information phi health plan payment health care operations phi pertains health care items services paid full pocket patient representatives phi medical information may used unless ask restrictions specific use disclosure following purposes hospital directory may include name general condition location hospital religious affiliation hospital chaplain member clergy family members close friends involved care payment treatment disaster relief agency involved disaster relief effort appointment reminders inform treatment alternatives benefits services related health opportunity refuse receive information required law public health activities including disease prevention injury disability reporting births deaths reporting child abuse neglect reporting reactions medications product problems notification recalls infectious disease control notifying government authorities suspected abuse neglect domestic violence agree required law health oversight activities audits inspections investigations licensure lawsuits disputes attempt provide advance notice subpoena disclosing information law enforcement response court order legal process identify locate individual sought authorities victim crime restricted circumstances death may result criminal conduct criminal conduct occurred hospital premises emergency circumstances relating reporting information crime coroners medical examiners funeral directors organ tissue donation certain research projects prevent serious threat health safety military command authorities member armed forces member foreign military authority national security intelligence activities protection president authorized persons foreign heads state conduct special investigations inmates medical information inmates correctional institutions may released institution workers compensation medical information regarding benefits work related illnesses may released appropriate carry health care treatment payment operations functions business associates install new computer system customer satisfaction surveys fundraising activities may disclose medical information university medical center foundation paso children hospital foundation foundation may contact raising money umc epch provide information activities programs umc epch solicit support mission umc epch release contact information patient parent legal guardian name address phone number age gender insurance status dates treatment hospital may opt receiving fundraising communications contacting university medical center foundation www umcfoundationelpaso org paso children hospital foundation www elpasochildrensfoundation org phi may used disclosed health care providers health care entities treatment payment health care operations purposes public health activities permitted law paso del norte health information exchange phix example information past medical care current medical conditions medications available primary care physicians hospitals participate phix exchange health information provide faster access better coordination care assist providers public health officials making informed treatment decisions may opt phix prevent providers able search information exchange may opt prevent medical information searched phix completing signing hospital health information exchange opt form giving person listed form authorization required disclosures except described use disclose medical information unless authorize permit umc epch writing disclose information may revoke permission effective date written revocation rights regarding medical information following rights regarding medical information provided make written request invoke right form provided umc epch right request restriction may request limitations medical information use disclose health care treatment payment operations may ask disclose particular surgery required agree request agree comply request unless information needed provide emergency treatment right confidential communications may request communications certain way certain location must specify wish contacted right inspect copy right inspect receive paper hard copy medical information regarding decisions care however psychotherapy notes may inspected copied may request hospital transmit medical information directly entity person designate direction clear concise specific may charge fee copying mailing supplies limited circumstances request may denied may request review denial another licensed health care professional chosen umc epch hospital comply outcome review right request amendment believe medical information incorrect incomplete may request amendment form provided hospital requires certain specific information hospital required accept amendment right accounting disclosures may request list disclosures medical information made persons entities health care treatment payment operations past six years first request may charge right choose someone act given someone medical power attorney someone legal guardian person exercise rights make choices health information requirements regarding notice umc epch required law provide notice notify breach unsecured protected health information governed notice long effect umc epch may change notice changes effective medical information well information receive future time register umc epch health care services inpatient outpatient may receive copy notice effect time complaints believe privacy rights violated may file complaint umc epch whose contact information listed texas attorney general secretary united states department health human services texas attorney general following address office attorney general consumer protection division box austin texas https www oag state consumer complain shtml secretary united states department health human services http www hhs gov ocr privacy hipaa complaints index html penalized retaliated way making complaint contact complaint questions notice wish request restrictions uses disclosures health care treatment payment operations wish elect receive fundraising activities wish obtain form exercise individual rights described paragraph university medical center paso umc privacy officer alameda avenue paso texas paso children hospital epch privacy officer alameda avenue paso texas documento privacidad espa hospital medical staff services community programs leadership meetings region rhp legal compliance nondiscrimination notice code conduct conflict interest disclosure joint notice privacy practices anonymous reporting university medical center paso disclaimer privacy statement nondiscrimination notice joint commission region rhp alameda ave paso designed stantonstreet umc paso university medical center paso finances toggle navigation main number find doctor find doctor verify provider privileges find facility medical services digestive health center cardiology emergency geriatrics imaging services infusion services lab services scherr legate level trauma center maternity men health neurosciences orthopedics outpatient clinics outpatient pharmacy pediatrics border pediatrics rehabilitation spine center neurosurgery surgery women health vascular endovascular surgery west texas regional poison center patients visitors billing insurance hours visitation cafeteria menus find facility medical records prescriptions volunteer hospital community programs leadership meetings region rhp legal medical staff services compliance main number search careers business umc contact api staffing scheduling login myhealthep myhealthep self enroll neighborhood healthcare centers volunteer make payment find doctor find doctor verify provider privileges find facility medical services digestive health center cardiology emergency geriatrics imaging services infusion services lab services scherr legate level trauma center maternity men health neurosciences orthopedics outpatient clinics outpatient pharmacy pediatrics border pediatrics rehabilitation spine center neurosurgery surgery women health vascular endovascular surgery west texas regional poison center patients visitors billing insurance charity care paso health charge master prices hours visitation cafeteria menus find facility medical records prescriptions volunteer adult volunteers pastoral care juniors volunteer login hospital affiliations awards finances nursing umc foundation pharmacy residency pgy1 government relations community programs community coalition partnership ccp paso occupant protection program injury prevention nurse family partnership leadership board managers administration medical staff officers meetings board finance board meeting videos region rhp documents learning collaboratives meetings archives legal disclaimer joint commission privacy statement public notice community health needs assessment medical staff services compliance nondiscrimination notice code conduct conflict interest disclosure joint notice privacy practices anonymous reporting finances finances hospital finances fiscal financial stability university medical center paso strengthened always improving efficiencies conscientious use resources main campus ambulatory clinics umc affiliated associated organizations along paso health inc paso children hospital umc foundation paso children hospital foundation improved stability ensures programs projects reach tens thousands pasoans view program financial information latest annual report posted bottom page paso county hospital district dba umc continues remain efficient prudent fiscal steward community resources ensure success century old mission tradition high quality care region umc care paso financial documents fiscal operating capital budget property tax rate adoption notice operating capital budget presentation tax rate paso county hospital district tax rate calculation worksheet signed tab district operating capital budget report approved adopted notice public hearing tax increase november finance book audited financial statements september audited financial statement september september september september audited financial statement federal state award program reports september single audit report monthly financial statements october financial statement november december january district financial statement community needs assessment chna chna rating agency reports fitch ratings october moody december standard poors september annual reports annual report download annual report download annual report download annual report annual report annual report annual report annual report hospital affiliations awards finances nursing umc foundation pharmacy residency pgy1 government relations medical staff services community programs leadership meetings region rhp legal compliance university medical center paso disclaimer privacy statement nondiscrimination notice joint commission region rhp alameda ave paso designed stantonstreet umc paso university medical center paso paso occupant protection program toggle navigation main number find doctor find doctor verify provider privileges find facility medical services digestive health center cardiology emergency geriatrics imaging services infusion services lab services scherr legate level trauma center maternity men health neurosciences orthopedics outpatient clinics outpatient pharmacy pediatrics border pediatrics rehabilitation spine center neurosurgery surgery women health vascular endovascular surgery west texas regional poison center patients visitors billing insurance hours visitation cafeteria menus find facility medical records prescriptions volunteer hospital community programs leadership meetings region rhp legal medical staff services compliance main number search careers business umc contact api staffing scheduling login myhealthep myhealthep self enroll neighborhood healthcare centers volunteer make payment find doctor find doctor verify provider privileges find facility medical services digestive health center cardiology emergency geriatrics imaging services infusion services lab services scherr legate level trauma center maternity men health neurosciences orthopedics outpatient clinics outpatient pharmacy pediatrics border pediatrics rehabilitation spine center neurosurgery surgery women health vascular endovascular surgery west texas regional poison center patients visitors billing insurance charity care paso health charge master prices hours visitation cafeteria menus find facility medical records prescriptions volunteer adult volunteers pastoral care juniors volunteer login hospital affiliations awards finances nursing umc foundation pharmacy residency pgy1 government relations community programs community coalition partnership ccp paso occupant protection program injury prevention nurse family partnership leadership board managers administration medical staff officers meetings board finance board meeting videos region rhp documents learning collaboratives meetings archives legal disclaimer joint commission privacy statement public notice community health needs assessment medical staff services compliance nondiscrimination notice code conduct conflict interest disclosure joint notice privacy practices anonymous reporting paso occupant protection program paso occupant protection program community programs paso occupant protection program cincinnati children hospital partnership toyota funds university medical center paso buckle life child safety seat program umc child safety seat initiatives managed trauma services injury prevention education team educate families paso district well hudspeth brewster culberson presidio jeff davis counties car safety child restraint use grant also provides various objectives activities include car seat events educational classes occupant protection pedestrians hospital medical staff services community programs community coalition partnership ccp paso occupant protection program injury prevention nurse family partnership leadership meetings region rhp legal compliance university medical center paso disclaimer privacy statement nondiscrimination notice joint commission region rhp alameda ave paso designed stantonstreet umc paso university medical center paso region rhp toggle navigation main number find doctor find doctor verify provider privileges find facility medical services digestive health center cardiology emergency geriatrics imaging services infusion services lab services scherr legate level trauma center maternity men health neurosciences orthopedics outpatient clinics outpatient pharmacy pediatrics border pediatrics rehabilitation spine center neurosurgery surgery women health vascular endovascular surgery west texas regional poison center patients visitors billing insurance hours visitation cafeteria menus find facility medical records prescriptions volunteer hospital community programs leadership meetings region rhp legal medical staff services compliance main number search careers business umc contact api staffing scheduling login myhealthep myhealthep self enroll neighborhood healthcare centers volunteer make payment find doctor find doctor verify provider privileges find facility medical services digestive health center cardiology emergency geriatrics imaging services infusion services lab services scherr legate level trauma center maternity men health neurosciences orthopedics outpatient clinics outpatient pharmacy pediatrics border pediatrics rehabilitation spine center neurosurgery surgery women health vascular endovascular surgery west texas regional poison center patients visitors billing insurance charity care paso health charge master prices hours visitation cafeteria menus find facility medical records prescriptions volunteer adult volunteers pastoral care juniors volunteer login hospital affiliations awards finances nursing umc foundation pharmacy residency pgy1 government relations community programs community coalition partnership ccp paso occupant protection program injury prevention nurse family partnership leadership board managers administration medical staff officers meetings board finance board meeting videos region rhp documents learning collaboratives meetings archives legal disclaimer joint commission privacy statement public notice community health needs assessment medical staff services compliance nondiscrimination notice code conduct conflict interest disclosure joint notice privacy practices anonymous reporting region rhp region rhp region rhp welcome region regional healthcare partnership rhp final rhp plan submission may region pleased present overview updated regional healthcare partnership rhp plan texas healthcare transformation quality improvement program wavier updated plan provides project narratives workbooks final form following change requests technical corrections made approval process centers medicare medicaid services cms updated plan contains several components available region texas health human services websites entering fourth year five year waiver performing providers continue collaborative efforts fellow partners key stakeholders implement projects within greater paso community reform healthcare delivery system successes date seen due project metrics developed address issues identified community needs assessment top five areas concern listed follows addressing shortages primary care physicians mid level professionals addressing shortages specialty secondary care professionals addressing high incidences diabetes related health problems addressing higher average rates obesity addressing region severe shortage behavioral mental healthcare services development early implementation projects region participants embracing opportunity provide improved access care means waiver program anchor regional partnership university medical center paso joined transformational efforts following partners city paso department health paso children hospital emergence health network ehn las palmas medical center providence memorial hospital sierra providence east medical center texas tech university health science center ttuhsc paso county medical society date providers highly successful timely implementing reporting achievements project milestones goals additionally seven new projects added original plan approved cms demonstration year three consequently region implements total sixty category one two projects representing allocated value greater five hundred million dollars five year term waiver contact information jacob cintron president ceo anchor chair jacob cintron umcelpaso org catherine gibson chief compliance officer waiver representative cgibson umcelpaso org oscar perez waiver program manager oscar perez umcelpaso org ext michael cfo mnunez umcelpaso org hospital medical staff services community programs leadership meetings region rhp documents learning collaboratives meetings archives legal compliance member login log helpful links texas health human services medicaid waiver university medical center paso disclaimer privacy statement nondiscrimination notice joint commission region rhp alameda ave paso designed stantonstreet umc paso university medical center paso conflict interest disclosure toggle navigation main number find doctor find doctor verify provider privileges find facility medical services digestive health center cardiology emergency geriatrics imaging services infusion services lab services scherr legate level trauma center maternity men health neurosciences orthopedics outpatient clinics outpatient pharmacy pediatrics border pediatrics rehabilitation spine center neurosurgery surgery women health vascular endovascular surgery west texas regional poison center patients visitors billing insurance hours visitation cafeteria menus find facility medical records prescriptions volunteer hospital community programs leadership meetings region rhp legal medical staff services compliance main number search careers business umc contact api staffing scheduling login myhealthep myhealthep self enroll neighborhood healthcare centers volunteer make payment find doctor find doctor verify provider privileges find facility medical services digestive health center cardiology emergency geriatrics imaging services infusion services lab services scherr legate level trauma center maternity men health neurosciences orthopedics outpatient clinics outpatient pharmacy pediatrics border pediatrics rehabilitation spine center neurosurgery surgery women health vascular endovascular surgery west texas regional poison center patients visitors billing insurance charity care paso health charge master prices hours visitation cafeteria menus find facility medical records prescriptions volunteer adult volunteers pastoral care juniors volunteer login hospital affiliations awards finances nursing umc foundation pharmacy residency pgy1 government relations community programs community coalition partnership ccp paso occupant protection program injury prevention nurse family partnership leadership board managers administration medical staff officers meetings board finance board meeting videos region rhp documents learning collaboratives meetings archives legal disclaimer joint commission privacy statement public notice community health needs assessment medical staff services compliance nondiscrimination notice code conduct conflict interest disclosure joint notice privacy practices anonymous reporting conflict interest disclosure conflict interest disclosure compliance conflict interest disclosure state law chapter local government code requires filing conflict interest questionnaires certain individuals businesses business paso county hospital district dba university medical center paso questionnaires require disclosures describing certain business gift giving relationships filers may local government officials including members paso county hospital district board managers president chief executive officer officers hospital district complete listing local government officials university medical center paso found end notice law applies businesses individuals contract university medical center paso businesses individuals seek contract university medical center paso regardless whether bidder vendor awarded contract agents represent businesses business dealings university medical center paso local government officers epchd board managers chairperson henry gallardo epchd board managers member carmen arrieta candelaria epchd board managers member joy martinez epchd board managers member veronica carbajal epchd board managers member karen dykes epchd board managers member kristina mena epchd board managers member anna perez epchd president chief executive officer jacob cintron chief executive officer paso health plans frank dominguez epchd chief financial officer michael nunez senior director materials management pedro rene fernandez documents vendor conflict interest questionnaire form local government officer conflict interest statement form questions compliance please consult legal counsel compliance individual responsibility individual business agent subject law filing requirement cathy gibson chief compliance officer university medical center paso alameda avenue paso hospital medical staff services community programs leadership meetings region rhp legal compliance nondiscrimination notice code conduct conflict interest disclosure joint notice privacy practices anonymous reporting university medical center paso disclaimer privacy statement nondiscrimination notice joint commission region rhp alameda ave paso designed stantonstreet umc paso university medical center paso disclaimer toggle navigation main number find doctor find doctor verify provider privileges find facility medical services digestive health center cardiology emergency geriatrics imaging services infusion services lab services scherr legate level trauma center maternity men health neurosciences orthopedics outpatient clinics outpatient pharmacy pediatrics border pediatrics rehabilitation spine center neurosurgery surgery women health vascular endovascular surgery west texas regional poison center patients visitors billing insurance hours visitation cafeteria menus find facility medical records prescriptions volunteer hospital community programs leadership meetings region rhp legal medical staff services compliance main number search careers business umc contact api staffing scheduling login myhealthep myhealthep self enroll neighborhood healthcare centers volunteer make payment find doctor find doctor verify provider privileges find facility medical services digestive health center cardiology emergency geriatrics imaging services infusion services lab services scherr legate level trauma center maternity men health neurosciences orthopedics outpatient clinics outpatient pharmacy pediatrics border pediatrics rehabilitation spine center neurosurgery surgery women health vascular endovascular surgery west texas regional poison center patients visitors billing insurance charity care paso health charge master prices hours visitation cafeteria menus find facility medical records prescriptions volunteer adult volunteers pastoral care juniors volunteer login hospital affiliations awards finances nursing umc foundation pharmacy residency pgy1 government relations community programs community coalition partnership ccp paso occupant protection program injury prevention nurse family partnership leadership board managers administration medical staff officers meetings board finance board meeting videos region rhp documents learning collaboratives meetings archives legal disclaimer joint commission privacy statement public notice community health needs assessment medical staff services compliance nondiscrimination notice code conduct conflict interest disclosure joint notice privacy practices anonymous reporting disclaimer disclaimer legal disclaimer information compiled made available public service paso county hospital district however paso county hospital district makes warranty accuracy reliability completeness information responsible errors omissions results obtained use information information page intended educate individuals subjects pertinent health intended provide medical advice substitute consultation personal physician distribution information constitute warranty use information sole responsibility user prohibition private communications procurement process businesses individuals respond requests qualifications rfq requests proposals rfp competitive bid let paso county hospital district may engage private communications member board managers hospital district procurement process private communication means communication communication takes place posted meeting full board managers meeting committee board managers meeting specifically authorized board purpose communicating potential vendor procurement process begins upon issuance rfq rfp bid continues selection vendor execution contract vendor prohibition private contacts mandated county code ethics adopted paso county commissioners applies paso county hospital district board managers hospital medical staff services community programs leadership meetings region rhp legal disclaimer joint commission privacy statement public notice community health needs assessment compliance university medical center paso disclaimer privacy statement nondiscrimination notice joint commission region rhp alameda ave paso designed stantonstreet umc paso university medical center paso board meeting videos toggle navigation main number find doctor find doctor verify provider privileges find facility medical services digestive health center cardiology emergency geriatrics imaging services infusion services lab services scherr legate level trauma center maternity men health neurosciences orthopedics outpatient clinics outpatient pharmacy pediatrics border pediatrics rehabilitation spine center neurosurgery surgery women health vascular endovascular surgery west texas regional poison center patients visitors billing insurance hours visitation cafeteria menus find facility medical records prescriptions volunteer hospital community programs leadership meetings region rhp legal medical staff services compliance main number search careers business umc contact api staffing scheduling login myhealthep myhealthep self enroll neighborhood healthcare centers volunteer make payment find doctor find doctor verify provider privileges find facility medical services digestive health center cardiology emergency geriatrics imaging services infusion services lab services scherr legate level trauma center maternity men health neurosciences orthopedics outpatient clinics outpatient pharmacy pediatrics border pediatrics rehabilitation spine center neurosurgery surgery women health vascular endovascular surgery west texas regional poison center patients visitors billing insurance charity care paso health charge master prices hours visitation cafeteria menus find facility medical records prescriptions volunteer adult volunteers pastoral care juniors volunteer login hospital affiliations awards finances nursing umc foundation pharmacy residency pgy1 government relations community programs community coalition partnership ccp paso occupant protection program injury prevention nurse family partnership leadership board managers administration medical staff officers meetings board finance board meeting videos region rhp documents learning collaboratives meetings archives legal disclaimer joint commission privacy statement public notice community health needs assessment medical staff services compliance nondiscrimination notice code conduct conflict interest disclosure joint notice privacy practices anonymous reporting board meeting videos board meeting videos meetings board meeting videos board meeting videos aug march february january december november october september august hospital medical staff services community programs leadership meetings board finance board meeting videos region rhp legal compliance university medical center paso disclaimer privacy statement nondiscrimination notice joint commission region rhp alameda ave paso designed stantonstreet umc paso university medical center paso finance toggle navigation main number find doctor find doctor verify provider privileges find facility medical services digestive health center cardiology emergency geriatrics imaging services infusion services lab services scherr legate level trauma center maternity men health neurosciences orthopedics outpatient clinics outpatient pharmacy pediatrics border pediatrics rehabilitation spine center neurosurgery surgery women health vascular endovascular surgery west texas regional poison center patients visitors billing insurance hours visitation cafeteria menus find facility medical records prescriptions volunteer hospital community programs leadership meetings region rhp legal medical staff services compliance main number search careers business umc contact api staffing scheduling login myhealthep myhealthep self enroll neighborhood healthcare centers volunteer make payment find doctor find doctor verify provider privileges find facility medical services digestive health center cardiology emergency geriatrics imaging services infusion services lab services scherr legate level trauma center maternity men health neurosciences orthopedics outpatient clinics outpatient pharmacy pediatrics border pediatrics rehabilitation spine center neurosurgery surgery women health vascular endovascular surgery west texas regional poison center patients visitors billing insurance charity care paso health charge master prices hours visitation cafeteria menus find facility medical records prescriptions volunteer adult volunteers pastoral care juniors volunteer login hospital affiliations awards finances nursing umc foundation pharmacy residency pgy1 government relations community programs community coalition partnership ccp paso occupant protection program injury prevention nurse family partnership leadership board managers administration medical staff officers meetings board finance board meeting videos region rhp documents learning collaboratives meetings archives legal disclaimer joint commission privacy statement public notice community health needs assessment medical staff services compliance nondiscrimination notice code conduct conflict interest disclosure joint notice privacy practices anonymous reporting finance finance meetings finance finance meetings april agenda stamped finance committee agenda download zip february agenda stamped finance committee agenda download zip january agenda stamped finance committee agenda download zip december agenda stamped finance committee agenda download zip october agenda stamped finance committee agenda download zip september agenda stamped finance committee agenda download zip august agenda stamped finance committee agenda download zip july agenda stamped finance committee agenda download zip june agenda stamped finance committee agenda download zip may agenda stamped finance committee agenda download zip april agenda stamped finance committee agenda download zip march agenda stamped finance committee agenda download zip february agenda stamped finance committee agenda download zip january agenda stamped finance committee agenda download zip december agenda stamped finance committee agenda download zip october agenda stamped finance committee agenda download zip september agenda finance committee agenda date stamped download zip august agenda stamped finance committee agenda date stamping download zip july agenda stamped finance committee agenda date stamping download zip june agenda stamped finance committee agenda download zip may agenda stamped finance committe agenda download zip april agenda stamped finance committee agenda download zip march agenda finance committee agenda final date stamped download zip february agenda finance committee agenda date stamped download zip january agenda finance committee agenda date stamped download zip december agenda finance committee agenda date stamped download zip october agenda finance committee agenda date stamped download zip september agenda finance committee agenda date stamped download zip august agenda finance committe agenda date stamped download zip july agenda finance agenda date stamped download zip june agenda finance committee agenda date stamped download zip may agenda finance committee agenda date stamped download zip april agenda finance committee agenda date stamped download zip march agenda epchd finance agenda date stamped download zip february agenda finance committee agenda date stamped download zip january agenda finance committee agenda date stamped download zip november agenda finance committee agenda date stamped download zip october agenda finance committee agenda date stamped download zip september agenda finance committe agenda download zip august agenda epchd finance committee meeting agenda download zip july agenda epchd finance committee meeting agenda download zip june agenda epchd financecomitte meeting agenda date stamped download zip may agenda epchd finance committee meeting agenda date stamped download zip april agenda finance committee agenda date stamped download zip march agenda agenda finance committee meeting download zip february agenda meeting finance committee meeting agenda date stamped download zip january agenda meeting umc agenda date stamped download zip november agenda finance committee agenda date stamped download zip october agenda finance committee agenda date stamped download zip september agenda finance committee agenda date stamped minutes finance committee meeting minutes signed download zip august agenda finance committee agenda date stamped minutes finance committee meeting minutes signed download zip july agenda finance committee agenda date stamped minutes finance committee meeting minutes signed download zip june agenda finance committee agenda stamped minutes finance committee meeting minutes signed download zip may agenda finance committee agenda stamped minutes finance committee minutes signed download zip april agenda finance committee agenda stamped minutes finance committee minutes signed download zip march agenda stamped copy finance committee minutes finance committee minutes signed download zip march agenda finance committee agendapdf minutes finance committee minutes signed download zip january agenda stamped finance agenda minutes finance committee meeting minutes download zip january special agenda finance committee minutes special finance committee meeting minutes download zip hospital medical staff services community programs leadership meetings board finance board meeting videos region rhp legal compliance university medical center paso disclaimer privacy statement nondiscrimination notice joint commission region rhp alameda ave paso designed stantonstreet umc paso university medical center paso joint commission toggle navigation main number find doctor find doctor verify provider privileges find facility medical services digestive health center cardiology emergency geriatrics imaging services infusion services lab services scherr legate level trauma center maternity men health neurosciences orthopedics outpatient clinics outpatient pharmacy pediatrics border pediatrics rehabilitation spine center neurosurgery surgery women health vascular endovascular surgery west texas regional poison center patients visitors billing insurance hours visitation cafeteria menus find facility medical records prescriptions volunteer hospital community programs leadership meetings region rhp legal medical staff services compliance main number search careers business umc contact api staffing scheduling login myhealthep myhealthep self enroll neighborhood healthcare centers volunteer make payment find doctor find doctor verify provider privileges find facility medical services digestive health center cardiology emergency geriatrics imaging services infusion services lab services scherr legate level trauma center maternity men health neurosciences orthopedics outpatient clinics outpatient pharmacy pediatrics border pediatrics rehabilitation spine center neurosurgery surgery women health vascular endovascular surgery west texas regional poison center patients visitors billing insurance charity care paso health charge master prices hours visitation cafeteria menus find facility medical records prescriptions volunteer adult volunteers pastoral care juniors volunteer login hospital affiliations awards finances nursing umc foundation pharmacy residency pgy1 government relations community programs community coalition partnership ccp paso occupant protection program injury prevention nurse family partnership leadership board managers administration medical staff officers meetings board finance board meeting videos region rhp documents learning collaboratives meetings archives legal disclaimer joint commission privacy statement public notice community health needs assessment medical staff services compliance nondiscrimination notice code conduct conflict interest disclosure joint notice privacy practices anonymous reporting joint commission joint commission legal joint commission mission joint commission tjc continuously improve safety quality care provided public provision healthcare accreditation related services support performance improvement healthcare organizations tjc conducts periodic unannounced accreditation surveys university medical center paso purpose surveys evaluate university medical center paso compliance nationally established joint commission standards survey results used determine whether conditions accreditation awarded organization university medical center paso fully accredited joint commission operates gold seal safety quality concern encouraged call ceo office resolution jacob cintron president ceo safety quality concerns addressed satisfaction prefer contact joint commission www jointcommission org click tab report safety event fax mail joint commission office quality patient safety one renaissance boulevard oakbrook terrace illinois joint commission office quality monitoring acknowledge writing concerns received account representative contact individual notice posted accordance joint commission requirements may removed hospital medical staff services community programs leadership meetings region rhp legal disclaimer joint commission privacy statement public notice community health needs assessment compliance university medical center paso disclaimer privacy statement nondiscrimination notice joint commission region rhp alameda ave paso designed stantonstreet umc paso university medical center paso legal toggle navigation main number find doctor find doctor verify provider privileges find facility medical services digestive health center cardiology emergency geriatrics imaging services infusion services lab services scherr legate level trauma center maternity men health neurosciences orthopedics outpatient clinics outpatient pharmacy pediatrics border pediatrics rehabilitation spine center neurosurgery surgery women health vascular endovascular surgery west texas regional poison center patients visitors billing insurance hours visitation cafeteria menus find facility medical records prescriptions volunteer hospital community programs leadership meetings region rhp legal medical staff services compliance main number search careers business umc contact api staffing scheduling login myhealthep myhealthep self enroll neighborhood healthcare centers volunteer make payment find doctor find doctor verify provider privileges find facility medical services digestive health center cardiology emergency geriatrics imaging services infusion services lab services scherr legate level trauma center maternity men health neurosciences orthopedics outpatient clinics outpatient pharmacy pediatrics border pediatrics rehabilitation spine center neurosurgery surgery women health vascular endovascular surgery west texas regional poison center patients visitors billing insurance charity care paso health charge master prices hours visitation cafeteria menus find facility medical records prescriptions volunteer adult volunteers pastoral care juniors volunteer login hospital affiliations awards finances nursing umc foundation pharmacy residency pgy1 government relations community programs community coalition partnership ccp paso occupant protection program injury prevention nurse family partnership leadership board managers administration medical staff officers meetings board finance board meeting videos region rhp documents learning collaboratives meetings archives legal disclaimer joint commission privacy statement public notice community health needs assessment medical staff services compliance nondiscrimination notice code conduct conflict interest disclosure joint notice privacy practices anonymous reporting legal legal legal section includes legal notices general disclaimers joint commission notices privacy statements public notices hospital medical staff services community programs leadership meetings region rhp legal disclaimer joint commission privacy statement public notice community health needs assessment compliance university medical center paso disclaimer privacy statement nondiscrimination notice joint commission region rhp alameda ave paso designed stantonstreet umc paso university medical center paso board managers toggle navigation main number find doctor find doctor verify provider privileges find facility medical services digestive health center cardiology emergency geriatrics imaging services infusion services lab services scherr legate level trauma center maternity men health neurosciences orthopedics outpatient clinics outpatient pharmacy pediatrics border pediatrics rehabilitation spine center neurosurgery surgery women health vascular endovascular surgery west texas regional poison center patients visitors billing insurance hours visitation cafeteria menus find facility medical records prescriptions volunteer hospital community programs leadership meetings region rhp legal medical staff services compliance main number search careers business umc contact api staffing scheduling login myhealthep myhealthep self enroll neighborhood healthcare centers volunteer make payment find doctor find doctor verify provider privileges find facility medical services digestive health center cardiology emergency geriatrics imaging services infusion services lab services scherr legate level trauma center maternity men health neurosciences orthopedics outpatient clinics outpatient pharmacy pediatrics border pediatrics rehabilitation spine center neurosurgery surgery women health vascular endovascular surgery west texas regional poison center patients visitors billing insurance charity care paso health charge master prices hours visitation cafeteria menus find facility medical records prescriptions volunteer adult volunteers pastoral care juniors volunteer login hospital affiliations awards finances nursing umc foundation pharmacy residency pgy1 government relations community programs community coalition partnership ccp paso occupant protection program injury prevention nurse family partnership leadership board managers administration medical staff officers meetings board finance board meeting videos region rhp documents learning collaboratives meetings archives legal disclaimer joint commission privacy statement public notice community health needs assessment medical staff services compliance nondiscrimination notice code conduct conflict interest disclosure joint notice privacy practices anonymous reporting board managers board managers leadership board managers board managers henry gallardo board chair joy martinez board vice chair kristina mena board secretary veronica carbajal board member anna perez board member carlos martinez board member hospital medical staff services community programs leadership board managers administration medical staff officers meetings region rhp legal compliance university medical center paso disclaimer privacy statement nondiscrimination notice joint commission region rhp alameda ave paso designed stantonstreet umc paso university medical center paso awards toggle navigation main number find doctor find doctor verify provider privileges find facility medical services digestive health center cardiology emergency geriatrics imaging services infusion services lab services scherr legate level trauma center maternity men health neurosciences orthopedics outpatient clinics outpatient pharmacy pediatrics border pediatrics rehabilitation spine center neurosurgery surgery women health vascular endovascular surgery west texas regional poison center patients visitors billing insurance hours visitation cafeteria menus find facility medical records prescriptions volunteer hospital community programs leadership meetings region rhp legal medical staff services compliance main number search careers business umc contact api staffing scheduling login myhealthep myhealthep self enroll neighborhood healthcare centers volunteer make payment find doctor find doctor verify provider privileges find facility medical services digestive health center cardiology emergency geriatrics imaging services infusion services lab services scherr legate level trauma center maternity men health neurosciences orthopedics outpatient clinics outpatient pharmacy pediatrics border pediatrics rehabilitation spine center neurosurgery surgery women health vascular endovascular surgery west texas regional poison center patients visitors billing insurance charity care paso health charge master prices hours visitation cafeteria menus find facility medical records prescriptions volunteer adult volunteers pastoral care juniors volunteer login hospital affiliations awards finances nursing umc foundation pharmacy residency pgy1 government relations community programs community coalition partnership ccp paso occupant protection program injury prevention nurse family partnership leadership board managers administration medical staff officers meetings board finance board meeting videos region rhp documents learning collaboratives meetings archives legal disclaimer joint commission privacy statement public notice community health needs assessment medical staff services compliance nondiscrimination notice code conduct conflict interest disclosure joint notice privacy practices anonymous reporting awards awards hospital awards top hospitals umc earned recognition two times one nation top performing hospitals study titled top hospitals benchmarks success study done annually truven health analytics formerly thomson reuters help identify hospitals demonstrate superior performance basis key measures related clinical practices operations financial management umc paso hospital ever earn recognition tmf health quality institute recently tmf health quality institute medicare quality improvement organization texas presented umc silver award performance related appropriate care measures umc hospital district texas receive award additional accolades year span umc ascended last first market according edge healthcare research inc hospital preference pasoans umc regarded local academic institutions hospital choice health careers also received department health human service medal honor four times saving lives organ donation program umc conversion rate number potential donors actually become organ donors exceeds federal government goal hospitals hospital affiliations awards finances nursing umc foundation pharmacy residency pgy1 government relations medical staff services community programs leadership meetings region rhp legal compliance university medical center paso disclaimer privacy statement nondiscrimination notice joint commission region rhp alameda ave paso designed stantonstreet umc paso university medical center paso community coalition partnership ccp toggle navigation main number find doctor find doctor verify provider privileges find facility medical services digestive health center cardiology emergency geriatrics imaging services infusion services lab services scherr legate level trauma center maternity men health neurosciences orthopedics outpatient clinics outpatient pharmacy pediatrics border pediatrics rehabilitation spine center neurosurgery surgery women health vascular endovascular surgery west texas regional poison center patients visitors billing insurance hours visitation cafeteria menus find facility medical records prescriptions volunteer hospital community programs leadership meetings region rhp legal medical staff services compliance main number search careers business umc contact api staffing scheduling login myhealthep myhealthep self enroll neighborhood healthcare centers volunteer make payment find doctor find doctor verify provider privileges find facility medical services digestive health center cardiology emergency geriatrics imaging services infusion services lab services scherr legate level trauma center maternity men health neurosciences orthopedics outpatient clinics outpatient pharmacy pediatrics border pediatrics rehabilitation spine center neurosurgery surgery women health vascular endovascular surgery west texas regional poison center patients visitors billing insurance charity care paso health charge master prices hours visitation cafeteria menus find facility medical records prescriptions volunteer adult volunteers pastoral care juniors volunteer login hospital affiliations awards finances nursing umc foundation pharmacy residency pgy1 government relations community programs community coalition partnership ccp paso occupant protection program injury prevention nurse family partnership leadership board managers administration medical staff officers meetings board finance board meeting videos region rhp documents learning collaboratives meetings archives legal disclaimer joint commission privacy statement public notice community health needs assessment medical staff services compliance nondiscrimination notice code conduct conflict interest disclosure joint notice privacy practices anonymous reporting community coalition partnership ccp community coalition partnership ccp community programs community coalition partnership ccp ccp community outreach program provides encourages community mobilization implement evidence based environmental strategies primary focus changing policies social norms paso region prevent reduce underage drinking marijuana prescription drugs misuse hospital medical staff services community programs community coalition partnership ccp paso occupant protection program injury prevention nurse family partnership leadership meetings region rhp legal compliance university medical center paso disclaimer privacy statement nondiscrimination notice joint commission region rhp alameda ave paso designed stantonstreet umc paso university medical center paso leadership toggle navigation main number find doctor find doctor verify provider privileges find facility medical services digestive health center cardiology emergency geriatrics imaging services infusion services lab services scherr legate level trauma center maternity men health neurosciences orthopedics outpatient clinics outpatient pharmacy pediatrics border pediatrics rehabilitation spine center neurosurgery surgery women health vascular endovascular surgery west texas regional poison center patients visitors billing insurance hours visitation cafeteria menus find facility medical records prescriptions volunteer hospital community programs leadership meetings region rhp legal medical staff services compliance main number search careers business umc contact api staffing scheduling login myhealthep myhealthep self enroll neighborhood healthcare centers volunteer make payment find doctor find doctor verify provider privileges find facility medical services digestive health center cardiology emergency geriatrics imaging services infusion services lab services scherr legate level trauma center maternity men health neurosciences orthopedics outpatient clinics outpatient pharmacy pediatrics border pediatrics rehabilitation spine center neurosurgery surgery women health vascular endovascular surgery west texas regional poison center patients visitors billing insurance charity care paso health charge master prices hours visitation cafeteria menus find facility medical records prescriptions volunteer adult volunteers pastoral care juniors volunteer login hospital affiliations awards finances nursing umc foundation pharmacy residency pgy1 government relations community programs community coalition partnership ccp paso occupant protection program injury prevention nurse family partnership leadership board managers administration medical staff officers meetings board finance board meeting videos region rhp documents learning collaboratives meetings archives legal disclaimer joint commission privacy statement public notice community health needs assessment medical staff services compliance nondiscrimination notice code conduct conflict interest disclosure joint notice privacy practices anonymous reporting leadership leadership leadership leadership team paso county hospital district commit excellence accept nothing less feel free contact questions comments concerns work people paso board managers board managers paso county hospital district serve without compensation policy setters university medical center paso outpatient facilities appointed posts paso county judge commissioners policy setters university medical center paso outpatient facilities board managers also responsible hiring hospital chief executive officer oversight responsibility paso health district hmo seven member panel appointed members paso county commissioners court serve three year terms administration administrative staff oversee day day operations umc member administrative team responsible directing managing respective departments medical staff officers medical staff officers responsible quality implementation services within departments hospital medical staff services community programs leadership board managers administration medical staff officers meetings region rhp legal compliance contact information board managers phone conflict interest disclosure university medical center paso disclaimer privacy statement nondiscrimination notice joint commission region rhp alameda ave paso designed stantonstreet umc paso university medical center paso toggle navigation main number find doctor find doctor verify provider privileges find facility medical services digestive health center cardiology emergency geriatrics imaging services infusion services lab services scherr legate level trauma center maternity men health neurosciences orthopedics outpatient clinics outpatient pharmacy pediatrics border pediatrics rehabilitation spine center neurosurgery surgery women health vascular endovascular surgery west texas regional poison center patients visitors billing insurance hours visitation cafeteria menus find facility medical records prescriptions volunteer hospital community programs leadership meetings region rhp legal medical staff services compliance main number search careers business umc contact api staffing scheduling login myhealthep myhealthep self enroll neighborhood healthcare centers volunteer make payment find doctor find doctor verify provider privileges find facility medical services digestive health center cardiology emergency geriatrics imaging services infusion services lab services scherr legate level trauma center maternity men health neurosciences orthopedics outpatient clinics outpatient pharmacy pediatrics border pediatrics rehabilitation spine center neurosurgery surgery women health vascular endovascular surgery west texas regional poison center patients visitors billing insurance charity care paso health charge master prices hours visitation cafeteria menus find facility medical records prescriptions volunteer adult volunteers pastoral care juniors volunteer login hospital affiliations awards finances nursing umc foundation pharmacy residency pgy1 government relations community programs community coalition partnership ccp paso occupant protection program injury prevention nurse family partnership leadership board managers administration medical staff officers meetings board finance board meeting videos region rhp documents learning collaboratives meetings archives legal disclaimer joint commission privacy statement public notice community health needs assessment medical staff services compliance nondiscrimination notice code conduct conflict interest disclosure joint notice privacy practices anonymous reporting paso county hospital district healthcare system region committed community accountability respect excellence service ommunity pursue access healthcare members community ccountability embrace responsibility outcomes resulting choices actions espect treat everyone dignity compassion xcellence provide highest quality care ervice exceed customer expectations every time paso county hospital district healthcare system includes following entities university medical center paso acute care teaching hospital umc outpatient clinics primary care centers paso children hospital district pediatric specialized care focused hospital paso health district wholly owned subsidiary hmo university medical center foundation paso children foundation university medical center paso primary teaching institution texas tech university four year paul foster school medicine paso university medical center paso texas tech campus academic healthcare setting far west texas southern new mexico affiliation fact university medical center paso paso profit community owned hospital help ensure high quality healthcare services available regardless ability pay university medical center paso home region level trauma center designated facility receive president united states require medical attention traveling area regional influence also includes hospital mother baby division regional referral center high risk pregnant women state art regional laboratory west texas regional poison center affiliation agreements region educational institutions vitals joint commission accredited licensed beds licensed physicians employees visits outpatient visits births hospital medical staff services community programs leadership meetings region rhp legal compliance mission mission heal serve educate vision vision first choice healthcare southwest university medical center paso disclaimer privacy statement nondiscrimination notice joint commission region rhp alameda ave paso designed stantonstreet umc paso university medical center paso meetings toggle navigation main number find doctor find doctor verify provider privileges find facility medical services digestive health center cardiology emergency geriatrics imaging services infusion services lab services scherr legate level trauma center maternity men health neurosciences orthopedics outpatient clinics outpatient pharmacy pediatrics border pediatrics rehabilitation spine center neurosurgery surgery women health vascular endovascular surgery west texas regional poison center patients visitors billing insurance hours visitation cafeteria menus find facility medical records prescriptions volunteer hospital community programs leadership meetings region rhp legal medical staff services compliance main number search careers business umc contact api staffing scheduling login myhealthep myhealthep self enroll neighborhood healthcare centers volunteer make payment find doctor find doctor verify provider privileges find facility medical services digestive health center cardiology emergency geriatrics imaging services infusion services lab services scherr legate level trauma center maternity men health neurosciences orthopedics outpatient clinics outpatient pharmacy pediatrics border pediatrics rehabilitation spine center neurosurgery surgery women health vascular endovascular surgery west texas regional poison center patients visitors billing insurance charity care paso health charge master prices hours visitation cafeteria menus find facility medical records prescriptions volunteer adult volunteers pastoral care juniors volunteer login hospital affiliations awards finances nursing umc foundation pharmacy residency pgy1 government relations community programs community coalition partnership ccp paso occupant protection program injury prevention nurse family partnership leadership board managers administration medical staff officers meetings board finance board meeting videos region rhp documents learning collaboratives meetings archives legal disclaimer joint commission privacy statement public notice community health needs assessment medical staff services compliance nondiscrimination notice code conduct conflict interest disclosure joint notice privacy practices anonymous reporting meetings meetings meetings board managers paso county hospital district serves without compensation policy setters university medical center paso outpatient facilities appoint district chief executive officer also oversight responsibility paso first health plans inc district hmo umc mission heal serve educate vision first choice healthcare southwest seats seven member panel appointed members paso county commissioners court term year terms may reappointed meeting times 2nd tuesday every month alameda eighth floor boardroom click board meeting videos board documents bylaws procedures boardbylaws boardsop epchd public participation guidelines sop excerpt hospital medical staff services community programs leadership meetings board finance board meeting videos region rhp legal compliance university medical center paso disclaimer privacy statement nondiscrimination notice joint commission region rhp alameda ave paso designed stantonstreet umc paso university medical center paso archives toggle navigation main number find doctor find doctor verify provider privileges find facility medical services digestive health center cardiology emergency geriatrics imaging services infusion services lab services scherr legate level trauma center maternity men health neurosciences orthopedics outpatient clinics outpatient pharmacy pediatrics border pediatrics rehabilitation spine center neurosurgery surgery women health vascular endovascular surgery west texas regional poison center patients visitors billing insurance hours visitation cafeteria menus find facility medical records prescriptions volunteer hospital community programs leadership meetings region rhp legal medical staff services compliance main number search careers business umc contact api staffing scheduling login myhealthep myhealthep self enroll neighborhood healthcare centers volunteer make payment find doctor find doctor verify provider privileges find facility medical services digestive health center cardiology emergency geriatrics imaging services infusion services lab services scherr legate level trauma center maternity men health neurosciences orthopedics outpatient clinics outpatient pharmacy pediatrics border pediatrics rehabilitation spine center neurosurgery surgery women health vascular endovascular surgery west texas regional poison center patients visitors billing insurance charity care paso health charge master prices hours visitation cafeteria menus find facility medical records prescriptions volunteer adult volunteers pastoral care juniors volunteer login hospital affiliations awards finances nursing umc foundation pharmacy residency pgy1 government relations community programs community coalition partnership ccp paso occupant protection program injury prevention nurse family partnership leadership board managers administration medical staff officers meetings board finance board meeting videos region rhp documents learning collaboratives meetings archives legal disclaimer joint commission privacy statement public notice community health needs assessment medical staff services compliance nondiscrimination notice code conduct conflict interest disclosure joint notice privacy practices anonymous reporting archives archives region rhp archives november sign sheets nov dsrip questions rhp dsrip nov presentation learning collaborative questions region ppt survey rhp survey learning collaboratives rhp agenda hhscrhpmtg min september sign sheets sep dsrip project presentation health dept region ppt rhp ttuhsc presentation dy5 project july rhp agenda hhscrhpmtg min august slc agenda hhsc draft shell august sign sheets aug dy6 region ppt rhp agenda hhscrhpmtg min july sign sheets doc rawlings mobile dental clinic region ppt rhp agenda hhscrhpmtg min may umc rescue mission dsrip project region ppt sign sheets rhp agenda hhscrhpmtg min march rhp ttuhsc presentation dy5 project mar epfd presentation rhp ttuhsc presentation dy5 project mar rhp ttuhsc presentation dy5 project mar rhp ttuhsc presentation dy5 project mar sign sheets rhp ttuhsc presentation dy5 project nicu mar rhp agenda hhscrhpmtg min february rhp agenda rhp agenda minutes handouts september dsripextensionplanningandprotocolswebinar hhscrhpmtg min ttuhsc presentation surgical svcs dsripextensionplanningandprotocolswebinar sign sheets ttuhs presentation well child ttuhsc presentation ocular car rhp agenda june ttuhsc nicu presentation region ppt sign sheets doc ttuhsc migs fellowship rhp agenda hhscrhpmtg min may region ppt rhp agenda hhscrhpmtg min march sign sheet meeting dph real data milestone rhp15mtg epdph arvizu vaccinations epdph emerick real data region ppt umc yazdihernandez cauti ttuhsc ambat nicu ttuhsc villanos well child umc watford usg piv presentation rhp agenda hhscrhpmtg min february sign sheet meeting region ppt rhp agenda hhscrhpmtg min january rhp sign sheets region ppt rhp agenda hhscrhpmtg min december rhp agenda region ppt rhp sign sheets hhscrhpmtg min october rhp15 cat template demo rhp sign sheets september rhp sign sheets community health atlas presentation rhp project presentation nicu discharge dy3 region ppt rhp agenda hhscrhpmtg min august rhp presentation august hhsc statewide learning collaborative sew region ppt rhp presentation rhp sign sheets ttsurgery1 5rhp presentation aug rhp agenda hhscrhpmtg min july rhp sign sheets project presentation nicu discharge rhp meeting rhp increasing utilitzation well child exams proj rev rhp ped diabete project region ppt rhp agenda rev hhscrhpmtg min june ttsurgery11rhp presentation june dsrips nurse residency presentation june rhp presentation jun dsrip neurology rhp sign sheets rhp waiver presentation ttsurgery15rhp presentation jun ttsurgery14rhp presentation jun rhp agenda hhscrhpmtg min may rhp sign sheets region ppt rhp agenda hhscrhpmtg min april rhp sign sheets rhp presentation rhp tender care presentation rhp presentation region ppt rhp agenda hhscrhpmtg min march rhp sign sheets city paso border public health interest group city paso health information exchange region ppt rhp presentation oral health update bphig mtg rhp agenda hhscrhpmtg min february ttuhsc category update bphig presentation region ppt sign sheets rhp agenda hhscreg15mtg min january rhp agenda region ppt rhp sign sheets hhscreg15mtg mindoc december rhp agenda region ppt sign sheets hhscreg15mtg mindoc october rhp agenda region ppt prioritized list projects rank rhp sign sheets hhscreg15mtg mindoc september rhp agenda region ppt rhp sign sheets prioritized list projects rank hhscreg15mtg mindoc august rhp agenda region ppt rhp sign sheets hhscreg15mtg mindoc july rhp agenda rhp presentation region ppt sign sheets hhscreg15mtg mindoc june rhp agenda texas tech dsrip rhp presentations tech jun region ppt hhscreg15mtg mindoc april rhp agenda txtech kenworthy pcmh region ppt umc hhscreg15mtg mindoc march rhp agenda region ppt hhscreg15mtg mindoc february rhp agenda region ppt hhscreg15mtg mindoc january rhp agenda hhscreg15mtg mindoc january paso region performing providers allocations december rhp agenda region ppt hhscreg15mtg mindoc november region pass dsrip pass electronic workbook october rhp agenda region ppt hhscreg15mtg min october rhp15 pass1 september rhp agenda region ppt hhscreg15mtg min september instructions pass rhp15 pass1 rhp15 pass1 rhp15 pass1 rhp15 pass1 rhp15 pass1 rhp15 ahsc pass1 rhp15 childrens hosp alt regions pass1 rhp15 cmhc pass1 rhp15 lhd pass1 august rhp agenda region ppt hhscreg15mtg min july rhp agenda region ppt dsrip projects hhsc region meeting minutes june rhp agenda region ppt hhscreg15mtg min may hhscmeeting region ppt hhscreg15mtg april region15orientationagenda region hhscreg15mtg may hospital medical staff services community programs leadership meetings region rhp documents learning collaboratives meetings archives legal compliance university medical center paso disclaimer privacy statement nondiscrimination notice joint commission region rhp alameda ave paso designed stantonstreet umc paso university medical center paso community health needs assessment toggle navigation main number find doctor find doctor verify provider privileges find facility medical services digestive health center cardiology emergency geriatrics imaging services infusion services lab services scherr legate level trauma center maternity men health neurosciences orthopedics outpatient clinics outpatient pharmacy pediatrics border pediatrics rehabilitation spine center neurosurgery surgery women health vascular endovascular surgery west texas regional poison center patients visitors billing insurance hours visitation cafeteria menus find facility medical records prescriptions volunteer hospital community programs leadership meetings region rhp legal medical staff services compliance main number search careers business umc contact api staffing scheduling login myhealthep myhealthep self enroll neighborhood healthcare centers volunteer make payment find doctor find doctor verify provider privileges find facility medical services digestive health center cardiology emergency geriatrics imaging services infusion services lab services scherr legate level trauma center maternity men health neurosciences orthopedics outpatient clinics outpatient pharmacy pediatrics border pediatrics rehabilitation spine center neurosurgery surgery women health vascular endovascular surgery west texas regional poison center patients visitors billing insurance charity care paso health charge master prices hours visitation cafeteria menus find facility medical records prescriptions volunteer adult volunteers pastoral care juniors volunteer login hospital affiliations awards finances nursing umc foundation pharmacy residency pgy1 government relations community programs community coalition partnership ccp paso occupant protection program injury prevention nurse family partnership leadership board managers administration medical staff officers meetings board finance board meeting videos region rhp documents learning collaboratives meetings archives legal disclaimer joint commission privacy statement public notice community health needs assessment medical staff services compliance nondiscrimination notice code conduct conflict interest disclosure joint notice privacy practices anonymous reporting community health needs assessment community health needs assessment legal community health needs assessment community health needs assessment report discusses defines illustrates comprehensive socioeconomic health needs city region report report pdf report report pdf report report pdf hospital medical staff services community programs leadership meetings region rhp legal disclaimer joint commission privacy statement public notice community health needs assessment compliance university medical center paso disclaimer privacy statement nondiscrimination notice joint commission region rhp alameda ave paso designed stantonstreet umc paso university medical center paso learning collaboratives toggle navigation main number find doctor find doctor verify provider privileges find facility medical services digestive health center cardiology emergency geriatrics imaging services infusion services lab services scherr legate level trauma center maternity men health neurosciences orthopedics outpatient clinics outpatient pharmacy pediatrics border pediatrics rehabilitation spine center neurosurgery surgery women health vascular endovascular surgery west texas regional poison center patients visitors billing insurance hours visitation cafeteria menus find facility medical records prescriptions volunteer hospital community programs leadership meetings region rhp legal medical staff services compliance main number search careers business umc contact api staffing scheduling login myhealthep myhealthep self enroll neighborhood healthcare centers volunteer make payment find doctor find doctor verify provider privileges find facility medical services digestive health center cardiology emergency geriatrics imaging services infusion services lab services scherr legate level trauma center maternity men health neurosciences orthopedics outpatient clinics outpatient pharmacy pediatrics border pediatrics rehabilitation spine center neurosurgery surgery women health vascular endovascular surgery west texas regional poison center patients visitors billing insurance charity care paso health charge master prices hours visitation cafeteria menus find facility medical records prescriptions volunteer adult volunteers pastoral care juniors volunteer login hospital affiliations awards finances nursing umc foundation pharmacy residency pgy1 government relations community programs community coalition partnership ccp paso occupant protection program injury prevention nurse family partnership leadership board managers administration medical staff officers meetings board finance board meeting videos region rhp documents learning collaboratives meetings archives legal disclaimer joint commission privacy statement public notice community health needs assessment medical staff services compliance nondiscrimination notice code conduct conflict interest disclosure joint notice privacy practices anonymous reporting learning collaboratives learning collaboratives region rhp learning collaboratives august poster learning collaborative lower resolution agenda social barriers healthcare final goals objectives rhp learning collaborative sign sheets presentation presentation presentation 10things amazingfacts small rhp learning collaborative sign sheets july learning collaborative pictures rhp15 welcome rhp readmission reduction presentation nursing informatics future data program agenda learning collaborative poster sign sheets rhp15 learning collaborative jul behavioral health september behavioral health may emergency department data umc behavioral health april sign sheet behavioral health learning collaborative apr learning collabortive presentation behavioral health march learning collaboratives feb learning collabortive intro presentation behavioral health agenda mar sign sheets behavioral health learning collaborative mar behavioral health june minutes behavioral minutes sign behavioral health april agenda bhlc meet behavioral health february sign sheets handout minutes behavioral minutes behavioral minutes handouts behavioral health january sign bhlc meet bhlc jan agenda minutes sign ins behavioral minutes behavioral minutes behavioral umc psych presentation behavioral health consortium jan behavioral health december minutes behavioral minutes behavioral behavioral health november sign bhlc meet agenda bhlc meet minutes behavioral minutes behavioral diabetes september agenda sign sheet diab umc nhcdiabetes collaboartive jan aug docx diabetes august dsrip minutes diabetes july minutes diab sign sheet diab diabetes may minutes diab sign sheet diab diabetes march sign sheets minutes diab diabetes february pdsa form blank diabetes learning collaborative presentation feb meeting dates diabetes learning collaborative obesity paso community health assesment jul obesity rates trends overview state obesity texas state obesity data rates trends state obesity sign sheets diabetes feb diabetes july rhp presentation diabetes june texas tech dsrip rhp presentations tech jun region ppt health data september health data may sign sheets hie learning collaborative may health data april sign sheets hie learning collaborative hie collaborative group health data february phix presentation hie collaborative group sign sheets hie learning collaborative feb hospital medical staff services community programs leadership meetings region rhp documents learning collaboratives meetings archives legal compliance university medical center paso disclaimer privacy statement nondiscrimination notice joint commission region rhp alameda ave paso designed stantonstreet umc paso university medical center paso anonymous reporting toggle navigation main number find doctor find doctor verify provider privileges find facility medical services digestive health center cardiology emergency geriatrics imaging services infusion services lab services scherr legate level trauma center maternity men health neurosciences orthopedics outpatient clinics outpatient pharmacy pediatrics border pediatrics rehabilitation spine center neurosurgery surgery women health vascular endovascular surgery west texas regional poison center patients visitors billing insurance hours visitation cafeteria menus find facility medical records prescriptions volunteer hospital community programs leadership meetings region rhp legal medical staff services compliance main number search careers business umc contact api staffing scheduling login myhealthep myhealthep self enroll neighborhood healthcare centers volunteer make payment find doctor find doctor verify provider privileges find facility medical services digestive health center cardiology emergency geriatrics imaging services infusion services lab services scherr legate level trauma center maternity men health neurosciences orthopedics outpatient clinics outpatient pharmacy pediatrics border pediatrics rehabilitation spine center neurosurgery surgery women health vascular endovascular surgery west texas regional poison center patients visitors billing insurance charity care paso health charge master prices hours visitation cafeteria menus find facility medical records prescriptions volunteer adult volunteers pastoral care juniors volunteer login hospital affiliations awards finances nursing umc foundation pharmacy residency pgy1 government relations community programs community coalition partnership ccp paso occupant protection program injury prevention nurse family partnership leadership board managers administration medical staff officers meetings board finance board meeting videos region rhp documents learning collaboratives meetings archives legal disclaimer joint commission privacy statement public notice community health needs assessment medical staff services compliance nondiscrimination notice code conduct conflict interest disclosure joint notice privacy practices anonymous reporting anonymous reporting anonymous reporting compliance anonymous reporting paso county hospital district epchd committed ethical legal conduct compliant relevant laws regulations responsibility report fraudulent inappropriate behavior potential violations code conduct compliance hotline compliance webpage http umcelpaso alertline com ways report violation cathy gibson chief compliance waiver officer jovanie aguirre assistant compliance privacy officer office inspector general hotline confidential hours day days week callers may remain anonymous hospital medical staff services community programs leadership meetings region rhp legal compliance nondiscrimination notice code conduct conflict interest disclosure joint notice privacy practices anonymous reporting university medical center paso disclaimer privacy statement nondiscrimination notice joint commission region rhp alameda ave paso designed stantonstreet umc paso university medical center paso medical staff services toggle navigation main number find doctor find doctor verify provider privileges find facility medical services digestive health center cardiology emergency geriatrics imaging services infusion services lab services scherr legate level trauma center maternity men health neurosciences orthopedics outpatient clinics outpatient pharmacy pediatrics border pediatrics rehabilitation spine center neurosurgery surgery women health vascular endovascular surgery west texas regional poison center patients visitors billing insurance hours visitation cafeteria menus find facility medical records prescriptions volunteer hospital community programs leadership meetings region rhp legal medical staff services compliance main number search careers business umc contact api staffing scheduling login myhealthep myhealthep self enroll neighborhood healthcare centers volunteer make payment find doctor find doctor verify provider privileges find facility medical services digestive health center cardiology emergency geriatrics imaging services infusion services lab services scherr legate level trauma center maternity men health neurosciences orthopedics outpatient clinics outpatient pharmacy pediatrics border pediatrics rehabilitation spine center neurosurgery surgery women health vascular endovascular surgery west texas regional poison center patients visitors billing insurance charity care paso health charge master prices hours visitation cafeteria menus find facility medical records prescriptions volunteer adult volunteers pastoral care juniors volunteer login hospital affiliations awards finances nursing umc foundation pharmacy residency pgy1 government relations community programs community coalition partnership ccp paso occupant protection program injury prevention nurse family partnership leadership board managers administration medical staff officers meetings board finance board meeting videos region rhp documents learning collaboratives meetings archives legal disclaimer joint commission privacy statement public notice community health needs assessment medical staff services compliance nondiscrimination notice code conduct conflict interest disclosure joint notice privacy practices anonymous reporting medical staff services medical staff services medical staff services mandatory csi integration training department umc paso paso children hospital physician champions working development implementing next phase csi integration provider training sessions january february click physician documentation training registration hospital medical staff services community programs leadership meetings region rhp legal compliance university medical center paso disclaimer privacy statement nondiscrimination notice joint commission region rhp alameda ave paso designed stantonstreet umc paso university medical center paso meetings toggle navigation main number find doctor find doctor verify provider privileges find facility medical services digestive health center cardiology emergency geriatrics imaging services infusion services lab services scherr legate level trauma center maternity men health neurosciences orthopedics outpatient clinics outpatient pharmacy pediatrics border pediatrics rehabilitation spine center neurosurgery surgery women health vascular endovascular surgery west texas regional poison center patients visitors billing insurance hours visitation cafeteria menus find facility medical records prescriptions volunteer hospital community programs leadership meetings region rhp legal medical staff services compliance main number search careers business umc contact api staffing scheduling login myhealthep myhealthep self enroll neighborhood healthcare centers volunteer make payment find doctor find doctor verify provider privileges find facility medical services digestive health center cardiology emergency geriatrics imaging services infusion services lab services scherr legate level trauma center maternity men health neurosciences orthopedics outpatient clinics outpatient pharmacy pediatrics border pediatrics rehabilitation spine center neurosurgery surgery women health vascular endovascular surgery west texas regional poison center patients visitors billing insurance charity care paso health charge master prices hours visitation cafeteria menus find facility medical records prescriptions volunteer adult volunteers pastoral care juniors volunteer login hospital affiliations awards finances nursing umc foundation pharmacy residency pgy1 government relations community programs community coalition partnership ccp paso occupant protection program injury prevention nurse family partnership leadership board managers administration medical staff officers meetings board finance board meeting videos region rhp documents learning collaboratives meetings archives legal disclaimer joint commission privacy statement public notice community health needs assessment medical staff services compliance nondiscrimination notice code conduct conflict interest disclosure joint notice privacy practices anonymous reporting meetings meetings region rhp meetings march dpp measure specifications sfy22 rapps approval letter march pdf region ppt tipps approval letter march pdf chirp approval letter march pdf january region ppt dpp tipps measure specifications sfy23 chirp dpp measure specifications sfy23 rapps dpp measure specifications sfy23 november dy11 changes pfm mbp attachment program funding mechanics protocol texas dsrip mbp demo years draft region ppt september category estimated average achievement values measure class category summary workbook costs savings template user guide octdy10 region ppt dy9r2 core activities dy10 reporting august region ppt letter tsai order granting denying mtd denying tro healthcare transformation cms approval healthcare transformation cms ltr healthcare transformation cms ltr state july dsrip program evaluation survey2 preview dy9r2 core activities dy10 reporting governors cover letter waiver region ppt june category costs savings template draft region ppt rhp15 dy10 rd1 category measure summary rhp15 dy10 rd1 category milestone summary march rapps financial modeling rapps requirements summary updated region ppt tipps financial modeling tipps requirements summary updated chirp financial modeling chirp requirements summary updated dpp bhs financial modeling dpp bhs requirements summary updated dsrip partner engagement meeting ffs financial modeling measure specifications chirp tipps rapps dpp bhs revised february rapps metric specifications dpp bhs metric specifications tipps metric specifications chirp metric specifications rapps requirements summary dpp bhs requirements summary tipps requirements summary chirp requirements summary region ppt january category py3 telehealth specifications reporting options category measure specifications v19 email hhsc announcement waiver extension jan waiver extension presentation region ppt july september july september hospital medical staff services community programs leadership meetings region rhp documents learning collaboratives meetings archives legal compliance university medical center paso disclaimer privacy statement nondiscrimination notice joint commission region rhp alameda ave paso designed stantonstreet umc paso university medical center paso community programs toggle navigation main number find doctor find doctor verify provider privileges find facility medical services digestive health center cardiology emergency geriatrics imaging services infusion services lab services scherr legate level trauma center maternity men health neurosciences orthopedics outpatient clinics outpatient pharmacy pediatrics border pediatrics rehabilitation spine center neurosurgery surgery women health vascular endovascular surgery west texas regional poison center patients visitors billing insurance hours visitation cafeteria menus find facility medical records prescriptions volunteer hospital community programs leadership meetings region rhp legal medical staff services compliance main number search careers business umc contact api staffing scheduling login myhealthep myhealthep self enroll neighborhood healthcare centers volunteer make payment find doctor find doctor verify provider privileges find facility medical services digestive health center cardiology emergency geriatrics imaging services infusion services lab services scherr legate level trauma center maternity men health neurosciences orthopedics outpatient clinics outpatient pharmacy pediatrics border pediatrics rehabilitation spine center neurosurgery surgery women health vascular endovascular surgery west texas regional poison center patients visitors billing insurance charity care paso health charge master prices hours visitation cafeteria menus find facility medical records prescriptions volunteer adult volunteers pastoral care juniors volunteer login hospital affiliations awards finances nursing umc foundation pharmacy residency pgy1 government relations community programs community coalition partnership ccp paso occupant protection program injury prevention nurse family partnership leadership board managers administration medical staff officers meetings board finance board meeting videos region rhp documents learning collaboratives meetings archives legal disclaimer joint commission privacy statement public notice community health needs assessment medical staff services compliance nondiscrimination notice code conduct conflict interest disclosure joint notice privacy practices anonymous reporting community programs community programs community programs proud part paso community maintain high involvement community members leaders organizations partners making paso healthier place live worked hard create several community outreach programs encourage healthier lifestyles improve quality life among every age group paso surrounding areas hospital medical staff services community programs community coalition partnership ccp paso occupant protection program injury prevention nurse family partnership leadership meetings region rhp legal compliance university medical center paso disclaimer privacy statement nondiscrimination notice joint commission region rhp alameda ave paso designed stantonstreet umc paso university medical center paso compliance toggle navigation main number find doctor find doctor verify provider privileges find facility medical services digestive health center cardiology emergency geriatrics imaging services infusion services lab services scherr legate level trauma center maternity men health neurosciences orthopedics outpatient clinics outpatient pharmacy pediatrics border pediatrics rehabilitation spine center neurosurgery surgery women health vascular endovascular surgery west texas regional poison center patients visitors billing insurance hours visitation cafeteria menus find facility medical records prescriptions volunteer hospital community programs leadership meetings region rhp legal medical staff services compliance main number search careers business umc contact api staffing scheduling login myhealthep myhealthep self enroll neighborhood healthcare centers volunteer make payment find doctor find doctor verify provider privileges find facility medical services digestive health center cardiology emergency geriatrics imaging services infusion services lab services scherr legate level trauma center maternity men health neurosciences orthopedics outpatient clinics outpatient pharmacy pediatrics border pediatrics rehabilitation spine center neurosurgery surgery women health vascular endovascular surgery west texas regional poison center patients visitors billing insurance charity care paso health charge master prices hours visitation cafeteria menus find facility medical records prescriptions volunteer adult volunteers pastoral care juniors volunteer login hospital affiliations awards finances nursing umc foundation pharmacy residency pgy1 government relations community programs community coalition partnership ccp paso occupant protection program injury prevention nurse family partnership leadership board managers administration medical staff officers meetings board finance board meeting videos region rhp documents learning collaboratives meetings archives legal disclaimer joint commission privacy statement public notice community health needs assessment medical staff services compliance nondiscrimination notice code conduct conflict interest disclosure joint notice privacy practices anonymous reporting compliance compliance compliance compliance program responsibility ensure maintain organization complies many laws rules regulations affect healthcare assist endeavor developed paso county hospital district compliance program hospital medical staff services community programs leadership meetings region rhp legal compliance nondiscrimination notice code conduct conflict interest disclosure joint notice privacy practices anonymous reporting university medical center paso disclaimer privacy statement nondiscrimination notice joint commission region rhp alameda ave paso designed stantonstreet umc paso university medical center paso government relations toggle navigation main number find doctor find doctor verify provider privileges find facility medical services digestive health center cardiology emergency geriatrics imaging services infusion services lab services scherr legate level trauma center maternity men health neurosciences orthopedics outpatient clinics outpatient pharmacy pediatrics border pediatrics rehabilitation spine center neurosurgery surgery women health vascular endovascular surgery west texas regional poison center patients visitors billing insurance hours visitation cafeteria menus find facility medical records prescriptions volunteer hospital community programs leadership meetings region rhp legal medical staff services compliance main number search careers business umc contact api staffing scheduling login myhealthep myhealthep self enroll neighborhood healthcare centers volunteer make payment find doctor find doctor verify provider privileges find facility medical services digestive health center cardiology emergency geriatrics imaging services infusion services lab services scherr legate level trauma center maternity men health neurosciences orthopedics outpatient clinics outpatient pharmacy pediatrics border pediatrics rehabilitation spine center neurosurgery surgery women health vascular endovascular surgery west texas regional poison center patients visitors billing insurance charity care paso health charge master prices hours visitation cafeteria menus find facility medical records prescriptions volunteer adult volunteers pastoral care juniors volunteer login hospital affiliations awards finances nursing umc foundation pharmacy residency pgy1 government relations community programs community coalition partnership ccp paso occupant protection program injury prevention nurse family partnership leadership board managers administration medical staff officers meetings board finance board meeting videos region rhp documents learning collaboratives meetings archives legal disclaimer joint commission privacy statement public notice community health needs assessment medical staff services compliance nondiscrimination notice code conduct conflict interest disclosure joint notice privacy practices anonymous reporting government relations government relations hospital government relations government relations dynamic health care landscape government relations team works support public policy priorities important umc paso umc paso children hospital epch paso health team works closely lawmakers leaders agencies associations local state federal levels promote health care policies align mission heal serve paso county residents also serve conduit umc epch paso health staff communicate state federal legislative officials legislative priorities state level government relations team advocates policies improve health welfare patients staff paso county residents click view district legislative agenda 87th texas legislative session contact ruben john vogt director government relations ext ruben vogt umcelpaso org elisa hern ndez mph senior advisor government relations elisa hernandez umcelpaso org helpful government links represents local governments city paso paso county village vinton city socorro city san elizario horizon city town clint town anthony texas legislature texas house representatives texas senate texas legislature online dates interest united states congress house representatives senate hospital affiliations awards finances nursing umc foundation pharmacy residency pgy1 government relations medical staff services community programs leadership meetings region rhp legal compliance university medical center paso disclaimer privacy statement nondiscrimination notice joint commission region rhp alameda ave paso designed stantonstreet umc paso university medical center paso privacy statement toggle navigation main number find doctor find doctor verify provider privileges find facility medical services digestive health center cardiology emergency geriatrics imaging services infusion services lab services scherr legate level trauma center maternity men health neurosciences orthopedics outpatient clinics outpatient pharmacy pediatrics border pediatrics rehabilitation spine center neurosurgery surgery women health vascular endovascular surgery west texas regional poison center patients visitors billing insurance hours visitation cafeteria menus find facility medical records prescriptions volunteer hospital community programs leadership meetings region rhp legal medical staff services compliance main number search careers business umc contact api staffing scheduling login myhealthep myhealthep self enroll neighborhood healthcare centers volunteer make payment find doctor find doctor verify provider privileges find facility medical services digestive health center cardiology emergency geriatrics imaging services infusion services lab services scherr legate level trauma center maternity men health neurosciences orthopedics outpatient clinics outpatient pharmacy pediatrics border pediatrics rehabilitation spine center neurosurgery surgery women health vascular endovascular surgery west texas regional poison center patients visitors billing insurance charity care paso health charge master prices hours visitation cafeteria menus find facility medical records prescriptions volunteer adult volunteers pastoral care juniors volunteer login hospital affiliations awards finances nursing umc foundation pharmacy residency pgy1 government relations community programs community coalition partnership ccp paso occupant protection program injury prevention nurse family partnership leadership board managers administration medical staff officers meetings board finance board meeting videos region rhp documents learning collaboratives meetings archives legal disclaimer joint commission privacy statement public notice community health needs assessment medical staff services compliance nondiscrimination notice code conduct conflict interest disclosure joint notice privacy practices anonymous reporting privacy statement privacy statement legal privacy statement web site collect information technological means personally identify users however send electronic mail message paso county hospital district contains personally identifying information please note information collected assembled maintained connection transaction official business governmental body public information subject texas public information act government code chapter following outlines policies linking use copying information paso county hospital district web site protecting personal information members public access information paso county hospital district web site requirements applicable linking paso county hospital district web site linking paso county hospital district web site organizations individuals site owner encouraged link paso county hospital district information advance permission required linking links made using appropriate base url www epchd org url paso county hospital district department may use departments sub pages may change time without notice site owner routinely verify links department sub pages site owners may linking paso county hospital district web site site owners may capture paso county hospital district pages within site owner frames present paso county hospital district web site content site owner otherwise misrepresent content paso county hospital district department pages misinform users origin ownership content paso county hospital district web site link paso county hospital district web site full forward link passes client browser paso county hospital district site unencumbered back button return visitor site owner site visitor wishes back although content paso county hospital district web site available public certain information paso county hospital district web site may trademarked service marked otherwise protected paso county hospital district intellectual property paso county hospital district content protected federal copyright laws use protected intellectual property must accordance federal state law must reflect copyright trademark service mark intellectual property ownership paso county hospital district photographs work available disseminated public paso county hospital district contain credit artist containing copyright notice artist name year creation compliance federal copyright laws site owners link paso county hospital district graphics tables within paso county hospital district web pages especially effort place downloading burden paso county hospital district server action may considered misuse paso county resources site owners contact public affairs department request permission use copy graphics within site owner pages protect intellectual property paso county hospital district copied information must reflect copyright trademark service mark intellectual property rights paso county hospital district accessibility owners sites linked paso county hospital district web pages shall use reasonable efforts ensure persons disabilities may access sites copying use information web site owners linking paso county hospital district web page information posted paso county hospital district web site may copied long presented non misleading way imply either site owner information presented site owner web site endorsed paso county hospital district use information must identify paso county hospital district source information web address date information copied paso county hospital district website site owner must accompanied statement neither site owner information presented site owner web site endorsed paso county hospital district paso county hospital district department may charge fee access use reproduce information web site link information web site unless specifically authorized texas legislature paso county commissioners court protect intellectual property paso county hospital district copied information must reflect copyright trademark service mark intellectual property rights paso county hospital district county department whose protected information used site owner protection privacy rights individuals non judiciary state governmental bodies texas law chapter texas government code unless state governmental body state governmental body part judiciary allowed withhold requested information individual pursuant chapter texas government code texas public information act individual entitled informed information collected state governmental body individual non judiciary state governmental body collects information individual means form individual completes files state governmental body paper format electronic format internet site shall prominently state paper form prominently post state governmental body internet site connection electronic form exceptions individual entitled request informed information state governmental body collects individual individual entitled receive review information individual entitled state governmental body correct incorrect information individual non judiciary state governmental body collects information individual means internet site collects information computer network location identity user internet site shall prominently post state governmental body internet site information collected site individual information collected site computer network location identity user state governmental body internet site including information collected means obvious non judiciary state governmental body must establish reasonable procedure individuals may incorrect information held state governmental body corrected correction procedure may unduly burden individual seeking information corrected please send corrections personal information posted paso county hospital district web site via mail webmaster umcelpaso org non judiciary state governmental body shall identify information collection practices post information internet site privacy security policy mail addresses members public provided paso county hospital district electronic communication paso county hospital district departments confidential may disclosed paso county hospital district unless affected member public affirmatively consents disclosure mail address requirements applicable paso county hospital district exception confidential information information protected laws designed protect individual privacy interests information subject disclosure texas public information act paso county hospital district departments encouraged post information internet accessible format paso county hospital district may sell release mail addresses members public provided communicate electronically government body without affirmative consent affected member public hospital medical staff services community programs leadership meetings region rhp legal disclaimer joint commission privacy statement public notice community health needs assessment compliance notice privacy practices english attachment final doc notice privacy practices spanish attachment final doc university medical center paso disclaimer privacy statement nondiscrimination notice joint commission region rhp alameda ave paso designed stantonstreet umc paso university medical center paso board toggle navigation main number find doctor find doctor verify provider privileges find facility medical services digestive health center cardiology emergency geriatrics imaging services infusion services lab services scherr legate level trauma center maternity men health neurosciences orthopedics outpatient clinics outpatient pharmacy pediatrics border pediatrics rehabilitation spine center neurosurgery surgery women health vascular endovascular surgery west texas regional poison center patients visitors billing insurance hours visitation cafeteria menus find facility medical records prescriptions volunteer hospital community programs leadership meetings region rhp legal medical staff services compliance main number search careers business umc contact api staffing scheduling login myhealthep myhealthep self enroll neighborhood healthcare centers volunteer make payment find doctor find doctor verify provider privileges find facility medical services digestive health center cardiology emergency geriatrics imaging services infusion services lab services scherr legate level trauma center maternity men health neurosciences orthopedics outpatient clinics outpatient pharmacy pediatrics border pediatrics rehabilitation spine center neurosurgery surgery women health vascular endovascular surgery west texas regional poison center patients visitors billing insurance charity care paso health charge master prices hours visitation cafeteria menus find facility medical records prescriptions volunteer adult volunteers pastoral care juniors volunteer login hospital affiliations awards finances nursing umc foundation pharmacy residency pgy1 government relations community programs community coalition partnership ccp paso occupant protection program injury prevention nurse family partnership leadership board managers administration medical staff officers meetings board finance board meeting videos region rhp documents learning collaboratives meetings archives legal disclaimer joint commission privacy statement public notice community health needs assessment medical staff services compliance nondiscrimination notice code conduct conflict interest disclosure joint notice privacy practices anonymous reporting board board meetings board board meetings april board managers meeting canceled agenda canceled stamped bom agenda download zip april board managers meeting agenda stamped bom agenda download zip march board managers meeting agenda stamped bom agenda download zip february planning development committee meeting agenda stamped agenda download zip february board managers meeting agenda bom agenda download zip january planning development committee meeting agenda stamped agenda download zip january board managers meeting agenda stamped bom agenda download zip december board managers meeting agenda stamped bom agenda download zip december board managers meeting agenda stamped bom agenda download zip november planning development committee meeting agenda stamped agenda download zip november board managers meeting agenda stamped bom agenda download zip october board managers meeting agenda stamped bom agenda download zip september planning development committee meeting agenda stamped agenda download zip september board managers meeting agenda stamped bom agenda download zip august planning development committee agenda stamped agenda download zip august special board managers meeting agenda stamped spc bom meeting agenda download zip august board managers meeting agenda stamped bom agenda download zip august board managers paso county commissioners joint budget work session agenda stamped joint bom work sess agenda download zip july planning development committee meeting agenda stamped agenda download zip july special board managers meeting agenda stamped spc bom agenda download zip july board managers meeting agenda stamped bom agenda download zip june board managers meeting agenda stamped bom agenda download zip may board managers meeting agenda stamped bom agenda download zip april planning development committee meeting agenda stamped agenda download zip april board managers meeting agenda stamped bom agenda download zip march planning development committee meeting agenda stamped agenda download zip march board managers meeting agenda stamped bom agenda date stamped download zip february board managers meeting agenda stamped bom agenda download zip january planning development committee meeting agenda canceled agenda date stamping download zip january board managers meeting agenda stamped bom agenda download zip december special board managers meeting agenda stamped bom agenda download zip december board managers meeting agenda stamped bom agenda download zip november planning development committee agenda stamped agenda download zip november board managers meeting agenda stamped bom agenda download zip october special board managers meeting agenda stamped spc bom agenda download zip october board managers meeting emergency agenda item added agenda stamped bom agenda additional item download zip october board managers meeting agenda stamped bom agenda download zip september planning development committee meeting agenda agenda date stamped download zip september board managers meeting agenda stamped bom agenda date stamping download zip august planning development committee meeting agenda stamped agenda date stamping download zip august special board managers meeting agenda stamped bom agenda date stamping download zip august board managers meeting packet stamped bom agenda date stamping download zip august board managers paso county commissioners joint meeting agenda spc bom agenda date stamped download zip july planning development committee meeting agenda stamped agenda date stamping download zip july special board managers meeting agenda spc bom agenda download zip july board managers meeting agenda stamped bom agenda date stamping download zip june planning development committee meeting agenda stamped agenda download zip june board managers meeting agenda stamped bom agenda download zip may board managers meeting agenda bom agenda date stamped download zip may board managers meeting agenda stamped umc bom download zip april planning development committee meeting agenda stamped agenda download zip april board managers meeting agenda bom agenda date stamped download zip march special board managers meeting agenda spc bom agenda date stamped download zip march board managers meeting agenda bom agenda date stamped download zip february board managers meeting agenda bom agenda date stamped download zip january planning development committee meeting agenda agenda date stamped download zip january board managers meeting agenda bom agenda date stamped download zip january board managers meeting agenda canceled epchd board managers meeting download zip december special board managers meeting agenda epchd board managers meeting agenda date stamped download zip december board managers meeting agenda bom agenda date stamped download zip november board managers meeting agenda bom agenda date stamped download zip october planning development committee meeting agenda agenda date stamped download zip october board managers meeting agenda bom agenda date stamped download zip september planning development committee meeting agenda agenda date stamped download zip september board managers meeting agenda bom agenda date stamped download zip august planning development committee meeting agenda planning development agenda date stamped download zip august board managers paso county commissioners special budget work session agenda bom agenda spc budget work session date stamped district budget slides bom version fy20 budget download zip august board managers meeting agenda bom agenda date stamped download zip july board managers paso county commissioners special budget work session agenda spc bom joint work session date stamped download zip july planning development committee meeting agenda agenda date stamped download zip july special board managers meeting agenda bom agenda date stamped download zip july board managers meeting agenda bom agenda date stamped download zip june planning development committee meeting agenda agenda date stamped download zip june board managers meeting agenda bom agenda date stamped download zip may board managers meeting agenda bom agenda date stamped download zip april board managers meeting agenda bom agenda date stamped download zip march planning development committee meeting agenda epchd planning date stamped download zip march board managers meeting agenda bom agenda date stamped download zip february planning development committee meeting agenda agenda date stamped download zip february board managers meeting agenda bom agenda date stamped download zip january planning development meeting agenda agenda date stamped download zip january board managers meeting agenda bom agenda date stamped download zip december special board managers meeting agenda bom agenda date stamped download zip december board managers meeting agenda bom agenda date stamped download zip november planning development committee meeting agenda agenda date stamped download zip november board managers meeting agenda bom agenda date stamped download zip october board managers meeting agenda bom agenda date stamped download zip september special board managers meeting agenda spc bom agenda download zip september planning development committee meeting agenda agenda download zip september board managers meeting agenda bom agenda date stamped download zip august notice public hearing tax hearing increase agenda notice public hearing tax increase download zip august board managers paso county commissioners special budget work session agenda spc bom commissioners agenda stamped download zip august board managers meeting agenda bom agenda stamped download zip july board managers paso county commissioners special budget work session agenda board managers paso county commissioner budget work date stamped download zip july planning development committee meeting agenda epchd planning development committee meeting agenda download zip july special board managers meeting agenda bom agenda date stamped download zip july board managers meeting agenda epchd board managers meeting agenda date stamped download zip june plannng development committee meeting agenda agenda date stamped download zip june board managers meeting agenda epchd board managers meeting agenda date stamped download zip may planning development committee meeting agenda epchd planning development committee meeting agenda date stamped download zip may board managers meeting agenda bom agenda date stamped download zip april board managers meeting agenda bom agenda date stamped download zip march planning development committee meeting agenda agenda university medical center download zip march board managers meeting agenda bom agenda date stamped download zip march board managers special work session meeting agenda agenda paso county hospital disrict date stamped download zip february planning development committee meeting agenda epchd planning development meeting agenda date stamped download zip february board managers meeting agenda meeting board managers meeting download zip january planning development committee meeting agenda meeting umc agenda date stamped download zip january special board managers meeting agenda spc board managers agenda date stamped download zip january special board managers meeting canceled agenda bom agenda date stamped canceled download zip january board managers meeting agenda bom agenda date stamped download zip december board managers meeting agenda bom agenda date stamped download zip november board managers meeting agenda bom agenda date stamped download zip october planning development committee meeting agenda agenda date stamped download zip october board managers meeting agenda bom agenda date stamped minutes bom meeting minutes signed download zip september planning development committee meeting agenda agenda date stamped minutes minutes signed download zip september board managers meeting agenda bom agenda date stamped minutes bom meeting minutes signed download zip august planning development committee meeting agenda august agenda date stamped minutes minutes signed download zip august board managers meeting agenda scanned bom agenda date stamped minutes bom meeting minutes signed download zip august commissioners board managers agenda bom agenda date stamped download zip july commissioners board agenda bom agenda date stamped download zip july agenda board managers agenda date stamped minutes bom meeting minutes signed download zip july special board managers meeting work session agenda bom agenda stamped minutes spc bom meeting minutes signed download zip june agenda board managers agenda stamped download zip may planning development committee meeting agenda may agenda stamped download zip may agenda stamped bom agenda minutes bom meeting minutes signed download zip april planning development committee agenda agenda stamped download zip april agenda board managers agenda stamped download zip march planning development committee agenda planning dev agenda stamped download zip march agenda board managers agenda stamped minutes bom minutes signed download zip february agenda stamped bom agenda bom agenda addendum minutes bom minutes signed bom meeting minutes tab minutes download zip january planning development committee agenda umc agenda january download zip january agenda stamped bom agenda minutes board managers meeting minutes download zip hospital medical staff services community programs leadership meetings board finance board meeting videos region rhp legal compliance university medical center paso disclaimer privacy statement nondiscrimination notice joint commission region rhp alameda ave paso designed stantonstreet umc paso university medical center paso nursing toggle navigation main number find doctor find doctor verify provider privileges find facility medical services digestive health center cardiology emergency geriatrics imaging services infusion services lab services scherr legate level trauma center maternity men health neurosciences orthopedics outpatient clinics outpatient pharmacy pediatrics border pediatrics rehabilitation spine center neurosurgery surgery women health vascular endovascular surgery west texas regional poison center patients visitors billing insurance hours visitation cafeteria menus find facility medical records prescriptions volunteer hospital community programs leadership meetings region rhp legal medical staff services compliance main number search careers business umc contact api staffing scheduling login myhealthep myhealthep self enroll neighborhood healthcare centers volunteer make payment find doctor find doctor verify provider privileges find facility medical services digestive health center cardiology emergency geriatrics imaging services infusion services lab services scherr legate level trauma center maternity men health neurosciences orthopedics outpatient clinics outpatient pharmacy pediatrics border pediatrics rehabilitation spine center neurosurgery surgery women health vascular endovascular surgery west texas regional poison center patients visitors billing insurance charity care paso health charge master prices hours visitation cafeteria menus find facility medical records prescriptions volunteer adult volunteers pastoral care juniors volunteer login hospital affiliations awards finances nursing umc foundation pharmacy residency pgy1 government relations community programs community coalition partnership ccp paso occupant protection program injury prevention nurse family partnership leadership board managers administration medical staff officers meetings board finance board meeting videos region rhp documents learning collaboratives meetings archives legal disclaimer joint commission privacy statement public notice community health needs assessment medical staff services compliance nondiscrimination notice code conduct conflict interest disclosure joint notice privacy practices anonymous reporting nursing nursing hospital nursing nursing division mission speaks commitment exceptional compassionate evidence based nursing care across age continuum patient advocates dedicated ensuring patient treated respect dignity lead providing hope strength encouragement healing individual touch nursing division vision apparent university medical center profession nursing recognized respected leadership provision evidence based care shared governance development research ability enhance health community culturally appropriate care shared governance umc provides form culturally sensitive empowering framework enabling sustainable accountability based decisions support excellent patient care umc culture supports autonomy nurses high degree decision making authority practice informatics equipment selection frontline nurses involved virtually everything council members activity backbone shared governance play vital role advancement evidenced based care umc campus throughout organization nurses umc recognized respected contributions umc provides support professional development areas professional clinical program national certifications higher education preceptor training award star award american nurses credentialing center ancc designated umc pathway excellence status hospital affiliations awards finances nursing umc foundation pharmacy residency pgy1 government relations medical staff services community programs leadership meetings region rhp legal compliance university medical center paso disclaimer privacy statement nondiscrimination notice joint commission region rhp alameda ave paso designed stantonstreet umc paso university medical center paso public notice toggle navigation main number find doctor find doctor verify provider privileges find facility medical services digestive health center cardiology emergency geriatrics imaging services infusion services lab services scherr legate level trauma center maternity men health neurosciences orthopedics outpatient clinics outpatient pharmacy pediatrics border pediatrics rehabilitation spine center neurosurgery surgery women health vascular endovascular surgery west texas regional poison center patients visitors billing insurance hours visitation cafeteria menus find facility medical records prescriptions volunteer hospital community programs leadership meetings region rhp legal medical staff services compliance main number search careers business umc contact api staffing scheduling login myhealthep myhealthep self enroll neighborhood healthcare centers volunteer make payment find doctor find doctor verify provider privileges find facility medical services digestive health center cardiology emergency geriatrics imaging services infusion services lab services scherr legate level trauma center maternity men health neurosciences orthopedics outpatient clinics outpatient pharmacy pediatrics border pediatrics rehabilitation spine center neurosurgery surgery women health vascular endovascular surgery west texas regional poison center patients visitors billing insurance charity care paso health charge master prices hours visitation cafeteria menus find facility medical records prescriptions volunteer adult volunteers pastoral care juniors volunteer login hospital affiliations awards finances nursing umc foundation pharmacy residency pgy1 government relations community programs community coalition partnership ccp paso occupant protection program injury prevention nurse family partnership leadership board managers administration medical staff officers meetings board finance board meeting videos region rhp documents learning collaboratives meetings archives legal disclaimer joint commission privacy statement public notice community health needs assessment medical staff services compliance nondiscrimination notice code conduct conflict interest disclosure joint notice privacy practices anonymous reporting public notice public notice legal public notice university medical center paso applying grant united states environmental protection agency soil remediation work concepcion street paso texas application epa grant concepcion epa grant application hospital medical staff services community programs leadership meetings region rhp legal disclaimer joint commission privacy statement public notice community health needs assessment compliance university medical center paso disclaimer privacy statement nondiscrimination notice joint commission region rhp alameda ave paso designed stantonstreet umc pharmacy residency toggle navigation main number find doctor find doctor verify provider privileges find facility medical services digestive health center cardiology emergency geriatrics imaging services infusion services lab services scherr legate level trauma center maternity men health neurosciences orthopedics outpatient clinics outpatient pharmacy pediatrics border pediatrics rehabilitation spine center neurosurgery surgery women health vascular endovascular surgery west texas regional poison center patients visitors billing insurance hours visitation cafeteria menus find facility medical records prescriptions volunteer hospital community programs leadership meetings region rhp legal medical staff services compliance main number search careers business umc contact api staffing scheduling login myhealthep myhealthep self enroll neighborhood healthcare centers volunteer make payment find doctor find doctor verify provider privileges find facility medical services digestive health center cardiology emergency geriatrics imaging services infusion services lab services scherr legate level trauma center maternity men health neurosciences orthopedics outpatient clinics outpatient pharmacy pediatrics border pediatrics rehabilitation spine center neurosurgery surgery women health vascular endovascular surgery west texas regional poison center patients visitors billing insurance charity care paso health charge master prices hours visitation cafeteria menus find facility medical records prescriptions volunteer adult volunteers pastoral care juniors volunteer login hospital affiliations awards finances nursing umc foundation pharmacy residency pgy1 government relations community programs community coalition partnership ccp paso occupant protection program injury prevention nurse family partnership leadership board managers administration medical staff officers meetings board finance board meeting videos region rhp documents learning collaboratives meetings archives legal disclaimer joint commission privacy statement public notice community health needs assessment medical staff services compliance nondiscrimination notice code conduct conflict interest disclosure joint notice privacy practices anonymous reporting pharmacy residency pgy1 pharmacy residency pgy1 hospital pharmacy residency pgy1 pgy1 pharmacy residency program purpose building educational components doctor pharmacy pharm curriculum umc pgy1 pharmacy residency program develops clinical pharmacists responsible medication related care patients wide range conditions upon completion pgy1 residents eligible board certification postgraduate year two pgy2 pharmacy residency training description program objective provide resident challenging well rounded training experience program emphasis developing clinical administrative skill sets medication safety leadership residents gain experience caring diverse patient populations variety inpatient settings emergency medicine critical care infectious disease diversify patient care skills across life spectrum practice settings residents also gain experience ambulatory care pediatrics completing residency program resident demonstrate competency following patient care advancing practice improving patient care leadership management teaching education dissemination knowledge residency graduates able obtain position clinical faculty member clinical pharmacy specialist graduates program prepared pursue credentialing variety board specialty areas bcps bcacp bcgp cde cacp learning experiences internal medicine required critical care required infectious diseases required pediatrics required ambulatory care required scholarship required longitudinal pharmacy practice staffing required longitudinal pharmacy administration required longitudinal emergency medicine elective infectious diseases advanced elective toxicology elective teaching certificate program required longitudinal expectations resident required perform highest ethical moral legal standards expected role model leader within pharmacy community compassion dignity respect patients cultural religious racial ethnic backgrounds make cornerstone residency current residents isabel hernandez fuerte pharm education training pacific university school pharmacy hillsboro practice interests toxicology emergency medicine residency successfully pursue long term goals becoming clinical pharmacist acute care setting knew wanted extensive training provided residency leadership preception exposure many different patient populations disease states umc offers teaching certificate wide variety rotations pediatrics ambulatory care prepare next step career excited completing pgy training umc due well rounded curriculum great people jose ontiveros pharm education training university texas paso school pharmacy practice interests critical care pediatrics ambulatory care residency chose residency pathway order provide best chance landing ideal job post graduate training enrich clinical knowledge professional identity also make appealing candidate job market selected university medical center paso three reasons born raised paso great variety clinical exposure patient population teaching culture facility look forward making impact community keeping paso strong pgy1 preceptors gabriel ortiz pharm bcps emergency department pharmacy supervisor learning experience emergency medicine education university texas austin college pharmacy pharmd salvador baeza pharm dabat director west texas regional poison center learning experience toxicology education university texas austin college pharmacy pharmd utep austin cooperative program providence memorial hospital pediatric pharmacy residency emily christenberry pharm bcps bcgp clinical assistant professor utep school pharmacy learning experience internal medicine education butler university college pharmacy health sciences pharmd vincent indianapolis hospital pgy1 pharmacy residency utep austin cooperative pharmacy pgy2 pharmacy residency family medicine denise pinal pharm bcpps clinical assistant professor utep school pharmacy learning experience pediatrics education university texas austin college pharmacy pharmd texas tech university health sciences center lubbock primary practice residency pediatric focus jeri sias pharm mph clinical professor university texas paso school pharmacy learning experience teaching education texas christian university university kansas pharmd ohio state university ambulatory care residency university texas houston mph catherine pharm bcidp infectious disease clinical pharmacist learning experience infectious diseases education university texas austin pharmd john miller pharm mha bcps director pharmacy clinical services learning experience residency program director education ohio state university pharm pharmd university southern california mha children hospital pgy pediatric pharmacy residency practice sites university medical center umc paso learning experience pharmacy administraton pharmacy practice infectious diseases critical care internal medicine emergency medicine ambulatory care university medical center paso umc acute care teaching hospital primary teaching institution texas tech university paul foster school medicine umc home region level trauma center joint commission certified comprehensive stroke center well large primary care clinics located across paso county featuring complete pharmacy lab imaging rehab services click learn umc paso children hospital learning experience pediatrics paso children hospital epch paso dedicated pediatric specialty sub specialty hospital within mile radius paso epch elevates quality scope pediatric patient care region providing unmatched excellence specialized pediatrics research education partnerships texas tech university paul foster school medicine university medical center paso enhances lives children surrounding region click learn epch west texas regional poison center learning experience toxicology west texas regional poison center wtrpc university medical center paso america first hour bilingual regional poison control center certified american association poison control centers integral partner texas poison center network wtrpc designated serve counties west texas public health regions wtrpc provides high quality medical information patients caregivers families healthcare providers safely replace unnecessary emergency room visit click learn wtrpc university texas paso school pharmacy learning experience teaching receiving legislative support state texas university texas paso utep began process creating school pharmacy establishing doctor pharmacy pharmd program utep school pharmacy granted pre candidate status accreditation council pharmacy education acpe board directors july 11th inaugural class pharmd students enrolled fall utep school pharmacy first pharmacy school college texas mexico border cooperative program one handful pharmacy school colleges hispanic serving institution hsi nationwide click learn utep residency application process please include following information application letter intent describing interest pgy1 pharmacy residency program curriculum vitae letters reference official transcript steps applying register phorcas http www ashp org phorcas register national residency program http www natmatch com ashprmp complete application january ashp code nms match code contact information additional information pgy1 pharmacy residency program please contact john miller pharm mha bcps director pgy1 pharmacy residency program alameda ave paso phone email john miller umcelpaso org hospital affiliations awards finances nursing umc foundation pharmacy residency pgy1 government relations medical staff services community programs leadership meetings region rhp legal compliance university medical center paso disclaimer privacy statement nondiscrimination notice joint commission region rhp alameda ave paso designed stantonstreet'"
      ]
     },
     "execution_count": 6,
     "metadata": {},
     "output_type": "execute_result"
    }
   ],
   "source": [
    "final_df.text[0]"
   ]
  },
  {
   "cell_type": "code",
   "execution_count": 7,
   "metadata": {},
   "outputs": [],
   "source": [
    "final_df['length'] = final_df.text.apply(lambda x: len(str(x).split()))"
   ]
  },
  {
   "cell_type": "code",
   "execution_count": 8,
   "metadata": {},
   "outputs": [
    {
     "name": "stderr",
     "output_type": "stream",
     "text": [
      "/tmp/ipykernel_8288/1322955384.py:3: FutureWarning: The frame.append method is deprecated and will be removed from pandas in a future version. Use pandas.concat instead.\n",
      "  new_df = b2b_df.append(b2c_df)\n"
     ]
    }
   ],
   "source": [
    "b2b_df = final_df[(final_df['Business Model'] == \"B2C\" )& (final_df['length'] <  3051 )]\n",
    "b2c_df = final_df[(final_df['Business Model'] == \"B2B\" )& (final_df['length'] <  1793 )]\n",
    "new_df = b2b_df.append(b2c_df)"
   ]
  },
  {
   "cell_type": "code",
   "execution_count": 9,
   "metadata": {},
   "outputs": [
    {
     "name": "stderr",
     "output_type": "stream",
     "text": [
      "[nltk_data] Downloading package stopwords to /home/user/nltk_data...\n",
      "[nltk_data]   Package stopwords is already up-to-date!\n"
     ]
    }
   ],
   "source": [
    "import nltk\n",
    "import re\n",
    "import string\n",
    "nltk.download('stopwords')\n",
    "stopwords = list(nltk.corpus.stopwords.words('english'))"
   ]
  },
  {
   "cell_type": "code",
   "execution_count": 10,
   "metadata": {},
   "outputs": [],
   "source": [
    "def normalize(col):\n",
    "    for i in range(len(col)):\n",
    "        lm=col[i].lower().split(' ')\n",
    "    return lm\n",
    "\n",
    "\n",
    "def stopwords_removal(stopwords,review_split):\n",
    "    stop_wrods_remove=[]\n",
    "    for i in range(len(review_split)):\n",
    "        stop_wrods_remove.append([i for i in review_split[i] if i not in stopwords])\n",
    "    return stop_wrods_remove\n",
    "\n",
    "\n",
    "def number_removed(stopword_rem):\n",
    "    joined=[]\n",
    "    for i in range(len(stopword_rem)):\n",
    "        joined.append(' '.join(stopword_rem[i]))\n",
    "    number_removed=[]\n",
    "    for i in range(len(joined)):\n",
    "        number_removed.append(re.sub(r'[0-9]+',r' ',joined[i]))\n",
    "    removed=[]\n",
    "    for i in range(len(number_removed)):\n",
    "        removed.append(re.sub(r'  ',r' ',number_removed[i]))\n",
    "    punct=[]\n",
    "    for i in range(len(removed)):\n",
    "        punct.append([i for i in removed[i] if i not in [i for i in string.punctuation]])\n",
    "    jo=[]\n",
    "    for i in range(len(punct)):\n",
    "        jo.append(''.join(punct[i]))\n",
    "    return jo"
   ]
  },
  {
   "cell_type": "code",
   "execution_count": 11,
   "metadata": {},
   "outputs": [],
   "source": [
    "new_df = new_df.reset_index()"
   ]
  },
  {
   "cell_type": "code",
   "execution_count": 12,
   "metadata": {},
   "outputs": [],
   "source": [
    "df_split=new_df[['text']].apply(normalize,axis=1)"
   ]
  },
  {
   "cell_type": "code",
   "execution_count": 13,
   "metadata": {},
   "outputs": [],
   "source": [
    "stopword_rem=stopwords_removal(stopwords,df_split)"
   ]
  },
  {
   "cell_type": "code",
   "execution_count": 14,
   "metadata": {},
   "outputs": [],
   "source": [
    "removed_number=number_removed(stopword_rem)"
   ]
  },
  {
   "cell_type": "code",
   "execution_count": 15,
   "metadata": {},
   "outputs": [],
   "source": [
    "new=[]\n",
    "for i in range(len(removed_number)):\n",
    "    new.append(removed_number[i].split(','))"
   ]
  },
  {
   "cell_type": "code",
   "execution_count": 16,
   "metadata": {},
   "outputs": [],
   "source": [
    "new_df['text_mining']=new"
   ]
  },
  {
   "cell_type": "code",
   "execution_count": 17,
   "metadata": {},
   "outputs": [],
   "source": [
    "new_df = new_df.rename(columns={'Business Model': 'tags'})"
   ]
  },
  {
   "cell_type": "code",
   "execution_count": 18,
   "metadata": {},
   "outputs": [],
   "source": [
    "new_df = new_df[['text','text_mining', 'tags']]"
   ]
  },
  {
   "cell_type": "code",
   "execution_count": 19,
   "metadata": {},
   "outputs": [
    {
     "data": {
      "text/html": [
       "<div>\n",
       "<style scoped>\n",
       "    .dataframe tbody tr th:only-of-type {\n",
       "        vertical-align: middle;\n",
       "    }\n",
       "\n",
       "    .dataframe tbody tr th {\n",
       "        vertical-align: top;\n",
       "    }\n",
       "\n",
       "    .dataframe thead th {\n",
       "        text-align: right;\n",
       "    }\n",
       "</style>\n",
       "<table border=\"1\" class=\"dataframe\">\n",
       "  <thead>\n",
       "    <tr style=\"text-align: right;\">\n",
       "      <th></th>\n",
       "      <th>text</th>\n",
       "      <th>text_mining</th>\n",
       "      <th>tags</th>\n",
       "      <th>tags_id</th>\n",
       "    </tr>\n",
       "  </thead>\n",
       "  <tbody>\n",
       "    <tr>\n",
       "      <th>0</th>\n",
       "      <td>staffing recruitment agencies detroit merithal...</td>\n",
       "      <td>[staffing recruitment agencies detroit meritha...</td>\n",
       "      <td>B2C</td>\n",
       "      <td>1</td>\n",
       "    </tr>\n",
       "    <tr>\n",
       "      <th>1</th>\n",
       "      <td>home olmsted falls city schools skip main cont...</td>\n",
       "      <td>[home olmsted falls city schools skip main con...</td>\n",
       "      <td>B2C</td>\n",
       "      <td>1</td>\n",
       "    </tr>\n",
       "    <tr>\n",
       "      <th>2</th>\n",
       "      <td></td>\n",
       "      <td>[]</td>\n",
       "      <td>B2C</td>\n",
       "      <td>1</td>\n",
       "    </tr>\n",
       "    <tr>\n",
       "      <th>3</th>\n",
       "      <td></td>\n",
       "      <td>[]</td>\n",
       "      <td>B2C</td>\n",
       "      <td>1</td>\n",
       "    </tr>\n",
       "    <tr>\n",
       "      <th>4</th>\n",
       "      <td>online full part time national university virt...</td>\n",
       "      <td>[online full part time national university vir...</td>\n",
       "      <td>B2C</td>\n",
       "      <td>1</td>\n",
       "    </tr>\n",
       "  </tbody>\n",
       "</table>\n",
       "</div>"
      ],
      "text/plain": [
       "                                                text  \\\n",
       "0  staffing recruitment agencies detroit merithal...   \n",
       "1  home olmsted falls city schools skip main cont...   \n",
       "2                                                      \n",
       "3                                                      \n",
       "4  online full part time national university virt...   \n",
       "\n",
       "                                         text_mining tags  tags_id  \n",
       "0  [staffing recruitment agencies detroit meritha...  B2C        1  \n",
       "1  [home olmsted falls city schools skip main con...  B2C        1  \n",
       "2                                                 []  B2C        1  \n",
       "3                                                 []  B2C        1  \n",
       "4  [online full part time national university vir...  B2C        1  "
      ]
     },
     "execution_count": 19,
     "metadata": {},
     "output_type": "execute_result"
    }
   ],
   "source": [
    "new_df[\"tags\"] = new_df[\"tags\"].astype('category')\n",
    "new_df[\"tags_id\"] = new_df[\"tags\"].cat.codes\n",
    "new_df.head()"
   ]
  },
  {
   "cell_type": "code",
   "execution_count": 20,
   "metadata": {},
   "outputs": [
    {
     "data": {
      "text/html": [
       "<div>\n",
       "<style scoped>\n",
       "    .dataframe tbody tr th:only-of-type {\n",
       "        vertical-align: middle;\n",
       "    }\n",
       "\n",
       "    .dataframe tbody tr th {\n",
       "        vertical-align: top;\n",
       "    }\n",
       "\n",
       "    .dataframe thead th {\n",
       "        text-align: right;\n",
       "    }\n",
       "</style>\n",
       "<table border=\"1\" class=\"dataframe\">\n",
       "  <thead>\n",
       "    <tr style=\"text-align: right;\">\n",
       "      <th></th>\n",
       "      <th>text</th>\n",
       "      <th>text_mining</th>\n",
       "      <th>tags</th>\n",
       "      <th>tags_id</th>\n",
       "    </tr>\n",
       "  </thead>\n",
       "  <tbody>\n",
       "    <tr>\n",
       "      <th>0</th>\n",
       "      <td>staffing recruitment agencies detroit merithal...</td>\n",
       "      <td>[staffing recruitment agencies detroit meritha...</td>\n",
       "      <td>B2C</td>\n",
       "      <td>1</td>\n",
       "    </tr>\n",
       "    <tr>\n",
       "      <th>1</th>\n",
       "      <td>home olmsted falls city schools skip main cont...</td>\n",
       "      <td>[home olmsted falls city schools skip main con...</td>\n",
       "      <td>B2C</td>\n",
       "      <td>1</td>\n",
       "    </tr>\n",
       "    <tr>\n",
       "      <th>2</th>\n",
       "      <td></td>\n",
       "      <td>[]</td>\n",
       "      <td>B2C</td>\n",
       "      <td>1</td>\n",
       "    </tr>\n",
       "    <tr>\n",
       "      <th>3</th>\n",
       "      <td></td>\n",
       "      <td>[]</td>\n",
       "      <td>B2C</td>\n",
       "      <td>1</td>\n",
       "    </tr>\n",
       "    <tr>\n",
       "      <th>4</th>\n",
       "      <td>online full part time national university virt...</td>\n",
       "      <td>[online full part time national university vir...</td>\n",
       "      <td>B2C</td>\n",
       "      <td>1</td>\n",
       "    </tr>\n",
       "  </tbody>\n",
       "</table>\n",
       "</div>"
      ],
      "text/plain": [
       "                                                text  \\\n",
       "0  staffing recruitment agencies detroit merithal...   \n",
       "1  home olmsted falls city schools skip main cont...   \n",
       "2                                                      \n",
       "3                                                      \n",
       "4  online full part time national university virt...   \n",
       "\n",
       "                                         text_mining tags  tags_id  \n",
       "0  [staffing recruitment agencies detroit meritha...  B2C        1  \n",
       "1  [home olmsted falls city schools skip main con...  B2C        1  \n",
       "2                                                 []  B2C        1  \n",
       "3                                                 []  B2C        1  \n",
       "4  [online full part time national university vir...  B2C        1  "
      ]
     },
     "execution_count": 20,
     "metadata": {},
     "output_type": "execute_result"
    }
   ],
   "source": [
    "new_df.head()"
   ]
  },
  {
   "cell_type": "code",
   "execution_count": 21,
   "metadata": {},
   "outputs": [],
   "source": [
    "vocab_size = 20000  # Only consider the top 20K words\n",
    "max_len = 2000  # Maximum review (text) size in words"
   ]
  },
  {
   "cell_type": "code",
   "execution_count": 22,
   "metadata": {},
   "outputs": [],
   "source": [
    "new_df['textt'] = [','.join(map(str, l)) for l in new_df['text_mining']]"
   ]
  },
  {
   "cell_type": "code",
   "execution_count": 23,
   "metadata": {},
   "outputs": [
    {
     "data": {
      "text/plain": [
       "62176"
      ]
     },
     "execution_count": 23,
     "metadata": {},
     "output_type": "execute_result"
    }
   ],
   "source": [
    "len(set((str(new_df.text.to_list())).split()))"
   ]
  },
  {
   "cell_type": "code",
   "execution_count": 24,
   "metadata": {},
   "outputs": [
    {
     "name": "stderr",
     "output_type": "stream",
     "text": [
      "2022-04-22 10:58:16.818629: W tensorflow/stream_executor/platform/default/dso_loader.cc:64] Could not load dynamic library 'libcuda.so.1'; dlerror: libcuda.so.1: cannot open shared object file: No such file or directory\n",
      "2022-04-22 10:58:16.818658: W tensorflow/stream_executor/cuda/cuda_driver.cc:269] failed call to cuInit: UNKNOWN ERROR (303)\n",
      "2022-04-22 10:58:16.818676: I tensorflow/stream_executor/cuda/cuda_diagnostics.cc:156] kernel driver does not appear to be running on this host (IAAHMLAP099): /proc/driver/nvidia/version does not exist\n",
      "2022-04-22 10:58:16.820424: I tensorflow/core/platform/cpu_feature_guard.cc:151] This TensorFlow binary is optimized with oneAPI Deep Neural Network Library (oneDNN) to use the following CPU instructions in performance-critical operations:  AVX2 AVX512F FMA\n",
      "To enable them in other operations, rebuild TensorFlow with the appropriate compiler flags.\n"
     ]
    }
   ],
   "source": [
    "numeric_dataset = tf.data.Dataset.from_tensor_slices((new_df.text, new_df['tags_id']))"
   ]
  },
  {
   "cell_type": "code",
   "execution_count": 25,
   "metadata": {},
   "outputs": [],
   "source": [
    "BATCH_SIZE = 64\n",
    "numeric_batches = numeric_dataset.shuffle(1000).batch(BATCH_SIZE)"
   ]
  },
  {
   "cell_type": "code",
   "execution_count": 26,
   "metadata": {
    "scrolled": true
   },
   "outputs": [
    {
     "name": "stdout",
     "output_type": "stream",
     "text": [
      "text:  b'staffing recruitment agencies detroit merithall skip main content careers search jobs people place hiring process client services faqs story team testimonials blog contact menu careers search jobs people place hiring process client services faqs story team testimonials blog contact great jobs exceptional people metro detroit premier staffing workforce solutions provider find next opportunity find next employee industries serve merithall full service staffing agency detroit put expertise experience work today manufacturing landscaping construction services solutions skilled trades recruitment long term staffing seasonal staffing find great job today looking new opportunity merithall recruitment agency detroit matches people jobs construction landscaping manufacturing find job right right apply online search jobs location ferndale hamtramck livonia livonia milford plymouth taylor troy industry automotive industry construction driving facility maintenance forklift operator general labor landscaping machine tool management sales manufacturing office clerical area shipping receiving snow removal welding fabricating search jobs advanced search merithall news news benefits maintaining strong communication candidates crisis communicating candidates always important maintaining strong communication crisis set apart competitors due read october news maneuvering job search covid right times uncertain stressful even bit frightening covid outbreak caused health crisis read october view news pleased say merithall lived commitment provided top quality candidates meet unique requirements impressed short souring time number candidates provided opening well professionalism worked hiring teams human resources manager global medical technology company merithall helpful providing company experienced labor unable find reliable professional importantly provide quality service merithall made simple convenient use services equipped handle business needs necessary started today waiting lauren millennium outdoor services molnar roofing introduced merithall abc labor update may crew effectively supplemented existing workforce management responded quickly last minute schedule changes recommend merithall construction staffing open shop contractors seeking temporary staffing robert molnar molnar roofing workers supplied capable getting job done little direction allowed core employees accomplish brian dewan general manager ejh construction inc found merithall earlier year used construction service company every day since afternoon call request certain number carpenters certain level next morning like magic fully staffed economically tough times construction type services truly beneficial company able eliminate payroll taxes general liability insurance workman compensation big thank merithall staff cheryl savage company administrator buildmaster inc working merit hall great experience company take much workload backs providing quality employees qualified positions filled timothy warner warner brothers services inc merithall pleasure work overall labor provided construction projects satisfactory workers show time ready work required ppe continue use merithall resource temporary help needed dean stacer operations manager kent companies thanks help needed wish would contacted earlier year thanks kris beers abl landscaping merithall able supply hill top property services salt salt supplier pleased service laurie hill top property services merithall provides advantage able bring group experienced productive asbestos workers need ensures fulfill needs customers regardless size location job bruce montgomery president asb services view testimonials merithall member organizations schoolcraft road livonia directions info merithall com merithall inc privacy site credits staffing websites haley marketing search jobs solutions blog contact construction skilled trades recruiters detroit merithall skip main content careers search jobs people place hiring process client services faqs story team testimonials blog contact menu careers search jobs people place hiring process client services faqs story team testimonials blog contact success built service excellence mission merithall exists help contractors acquire manage monitor human resources focus completing projects core values provide best support clients partners employees embrace change new ideas promote opportunities personal professional development operating standards expectations clear ownership work ensure accountability make recognition achievements possible job recruiters detroit self manage based known goals deadlines employees motivated perform exceptional work ambition commitment company mission vision core values desire personal professional growth success learn merithall satisfied clients happy employees story team pleased say merithall lived commitment provided top quality candidates meet unique requirements impressed short souring time number candidates provided opening well professionalism worked hiring teams human resources manager global medical technology company merithall helpful providing company experienced labor unable find reliable professional importantly provide quality service merithall made simple convenient use services equipped handle business needs necessary started today waiting lauren millennium outdoor services molnar roofing introduced merithall abc labor update may crew effectively supplemented existing workforce management responded quickly last minute schedule changes recommend merithall construction staffing open shop contractors seeking temporary staffing robert molnar molnar roofing workers supplied capable getting job done little direction allowed core employees accomplish brian dewan general manager ejh construction inc found merithall earlier year used construction service company every day since afternoon call request certain number carpenters certain level next morning like magic fully staffed economically tough times construction type services truly beneficial company able eliminate payroll taxes general liability insurance workman compensation big thank merithall staff cheryl savage company administrator buildmaster inc working merit hall great experience company take much workload backs providing quality employees qualified positions filled timothy warner warner brothers services inc merithall pleasure work overall labor provided construction projects satisfactory workers show time ready work required ppe continue use merithall resource temporary help needed dean stacer operations manager kent companies thanks help needed wish would contacted earlier year thanks kris beers abl landscaping merithall able supply hill top property services salt salt supplier pleased service laurie hill top property services merithall provides advantage able bring group experienced productive asbestos workers need ensures fulfill needs customers regardless size location job bruce montgomery president asb services view testimonials let merithall help achieve goals contact search jobs schoolcraft road livonia directions info merithall com merithall inc privacy site credits staffing websites haley marketing search jobs solutions blog contact team merithall inc skip main content careers search jobs people place hiring process client services faqs story team testimonials blog contact menu careers search jobs people place hiring process client services faqs story team testimonials blog contact team team meet people working behind scenes connect jannie linkedin jannie adams recruiter connect shayna linkedin shayna burden recruiter connect keith linkedin keith ditmore account manager connect robert linkedin robert drake manager connect travis linkedin travis gorski account manager connect paul linkedin paul kaser ceo lindsay washer assistant jannie adams recruiter linkedin shayna burden recruiter linkedin keith ditmore account manager linkedin robert drake manager linkedin travis gorski account manager linkedin paul kaser ceo linkedin lindsay washer assistant schoolcraft road livonia directions info merithall com merithall inc privacy site credits staffing websites haley marketing search jobs solutions blog contact testimonials merithall inc skip main content careers search jobs people place hiring process client services faqs story team testimonials blog contact menu careers search jobs people place hiring process client services faqs story team testimonials blog contact testimonials testimonials like work merithall people saying merithall take pride knowing clients candidates satisfied services pleased say merithall lived commitment provided top quality candidates meet unique requirements impressed short souring time number candidates provided opening well professionalism worked hiring teams human resources manager global medical technology company merithall helpful providing company experienced labor unable find reliable professional importantly provide quality service merithall made simple convenient use services equipped handle business needs necessary started today waiting lauren millennium outdoor services molnar roofing introduced merithall abc labor update may crew effectively supplemented existing workforce management responded quickly last minute schedule changes recommend merithall construction staffing open shop contractors seeking temporary staffing robert molnar molnar roofing workers supplied capable getting job done little direction allowed core employees accomplish brian dewan general manager ejh construction inc found merithall earlier year used construction service company every day since afternoon call request certain number carpenters certain level next morning like magic fully staffed economically tough times construction type services truly beneficial company able eliminate payroll taxes general liability insurance workman compensation big thank merithall staff cheryl savage company administrator buildmaster inc working merit hall great experience company take much workload backs providing quality employees qualified positions filled timothy warner warner brothers services inc merithall pleasure work overall labor provided construction projects satisfactory workers show time ready work required ppe continue use merithall resource temporary help needed dean stacer operations manager kent companies thanks help needed wish would contacted earlier year thanks kris beers abl landscaping merithall able supply hill top property services salt salt supplier pleased service laurie hill top property services merithall provides advantage able bring group experienced productive asbestos workers need ensures fulfill needs customers regardless size location job bruce montgomery president asb services happy service quality manpower kevin callahan bruttell roofing inc schoolcraft road livonia directions info merithall com merithall inc privacy site credits staffing websites haley marketing search jobs solutions blog contact wordpress error critical error website learn troubleshooting wordpress'\n",
      "label:  1\n"
     ]
    }
   ],
   "source": [
    "for example, label in numeric_dataset.take(1):\n",
    "  print('text: ', example.numpy())\n",
    "  print('label: ', label.numpy())"
   ]
  },
  {
   "cell_type": "code",
   "execution_count": 27,
   "metadata": {},
   "outputs": [],
   "source": [
    "BUFFER_SIZE = 3000\n",
    "BATCH_SIZE = 64"
   ]
  },
  {
   "cell_type": "code",
   "execution_count": 28,
   "metadata": {},
   "outputs": [],
   "source": [
    "def get_dataset_partitions_tf(ds, ds_size, train_split=0.8, val_split=0.1, test_split=0.1, shuffle=True, shuffle_size=5000):\n",
    "    assert (train_split + test_split + val_split) == 1\n",
    "    \n",
    "    if shuffle:\n",
    "        ds = ds.shuffle(shuffle_size, seed=24)\n",
    "    \n",
    "    train_size = int(train_split * ds_size)\n",
    "    val_size = int(val_split * ds_size)\n",
    "    \n",
    "    train_ds = ds.take(train_size)    \n",
    "    val_ds = ds.skip(train_size).take(val_size)\n",
    "    test_ds = ds.skip(train_size).skip(val_size)\n",
    "    \n",
    "    return train_ds, val_ds, test_ds"
   ]
  },
  {
   "cell_type": "code",
   "execution_count": 29,
   "metadata": {},
   "outputs": [
    {
     "data": {
      "text/plain": [
       "2872"
      ]
     },
     "execution_count": 29,
     "metadata": {},
     "output_type": "execute_result"
    }
   ],
   "source": [
    "len(numeric_dataset)"
   ]
  },
  {
   "cell_type": "code",
   "execution_count": 30,
   "metadata": {},
   "outputs": [],
   "source": [
    "\n",
    "train_ds, val_ds, test_ds = get_dataset_partitions_tf(numeric_dataset, 2872)"
   ]
  },
  {
   "cell_type": "code",
   "execution_count": 31,
   "metadata": {},
   "outputs": [
    {
     "data": {
      "text/plain": [
       "<TakeDataset element_spec=(TensorSpec(shape=(), dtype=tf.string, name=None), TensorSpec(shape=(), dtype=tf.int8, name=None))>"
      ]
     },
     "execution_count": 31,
     "metadata": {},
     "output_type": "execute_result"
    }
   ],
   "source": [
    "train_ds"
   ]
  },
  {
   "cell_type": "code",
   "execution_count": 32,
   "metadata": {},
   "outputs": [],
   "source": [
    "train_dataset = train_ds.shuffle(BUFFER_SIZE).batch(BATCH_SIZE)\n",
    "test_dataset = test_ds.batch(BATCH_SIZE)"
   ]
  },
  {
   "cell_type": "code",
   "execution_count": 33,
   "metadata": {},
   "outputs": [],
   "source": [
    "VOCAB_SIZE = 62000\n",
    "encoder = tf.keras.layers.TextVectorization(\n",
    "    max_tokens=VOCAB_SIZE)\n",
    "encoder.adapt(train_dataset.map(lambda text, label: text))"
   ]
  },
  {
   "cell_type": "code",
   "execution_count": 34,
   "metadata": {},
   "outputs": [
    {
     "data": {
      "text/plain": [
       "array(['', '[UNK]', 'services', 'contact', 'care', 'new', 'home',\n",
       "       'health', 'service', 'team', 'solutions', 'learn', 'business',\n",
       "       'careers', 'support', 'information', 'company', 'products', 'news',\n",
       "       'center'], dtype='<U62')"
      ]
     },
     "execution_count": 34,
     "metadata": {},
     "output_type": "execute_result"
    }
   ],
   "source": [
    "vocab = np.array(encoder.get_vocabulary())\n",
    "vocab[:20]"
   ]
  },
  {
   "cell_type": "code",
   "execution_count": 37,
   "metadata": {},
   "outputs": [],
   "source": [
    "model = tf.keras.Sequential([\n",
    "    encoder,\n",
    "    tf.keras.layers.Embedding(\n",
    "        input_dim=len(encoder.get_vocabulary()),\n",
    "        output_dim=64,\n",
    "        # Use masking to handle the variable sequence lengths\n",
    "        mask_zero=True),\n",
    "    tf.keras.layers.Bidirectional(tf.keras.layers.LSTM(64)),\n",
    "    tf.keras.layers.Dense(64, activation='relu'),\n",
    "    tf.keras.layers.Dropout(0.5),\n",
    "    tf.keras.layers.Dense(1)\n",
    "])"
   ]
  },
  {
   "cell_type": "code",
   "execution_count": 36,
   "metadata": {},
   "outputs": [],
   "source": [
    "model = tf.keras.Sequential([\n",
    "    encoder,\n",
    "    tf.keras.layers.Embedding(len(encoder.get_vocabulary()), 64, mask_zero=True),\n",
    "    tf.keras.layers.Bidirectional(tf.keras.layers.LSTM(64,  return_sequences=True)),\n",
    "    tf.keras.layers.Bidirectional(tf.keras.layers.LSTM(32)),\n",
    "    tf.keras.layers.Dense(64, activation='relu'),\n",
    "    tf.keras.layers.Dropout(0.5),\n",
    "    tf.keras.layers.Dense(1)\n",
    "])"
   ]
  },
  {
   "cell_type": "code",
   "execution_count": 38,
   "metadata": {},
   "outputs": [
    {
     "name": "stdout",
     "output_type": "stream",
     "text": [
      "[False, True, True, True, True, True]\n"
     ]
    }
   ],
   "source": [
    "print([layer.supports_masking for layer in model.layers])"
   ]
  },
  {
   "cell_type": "code",
   "execution_count": 39,
   "metadata": {},
   "outputs": [],
   "source": [
    "model.compile(loss=tf.keras.losses.BinaryCrossentropy(from_logits=True),\n",
    "              optimizer=tf.keras.optimizers.Adam(1e-4),\n",
    "              metrics=['accuracy'])"
   ]
  },
  {
   "cell_type": "code",
   "execution_count": 40,
   "metadata": {},
   "outputs": [
    {
     "name": "stdout",
     "output_type": "stream",
     "text": [
      "Epoch 1/25\n",
      "36/36 [==============================] - ETA: 0s - loss: 0.6925 - accuracy: 0.5085WARNING:tensorflow:Your input ran out of data; interrupting training. Make sure that your dataset or generator can generate at least `steps_per_epoch * epochs` batches (in this case, 30 batches). You may need to use the repeat() function when building your dataset.\n",
      "36/36 [==============================] - 130s 3s/step - loss: 0.6925 - accuracy: 0.5085 - val_loss: 0.6922 - val_accuracy: 0.4826\n",
      "Epoch 2/25\n",
      "36/36 [==============================] - 109s 3s/step - loss: 0.6914 - accuracy: 0.5059\n",
      "Epoch 3/25\n",
      "36/36 [==============================] - 110s 3s/step - loss: 0.6891 - accuracy: 0.5020\n",
      "Epoch 4/25\n",
      "36/36 [==============================] - 102s 3s/step - loss: 0.6814 - accuracy: 0.4963\n",
      "Epoch 5/25\n",
      "36/36 [==============================] - 98s 3s/step - loss: 0.6018 - accuracy: 0.5694\n",
      "Epoch 6/25\n",
      "36/36 [==============================] - 118s 3s/step - loss: 0.4708 - accuracy: 0.7849\n",
      "Epoch 7/25\n",
      "36/36 [==============================] - 111s 3s/step - loss: 0.4128 - accuracy: 0.8180\n",
      "Epoch 8/25\n",
      "36/36 [==============================] - 110s 3s/step - loss: 0.3427 - accuracy: 0.8398\n",
      "Epoch 9/25\n",
      "36/36 [==============================] - 101s 3s/step - loss: 0.3021 - accuracy: 0.8655\n",
      "Epoch 10/25\n",
      "36/36 [==============================] - 96s 3s/step - loss: 0.2789 - accuracy: 0.8690\n",
      "Epoch 11/25\n",
      "36/36 [==============================] - 103s 3s/step - loss: 0.2547 - accuracy: 0.8859\n",
      "Epoch 12/25\n",
      "36/36 [==============================] - 101s 3s/step - loss: 0.2148 - accuracy: 0.8994\n",
      "Epoch 13/25\n",
      "36/36 [==============================] - 104s 3s/step - loss: 0.2127 - accuracy: 0.9020\n",
      "Epoch 14/25\n",
      "36/36 [==============================] - 100s 3s/step - loss: 0.1878 - accuracy: 0.9103\n",
      "Epoch 15/25\n",
      "36/36 [==============================] - 101s 3s/step - loss: 0.1605 - accuracy: 0.9199\n",
      "Epoch 16/25\n",
      "36/36 [==============================] - 105s 3s/step - loss: 0.1411 - accuracy: 0.9264\n",
      "Epoch 17/25\n",
      "36/36 [==============================] - 107s 3s/step - loss: 0.1426 - accuracy: 0.9264\n",
      "Epoch 18/25\n",
      "36/36 [==============================] - 129s 4s/step - loss: 0.1185 - accuracy: 0.9334\n",
      "Epoch 19/25\n",
      "36/36 [==============================] - 114s 3s/step - loss: 0.1137 - accuracy: 0.9408\n",
      "Epoch 20/25\n",
      "36/36 [==============================] - 115s 3s/step - loss: 0.1155 - accuracy: 0.9360\n",
      "Epoch 21/25\n",
      "36/36 [==============================] - 139s 4s/step - loss: 0.1059 - accuracy: 0.9425\n",
      "Epoch 22/25\n",
      "36/36 [==============================] - 134s 4s/step - loss: 0.1122 - accuracy: 0.9408\n",
      "Epoch 23/25\n",
      "36/36 [==============================] - 97s 3s/step - loss: 0.0981 - accuracy: 0.9443\n",
      "Epoch 24/25\n",
      "36/36 [==============================] - 85s 2s/step - loss: 0.0965 - accuracy: 0.9438\n",
      "Epoch 25/25\n",
      "36/36 [==============================] - 86s 2s/step - loss: 0.0960 - accuracy: 0.9473\n"
     ]
    }
   ],
   "source": [
    "history = model.fit(train_dataset, epochs=25,\n",
    "                    validation_data=test_dataset,\n",
    "                    validation_steps=30)"
   ]
  },
  {
   "cell_type": "code",
   "execution_count": 41,
   "metadata": {},
   "outputs": [
    {
     "name": "stdout",
     "output_type": "stream",
     "text": [
      "5/5 [==============================] - 2s 360ms/step - loss: 0.0916 - accuracy: 0.9271\n",
      "Test Loss: 0.09161242842674255\n",
      "Test Accuracy: 0.9270833134651184\n"
     ]
    }
   ],
   "source": [
    "test_loss, test_acc = model.evaluate(test_dataset)\n",
    "\n",
    "print('Test Loss:', test_loss)\n",
    "print('Test Accuracy:', test_acc)"
   ]
  },
  {
   "cell_type": "code",
   "execution_count": 45,
   "metadata": {},
   "outputs": [
    {
     "name": "stdout",
     "output_type": "stream",
     "text": [
      "Requirement already satisfied: pyyaml in /home/user/anaconda3/lib/python3.9/site-packages (5.3.1)\n",
      "Requirement already satisfied: h5py in /home/user/anaconda3/lib/python3.9/site-packages (3.1.0)\n",
      "Requirement already satisfied: numpy>=1.19.3 in /home/user/anaconda3/lib/python3.9/site-packages (from h5py) (1.22.3)\n",
      "Note: you may need to restart the kernel to use updated packages.\n"
     ]
    }
   ],
   "source": [
    "pip install pyyaml h5py"
   ]
  },
  {
   "cell_type": "code",
   "execution_count": 47,
   "metadata": {},
   "outputs": [
    {
     "name": "stderr",
     "output_type": "stream",
     "text": [
      "2022-04-22 12:38:07.695446: W tensorflow/python/util/util.cc:368] Sets are not currently considered sequences, but this may change in the future, so consider avoiding using them.\n",
      "WARNING:absl:Found untraced functions such as lstm_cell_10_layer_call_fn, lstm_cell_10_layer_call_and_return_conditional_losses, lstm_cell_11_layer_call_fn, lstm_cell_11_layer_call_and_return_conditional_losses while saving (showing 4 of 4). These functions will not be directly callable after loading.\n"
     ]
    },
    {
     "name": "stdout",
     "output_type": "stream",
     "text": [
      "INFO:tensorflow:Assets written to: saved_model/my_model/assets\n"
     ]
    },
    {
     "name": "stderr",
     "output_type": "stream",
     "text": [
      "INFO:tensorflow:Assets written to: saved_model/my_model/assets\n",
      "WARNING:absl:<keras.layers.recurrent.LSTMCell object at 0x7f7a32761400> has the same name 'LSTMCell' as a built-in Keras object. Consider renaming <class 'keras.layers.recurrent.LSTMCell'> to avoid naming conflicts when loading with `tf.keras.models.load_model`. If renaming is not possible, pass the object in the `custom_objects` parameter of the load function.\n",
      "WARNING:absl:<keras.layers.recurrent.LSTMCell object at 0x7f7a31253370> has the same name 'LSTMCell' as a built-in Keras object. Consider renaming <class 'keras.layers.recurrent.LSTMCell'> to avoid naming conflicts when loading with `tf.keras.models.load_model`. If renaming is not possible, pass the object in the `custom_objects` parameter of the load function.\n"
     ]
    }
   ],
   "source": [
    "!mkdir -p saved_model\n",
    "model.save('saved_model/my_model')"
   ]
  },
  {
   "cell_type": "code",
   "execution_count": 50,
   "metadata": {},
   "outputs": [
    {
     "name": "stdout",
     "output_type": "stream",
     "text": [
      "my_model\n",
      "assets\tkeras_metadata.pb  saved_model.pb  variables\n"
     ]
    }
   ],
   "source": [
    "# my_model directory\n",
    "!ls saved_model\n",
    "\n",
    "# Contains an assets folder, saved_model.pb, and variables folder.\n",
    "!ls saved_model/my_model"
   ]
  },
  {
   "cell_type": "code",
   "execution_count": 51,
   "metadata": {},
   "outputs": [
    {
     "name": "stderr",
     "output_type": "stream",
     "text": [
      "2022-04-22 12:38:53.826010: W tensorflow/core/common_runtime/graph_constructor.cc:803] Node 'cond/while' has 13 outputs but the _output_shapes attribute specifies shapes for 46 outputs. Output shapes may be inaccurate.\n",
      "2022-04-22 12:38:54.302179: W tensorflow/core/common_runtime/graph_constructor.cc:803] Node 'cond' has 5 outputs but the _output_shapes attribute specifies shapes for 46 outputs. Output shapes may be inaccurate.\n",
      "2022-04-22 12:38:54.602399: W tensorflow/core/common_runtime/graph_constructor.cc:803] Node 'cond/while' has 13 outputs but the _output_shapes attribute specifies shapes for 46 outputs. Output shapes may be inaccurate.\n",
      "2022-04-22 12:38:54.740389: W tensorflow/core/common_runtime/graph_constructor.cc:803] Node 'cond' has 5 outputs but the _output_shapes attribute specifies shapes for 46 outputs. Output shapes may be inaccurate.\n",
      "2022-04-22 12:38:56.145394: W tensorflow/core/common_runtime/graph_constructor.cc:803] Node 'cond/while' has 13 outputs but the _output_shapes attribute specifies shapes for 46 outputs. Output shapes may be inaccurate.\n",
      "2022-04-22 12:38:56.157665: W tensorflow/core/common_runtime/graph_constructor.cc:803] Node 'cond' has 5 outputs but the _output_shapes attribute specifies shapes for 46 outputs. Output shapes may be inaccurate.\n",
      "2022-04-22 12:38:56.173883: W tensorflow/core/common_runtime/graph_constructor.cc:803] Node 'cond/while' has 13 outputs but the _output_shapes attribute specifies shapes for 46 outputs. Output shapes may be inaccurate.\n",
      "2022-04-22 12:38:56.190387: W tensorflow/core/common_runtime/graph_constructor.cc:803] Node 'cond' has 5 outputs but the _output_shapes attribute specifies shapes for 46 outputs. Output shapes may be inaccurate.\n",
      "2022-04-22 12:38:56.883918: W tensorflow/core/common_runtime/graph_constructor.cc:803] Node 'cond/while' has 13 outputs but the _output_shapes attribute specifies shapes for 46 outputs. Output shapes may be inaccurate.\n",
      "2022-04-22 12:38:56.895659: W tensorflow/core/common_runtime/graph_constructor.cc:803] Node 'cond' has 5 outputs but the _output_shapes attribute specifies shapes for 46 outputs. Output shapes may be inaccurate.\n",
      "2022-04-22 12:38:56.946773: W tensorflow/core/common_runtime/graph_constructor.cc:803] Node 'cond/while' has 13 outputs but the _output_shapes attribute specifies shapes for 46 outputs. Output shapes may be inaccurate.\n",
      "2022-04-22 12:38:56.961631: W tensorflow/core/common_runtime/graph_constructor.cc:803] Node 'cond' has 5 outputs but the _output_shapes attribute specifies shapes for 46 outputs. Output shapes may be inaccurate.\n",
      "2022-04-22 12:38:57.026989: W tensorflow/core/common_runtime/graph_constructor.cc:803] Node 'cond/while' has 13 outputs but the _output_shapes attribute specifies shapes for 46 outputs. Output shapes may be inaccurate.\n",
      "2022-04-22 12:38:57.039324: W tensorflow/core/common_runtime/graph_constructor.cc:803] Node 'cond' has 5 outputs but the _output_shapes attribute specifies shapes for 46 outputs. Output shapes may be inaccurate.\n",
      "2022-04-22 12:38:57.096325: W tensorflow/core/common_runtime/graph_constructor.cc:803] Node 'cond/while' has 13 outputs but the _output_shapes attribute specifies shapes for 46 outputs. Output shapes may be inaccurate.\n",
      "2022-04-22 12:38:57.145266: W tensorflow/core/common_runtime/graph_constructor.cc:803] Node 'cond/while' has 13 outputs but the _output_shapes attribute specifies shapes for 46 outputs. Output shapes may be inaccurate.\n",
      "2022-04-22 12:38:57.156573: W tensorflow/core/common_runtime/graph_constructor.cc:803] Node 'cond' has 5 outputs but the _output_shapes attribute specifies shapes for 46 outputs. Output shapes may be inaccurate.\n",
      "2022-04-22 12:38:57.801387: W tensorflow/core/common_runtime/graph_constructor.cc:803] Node 'cond' has 5 outputs but the _output_shapes attribute specifies shapes for 46 outputs. Output shapes may be inaccurate.\n",
      "2022-04-22 12:38:57.984814: W tensorflow/core/common_runtime/graph_constructor.cc:803] Node 'cond/while' has 13 outputs but the _output_shapes attribute specifies shapes for 46 outputs. Output shapes may be inaccurate.\n",
      "2022-04-22 12:38:57.997780: W tensorflow/core/common_runtime/graph_constructor.cc:803] Node 'cond' has 5 outputs but the _output_shapes attribute specifies shapes for 46 outputs. Output shapes may be inaccurate.\n",
      "2022-04-22 12:38:58.056675: W tensorflow/core/common_runtime/graph_constructor.cc:803] Node 'cond/while' has 13 outputs but the _output_shapes attribute specifies shapes for 46 outputs. Output shapes may be inaccurate.\n",
      "2022-04-22 12:38:58.067923: W tensorflow/core/common_runtime/graph_constructor.cc:803] Node 'cond' has 5 outputs but the _output_shapes attribute specifies shapes for 46 outputs. Output shapes may be inaccurate.\n",
      "2022-04-22 12:38:58.208276: W tensorflow/core/common_runtime/graph_constructor.cc:803] Node 'cond/while' has 13 outputs but the _output_shapes attribute specifies shapes for 46 outputs. Output shapes may be inaccurate.\n",
      "2022-04-22 12:38:58.221243: W tensorflow/core/common_runtime/graph_constructor.cc:803] Node 'cond' has 5 outputs but the _output_shapes attribute specifies shapes for 46 outputs. Output shapes may be inaccurate.\n",
      "2022-04-22 12:38:58.297171: W tensorflow/core/common_runtime/graph_constructor.cc:803] Node 'cond/while' has 13 outputs but the _output_shapes attribute specifies shapes for 46 outputs. Output shapes may be inaccurate.\n",
      "2022-04-22 12:38:58.308451: W tensorflow/core/common_runtime/graph_constructor.cc:803] Node 'cond' has 5 outputs but the _output_shapes attribute specifies shapes for 46 outputs. Output shapes may be inaccurate.\n",
      "2022-04-22 12:38:58.410111: W tensorflow/core/common_runtime/graph_constructor.cc:803] Node 'cond/while' has 13 outputs but the _output_shapes attribute specifies shapes for 46 outputs. Output shapes may be inaccurate.\n",
      "2022-04-22 12:38:58.422379: W tensorflow/core/common_runtime/graph_constructor.cc:803] Node 'cond' has 5 outputs but the _output_shapes attribute specifies shapes for 46 outputs. Output shapes may be inaccurate.\n"
     ]
    },
    {
     "name": "stdout",
     "output_type": "stream",
     "text": [
      "Model: \"sequential_2\"\n",
      "_________________________________________________________________\n",
      " Layer (type)                Output Shape              Param #   \n",
      "=================================================================\n",
      " text_vectorization (TextVec  (None, None)             0         \n",
      " torization)                                                     \n",
      "                                                                 \n",
      " embedding_2 (Embedding)     (None, None, 64)          3291008   \n",
      "                                                                 \n",
      " bidirectional_3 (Bidirectio  (None, 128)              66048     \n",
      " nal)                                                            \n",
      "                                                                 \n",
      " dense_4 (Dense)             (None, 64)                8256      \n",
      "                                                                 \n",
      " dropout_2 (Dropout)         (None, 64)                0         \n",
      "                                                                 \n",
      " dense_5 (Dense)             (None, 1)                 65        \n",
      "                                                                 \n",
      "=================================================================\n",
      "Total params: 3,365,377\n",
      "Trainable params: 3,365,377\n",
      "Non-trainable params: 0\n",
      "_________________________________________________________________\n"
     ]
    }
   ],
   "source": [
    "new_model = tf.keras.models.load_model('saved_model/my_model')\n",
    "\n",
    "# Check its architecture\n",
    "new_model.summary()"
   ]
  },
  {
   "cell_type": "code",
   "execution_count": 61,
   "metadata": {},
   "outputs": [
    {
     "name": "stdout",
     "output_type": "stream",
     "text": [
      "5/5 [==============================] - 4s 353ms/step - loss: 0.0752 - accuracy: 0.9375\n",
      "Test Loss: 0.0751938670873642\n",
      "Test Accuracy: 0.9375\n"
     ]
    }
   ],
   "source": [
    "test_loss, test_acc = new_model.evaluate(test_dataset)\n",
    "\n",
    "print('Test Loss:', test_loss)\n",
    "print('Test Accuracy:', test_acc)"
   ]
  },
  {
   "cell_type": "code",
   "execution_count": 124,
   "metadata": {},
   "outputs": [
    {
     "data": {
      "text/plain": [
       "(0.0, 0.7226751197129488)"
      ]
     },
     "execution_count": 124,
     "metadata": {},
     "output_type": "execute_result"
    },
    {
     "data": {
      "image/png": "[encoded data removed]",
      "text/plain": [
       "<Figure size 1152x576 with 2 Axes>"
      ]
     },
     "metadata": {
      "needs_background": "light"
     },
     "output_type": "display_data"
    }
   ],
   "source": [
    "import matplotlib.pyplot as plt\n",
    "plt.figure(figsize=(16, 8))\n",
    "plt.subplot(1, 2, 1)\n",
    "plot_graphs(history, 'accuracy')\n",
    "plt.ylim(None, 1)\n",
    "plt.subplot(1, 2, 2)\n",
    "plot_graphs(history, 'loss')\n",
    "plt.ylim(0, None)"
   ]
  },
  {
   "cell_type": "code",
   "execution_count": 111,
   "metadata": {},
   "outputs": [],
   "source": [
    "import matplotlib.pyplot as plt\n",
    "\n",
    "\n",
    "def plot_graphs(history, metric):\n",
    "  plt.plot(history.history[metric])\n",
    "  plt.plot(history.history['val_'+metric], '')\n",
    "  plt.xlabel(\"Epochs\")\n",
    "  plt.ylabel(metric)\n",
    "  plt.legend([metric, 'val_'+metric])"
   ]
  },
  {
   "cell_type": "code",
   "execution_count": 112,
   "metadata": {},
   "outputs": [
    {
     "data": {
      "text/plain": [
       "'B2C'"
      ]
     },
     "execution_count": 112,
     "metadata": {},
     "output_type": "execute_result"
    }
   ],
   "source": [
    "final_df['Business Model'][1]"
   ]
  },
  {
   "cell_type": "code",
   "execution_count": 113,
   "metadata": {},
   "outputs": [
    {
     "data": {
      "text/html": [
       "<div>\n",
       "<style scoped>\n",
       "    .dataframe tbody tr th:only-of-type {\n",
       "        vertical-align: middle;\n",
       "    }\n",
       "\n",
       "    .dataframe tbody tr th {\n",
       "        vertical-align: top;\n",
       "    }\n",
       "\n",
       "    .dataframe thead th {\n",
       "        text-align: right;\n",
       "    }\n",
       "</style>\n",
       "<table border=\"1\" class=\"dataframe\">\n",
       "  <thead>\n",
       "    <tr style=\"text-align: right;\">\n",
       "      <th></th>\n",
       "      <th>domains</th>\n",
       "      <th>text</th>\n",
       "      <th>Email Domain</th>\n",
       "      <th>Business Model</th>\n",
       "      <th>length</th>\n",
       "    </tr>\n",
       "  </thead>\n",
       "  <tbody>\n",
       "    <tr>\n",
       "      <th>0</th>\n",
       "      <td>www.umcelpaso.org</td>\n",
       "      <td>umc paso university medical center paso welcom...</td>\n",
       "      <td>umcelpaso.org</td>\n",
       "      <td>B2C</td>\n",
       "      <td>22117</td>\n",
       "    </tr>\n",
       "    <tr>\n",
       "      <th>1</th>\n",
       "      <td>www.merithall.com</td>\n",
       "      <td>staffing recruitment agencies detroit merithal...</td>\n",
       "      <td>merithall.com</td>\n",
       "      <td>B2C</td>\n",
       "      <td>1417</td>\n",
       "    </tr>\n",
       "  </tbody>\n",
       "</table>\n",
       "</div>"
      ],
      "text/plain": [
       "             domains                                               text  \\\n",
       "0  www.umcelpaso.org  umc paso university medical center paso welcom...   \n",
       "1  www.merithall.com  staffing recruitment agencies detroit merithal...   \n",
       "\n",
       "    Email Domain Business Model  length  \n",
       "0  umcelpaso.org            B2C   22117  \n",
       "1  merithall.com            B2C    1417  "
      ]
     },
     "execution_count": 113,
     "metadata": {},
     "output_type": "execute_result"
    }
   ],
   "source": [
    "final_df.head(2)"
   ]
  },
  {
   "cell_type": "code",
   "execution_count": 52,
   "metadata": {},
   "outputs": [],
   "source": [
    "import os\n",
    "filelist = os.listdir(\"test1\")\n",
    "lst = []\n",
    "for ijk in filelist:\n",
    "#     frame = pd.read_csv(f\"/home/technology/vikram/ISV_detection_LSTMs/new_about_extraction/savedata/{ijk}\")\n",
    "    with open(f\"test1/{ijk}\",'r') as fl:\n",
    "        text = fl.readlines()\n",
    "        text = \" \".join(text)\n",
    "    \n",
    "    lst.append([ijk.replace(\"_\",\".\").replace(\".txt\",\"\"),text])\n",
    "#     df = df.append(list(frame).insert(0,str(ijk.replace(\"_\",\".\").replace(\".txt\",\"\"))))\n",
    "df_text = pd.DataFrame(lst,columns = [\"domains\",\"text\"])"
   ]
  },
  {
   "cell_type": "code",
   "execution_count": 53,
   "metadata": {},
   "outputs": [],
   "source": [
    "df_text = df_text.replace(r'^\\s*$', np.nan, regex=True)"
   ]
  },
  {
   "cell_type": "code",
   "execution_count": 54,
   "metadata": {},
   "outputs": [
    {
     "data": {
      "text/html": [
       "<div>\n",
       "<style scoped>\n",
       "    .dataframe tbody tr th:only-of-type {\n",
       "        vertical-align: middle;\n",
       "    }\n",
       "\n",
       "    .dataframe tbody tr th {\n",
       "        vertical-align: top;\n",
       "    }\n",
       "\n",
       "    .dataframe thead th {\n",
       "        text-align: right;\n",
       "    }\n",
       "</style>\n",
       "<table border=\"1\" class=\"dataframe\">\n",
       "  <thead>\n",
       "    <tr style=\"text-align: right;\">\n",
       "      <th></th>\n",
       "      <th>domains</th>\n",
       "      <th>text</th>\n",
       "    </tr>\n",
       "  </thead>\n",
       "  <tbody>\n",
       "    <tr>\n",
       "      <th>0</th>\n",
       "      <td>lorencook.com</td>\n",
       "      <td>air moving experts fans blowers lab exhaust en...</td>\n",
       "    </tr>\n",
       "    <tr>\n",
       "      <th>1</th>\n",
       "      <td>icueyewear.com</td>\n",
       "      <td>stylish reading glasses men women icu eyewear ...</td>\n",
       "    </tr>\n",
       "    <tr>\n",
       "      <th>2</th>\n",
       "      <td>oldbrickfurniture.com</td>\n",
       "      <td>old brick furniture mattress store old brick f...</td>\n",
       "    </tr>\n",
       "    <tr>\n",
       "      <th>3</th>\n",
       "      <td>ciscofishingsystemsltd.com</td>\n",
       "      <td>fishing trolling equipment adjustable rod hold...</td>\n",
       "    </tr>\n",
       "    <tr>\n",
       "      <th>4</th>\n",
       "      <td>adi.com</td>\n",
       "      <td>applied dynamics international applied dynamic...</td>\n",
       "    </tr>\n",
       "    <tr>\n",
       "      <th>...</th>\n",
       "      <td>...</td>\n",
       "      <td>...</td>\n",
       "    </tr>\n",
       "    <tr>\n",
       "      <th>878</th>\n",
       "      <td>riftrecon.com</td>\n",
       "      <td>found found resource requested could found ser...</td>\n",
       "    </tr>\n",
       "    <tr>\n",
       "      <th>879</th>\n",
       "      <td>shoyoroll.com</td>\n",
       "      <td>shoyoroll skip content shop feed account podca...</td>\n",
       "    </tr>\n",
       "    <tr>\n",
       "      <th>880</th>\n",
       "      <td>mexicaliblues.com</td>\n",
       "      <td>responsibly sourced hippie clothing boho decor...</td>\n",
       "    </tr>\n",
       "    <tr>\n",
       "      <th>881</th>\n",
       "      <td>rjcomponents.com</td>\n",
       "      <td>NaN</td>\n",
       "    </tr>\n",
       "    <tr>\n",
       "      <th>882</th>\n",
       "      <td>digikey.com</td>\n",
       "      <td>digikey electronics electronic components dist...</td>\n",
       "    </tr>\n",
       "  </tbody>\n",
       "</table>\n",
       "<p>883 rows × 2 columns</p>\n",
       "</div>"
      ],
      "text/plain": [
       "                        domains  \\\n",
       "0                 lorencook.com   \n",
       "1                icueyewear.com   \n",
       "2         oldbrickfurniture.com   \n",
       "3    ciscofishingsystemsltd.com   \n",
       "4                       adi.com   \n",
       "..                          ...   \n",
       "878               riftrecon.com   \n",
       "879               shoyoroll.com   \n",
       "880           mexicaliblues.com   \n",
       "881            rjcomponents.com   \n",
       "882                 digikey.com   \n",
       "\n",
       "                                                  text  \n",
       "0    air moving experts fans blowers lab exhaust en...  \n",
       "1    stylish reading glasses men women icu eyewear ...  \n",
       "2    old brick furniture mattress store old brick f...  \n",
       "3    fishing trolling equipment adjustable rod hold...  \n",
       "4    applied dynamics international applied dynamic...  \n",
       "..                                                 ...  \n",
       "878  found found resource requested could found ser...  \n",
       "879  shoyoroll skip content shop feed account podca...  \n",
       "880  responsibly sourced hippie clothing boho decor...  \n",
       "881                                                NaN  \n",
       "882  digikey electronics electronic components dist...  \n",
       "\n",
       "[883 rows x 2 columns]"
      ]
     },
     "execution_count": 54,
     "metadata": {},
     "output_type": "execute_result"
    }
   ],
   "source": [
    "df_text"
   ]
  },
  {
   "cell_type": "code",
   "execution_count": 55,
   "metadata": {},
   "outputs": [],
   "source": [
    "df_text.dropna(inplace=True)"
   ]
  },
  {
   "cell_type": "code",
   "execution_count": 56,
   "metadata": {},
   "outputs": [],
   "source": [
    "prediction = []\n",
    "for index, row in df_text.iterrows():\n",
    "    predictions = new_model.predict(np.array([row['text']]))\n",
    "    if predictions >= 0.0:\n",
    "        x = 'B2C'\n",
    "        prediction.append(x)\n",
    "    else:\n",
    "        x = 'B2B'\n",
    "        prediction.append(x)\n",
    "    "
   ]
  },
  {
   "cell_type": "code",
   "execution_count": 59,
   "metadata": {},
   "outputs": [],
   "source": [
    "df_text['prediction'] = pd.Series(prediction)"
   ]
  },
  {
   "cell_type": "code",
   "execution_count": 60,
   "metadata": {},
   "outputs": [],
   "source": [
    "df_text.to_excel(\"prediction9.xlsx\")"
   ]
  },
  {
   "cell_type": "code",
   "execution_count": null,
   "metadata": {},
   "outputs": [],
   "source": [
    "len(prediction)"
   ]
  },
  {
   "cell_type": "code",
   "execution_count": null,
   "metadata": {},
   "outputs": [],
   "source": [
    "df_text"
   ]
  },
  {
   "cell_type": "code",
   "execution_count": 58,
   "metadata": {},
   "outputs": [
    {
     "data": {
      "text/plain": [
       "876"
      ]
     },
     "execution_count": 58,
     "metadata": {},
     "output_type": "execute_result"
    }
   ],
   "source": [
    "len(prediction)"
   ]
  }
 ],
 "metadata": {
  "kernelspec": {
   "display_name": "Python 3 (ipykernel)",
   "language": "python",
   "name": "python3"
  },
  "language_info": {
   "codemirror_mode": {
    "name": "ipython",
    "version": 3
   },
   "file_extension": ".py",
   "mimetype": "text/x-python",
   "name": "python",
   "nbconvert_exporter": "python",
   "pygments_lexer": "ipython3",
   "version": "3.9.7"
  }
 },
 "nbformat": 4,
 "nbformat_minor": 4
}
