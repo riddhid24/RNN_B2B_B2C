{
 "cells": [
  {
   "cell_type": "code",
   "execution_count": null,
   "metadata": {},
   "outputs": [],
   "source": [
    "import numpy as np\n",
    "import pandas as pd\n",
    "\n",
    "import tensorflow as tf"
   ]
  },
  {
   "cell_type": "markdown",
   "metadata": {},
   "source": [
    "# Reading the text folder"
   ]
  },
  {
   "cell_type": "code",
   "execution_count": 3,
   "metadata": {
    "scrolled": true
   },
   "outputs": [],
   "source": [
    "import os\n",
    "filelist = os.listdir(\"savedata\")\n",
    "lst = []\n",
    "for ijk in filelist:\n",
    "    with open(f\"savedata/{ijk}\",'r') as fl:\n",
    "        text = fl.readlines()\n",
    "        text = \" \".join(text)\n",
    "    \n",
    "    lst.append([ijk.replace(\"_\",\".\").replace(\".txt\",\"\"),text])\n",
    "#     df = df.append(list(frame).insert(0,str(ijk.replace(\"_\",\".\").replace(\".txt\",\"\"))))\n",
    "df_text = pd.DataFrame(lst,columns = [\"domains\",\"text\"])"
   ]
  },
  {
   "cell_type": "markdown",
   "metadata": {},
   "source": [
    "# Reading the Label File"
   ]
  },
  {
   "cell_type": "code",
   "execution_count": 3,
   "metadata": {},
   "outputs": [],
   "source": [
    "df1=pd.read_excel(\"2k_sample_b2b_b2c.xlsx\")"
   ]
  },
  {
   "cell_type": "markdown",
   "metadata": {},
   "source": [
    "Merging both files"
   ]
  },
  {
   "cell_type": "code",
   "execution_count": 5,
   "metadata": {
    "scrolled": true
   },
   "outputs": [
    {
     "data": {
      "text/html": [
       "<div>\n",
       "<style scoped>\n",
       "    .dataframe tbody tr th:only-of-type {\n",
       "        vertical-align: middle;\n",
       "    }\n",
       "\n",
       "    .dataframe tbody tr th {\n",
       "        vertical-align: top;\n",
       "    }\n",
       "\n",
       "    .dataframe thead th {\n",
       "        text-align: right;\n",
       "    }\n",
       "</style>\n",
       "<table border=\"1\" class=\"dataframe\">\n",
       "  <thead>\n",
       "    <tr style=\"text-align: right;\">\n",
       "      <th></th>\n",
       "      <th>domains</th>\n",
       "      <th>text</th>\n",
       "      <th>Email Domain</th>\n",
       "      <th>Business Model</th>\n",
       "    </tr>\n",
       "  </thead>\n",
       "  <tbody>\n",
       "    <tr>\n",
       "      <th>0</th>\n",
       "      <td>www.umcelpaso.org</td>\n",
       "      <td>umc paso university medical center paso welcom...</td>\n",
       "      <td>umcelpaso.org</td>\n",
       "      <td>B2C</td>\n",
       "    </tr>\n",
       "    <tr>\n",
       "      <th>1</th>\n",
       "      <td>www.merithall.com</td>\n",
       "      <td>staffing recruitment agencies detroit merithal...</td>\n",
       "      <td>merithall.com</td>\n",
       "      <td>B2C</td>\n",
       "    </tr>\n",
       "    <tr>\n",
       "      <th>2</th>\n",
       "      <td>www.intd.com</td>\n",
       "      <td>heartland express giving truck drivers best pa...</td>\n",
       "      <td>intd.com</td>\n",
       "      <td>B2B</td>\n",
       "    </tr>\n",
       "    <tr>\n",
       "      <th>3</th>\n",
       "      <td>www.edgetherapeutics.com</td>\n",
       "      <td>site configured found site looking found domai...</td>\n",
       "      <td>edgetherapeutics.com</td>\n",
       "      <td>B2B</td>\n",
       "    </tr>\n",
       "    <tr>\n",
       "      <th>4</th>\n",
       "      <td>www.backchecked.com</td>\n",
       "      <td>urls looking</td>\n",
       "      <td>backchecked.com</td>\n",
       "      <td>B2B</td>\n",
       "    </tr>\n",
       "    <tr>\n",
       "      <th>...</th>\n",
       "      <td>...</td>\n",
       "      <td>...</td>\n",
       "      <td>...</td>\n",
       "      <td>...</td>\n",
       "    </tr>\n",
       "    <tr>\n",
       "      <th>3829</th>\n",
       "      <td>www.marketmuse.com</td>\n",
       "      <td>content planning optimization software marketm...</td>\n",
       "      <td>marketmuse.com</td>\n",
       "      <td>B2B</td>\n",
       "    </tr>\n",
       "    <tr>\n",
       "      <th>3830</th>\n",
       "      <td>www.modernstorytellers.com</td>\n",
       "      <td>haberman mission based marketing communication...</td>\n",
       "      <td>modernstorytellers.com</td>\n",
       "      <td>B2B</td>\n",
       "    </tr>\n",
       "    <tr>\n",
       "      <th>3831</th>\n",
       "      <td>www.startel.com</td>\n",
       "      <td>contact center software startel com follow fol...</td>\n",
       "      <td>startel.com</td>\n",
       "      <td>B2B</td>\n",
       "    </tr>\n",
       "    <tr>\n",
       "      <th>3832</th>\n",
       "      <td>www.donleefarms.com</td>\n",
       "      <td>meat meatless plant based burgers bowls lee fa...</td>\n",
       "      <td>donleefarms.com</td>\n",
       "      <td>B2C</td>\n",
       "    </tr>\n",
       "    <tr>\n",
       "      <th>3833</th>\n",
       "      <td>www.dovedata.com</td>\n",
       "      <td>index index name last modified size cgi bin uc...</td>\n",
       "      <td>dovedata.com</td>\n",
       "      <td>B2B</td>\n",
       "    </tr>\n",
       "  </tbody>\n",
       "</table>\n",
       "<p>3834 rows × 4 columns</p>\n",
       "</div>"
      ],
      "text/plain": [
       "                         domains  \\\n",
       "0              www.umcelpaso.org   \n",
       "1              www.merithall.com   \n",
       "2                   www.intd.com   \n",
       "3       www.edgetherapeutics.com   \n",
       "4            www.backchecked.com   \n",
       "...                          ...   \n",
       "3829          www.marketmuse.com   \n",
       "3830  www.modernstorytellers.com   \n",
       "3831             www.startel.com   \n",
       "3832         www.donleefarms.com   \n",
       "3833            www.dovedata.com   \n",
       "\n",
       "                                                   text  \\\n",
       "0     umc paso university medical center paso welcom...   \n",
       "1     staffing recruitment agencies detroit merithal...   \n",
       "2     heartland express giving truck drivers best pa...   \n",
       "3     site configured found site looking found domai...   \n",
       "4                                          urls looking   \n",
       "...                                                 ...   \n",
       "3829  content planning optimization software marketm...   \n",
       "3830  haberman mission based marketing communication...   \n",
       "3831  contact center software startel com follow fol...   \n",
       "3832  meat meatless plant based burgers bowls lee fa...   \n",
       "3833  index index name last modified size cgi bin uc...   \n",
       "\n",
       "                Email Domain Business Model  \n",
       "0              umcelpaso.org            B2C  \n",
       "1              merithall.com            B2C  \n",
       "2                   intd.com            B2B  \n",
       "3       edgetherapeutics.com            B2B  \n",
       "4            backchecked.com            B2B  \n",
       "...                      ...            ...  \n",
       "3829          marketmuse.com            B2B  \n",
       "3830  modernstorytellers.com            B2B  \n",
       "3831             startel.com            B2B  \n",
       "3832         donleefarms.com            B2C  \n",
       "3833            dovedata.com            B2B  \n",
       "\n",
       "[3834 rows x 4 columns]"
      ]
     },
     "execution_count": 5,
     "metadata": {},
     "output_type": "execute_result"
    }
   ],
   "source": [
    "final_df=pd.merge(df_text,df1,on='domains')\n",
    "final_df"
   ]
  },
  
  {
   "cell_type": "code",
   "execution_count": 7,
   "metadata": {},
   "outputs": [],
   "source": [
    "final_df['length'] = final_df.text.apply(lambda x: len(str(x).split()))"
   ]
  },
  {
   "cell_type": "markdown",
   "metadata": {},
   "source": [
    "# Removing Outliers"
   ]
  },
  {
   "cell_type": "code",
   "execution_count": 8,
   "metadata": {},
   "outputs": [
    {
     "name": "stderr",
     "output_type": "stream",
     "text": [
      "/tmp/ipykernel_8288/1322955384.py:3: FutureWarning: The frame.append method is deprecated and will be removed from pandas in a future version. Use pandas.concat instead.\n",
      "  new_df = b2b_df.append(b2c_df)\n"
     ]
    }
   ],
   "source": [
    "b2b_df = final_df[(final_df['Business Model'] == \"B2C\" )& (final_df['length'] <  3051 )]\n",
    "b2c_df = final_df[(final_df['Business Model'] == \"B2B\" )& (final_df['length'] <  1793 )]\n",
    "new_df = b2b_df.append(b2c_df)"
   ]
  },
  {
   "cell_type": "markdown",
   "metadata": {},
   "source": [
    "# Removing Stopword"
   ]
  },
  {
   "cell_type": "code",
   "execution_count": 9,
   "metadata": {},
   "outputs": [
    {
     "name": "stderr",
     "output_type": "stream",
     "text": [
      "[nltk_data] Downloading package stopwords to /home/user/nltk_data...\n",
      "[nltk_data]   Package stopwords is already up-to-date!\n"
     ]
    }
   ],
   "source": [
    "import nltk\n",
    "import re\n",
    "import string\n",
    "nltk.download('stopwords')\n",
    "stopwords = list(nltk.corpus.stopwords.words('english'))"
   ]
  },
  {
   "cell_type": "code",
   "execution_count": 10,
   "metadata": {},
   "outputs": [],
   "source": [
    "def normalize(col):\n",
    "    for i in range(len(col)):\n",
    "        lm=col[i].lower().split(' ')\n",
    "    return lm\n",
    "\n",
    "\n",
    "def stopwords_removal(stopwords,review_split):\n",
    "    stop_wrods_remove=[]\n",
    "    for i in range(len(review_split)):\n",
    "        stop_wrods_remove.append([i for i in review_split[i] if i not in stopwords])\n",
    "    return stop_wrods_remove\n",
    "\n",
    "\n",
    "def number_removed(stopword_rem):\n",
    "    joined=[]\n",
    "    for i in range(len(stopword_rem)):\n",
    "        joined.append(' '.join(stopword_rem[i]))\n",
    "    number_removed=[]\n",
    "    for i in range(len(joined)):\n",
    "        number_removed.append(re.sub(r'[0-9]+',r' ',joined[i]))\n",
    "    removed=[]\n",
    "    for i in range(len(number_removed)):\n",
    "        removed.append(re.sub(r'  ',r' ',number_removed[i]))\n",
    "    punct=[]\n",
    "    for i in range(len(removed)):\n",
    "        punct.append([i for i in removed[i] if i not in [i for i in string.punctuation]])\n",
    "    jo=[]\n",
    "    for i in range(len(punct)):\n",
    "        jo.append(''.join(punct[i]))\n",
    "    return jo"
   ]
  },
  {
   "cell_type": "code",
   "execution_count": 11,
   "metadata": {},
   "outputs": [],
   "source": [
    "new_df = new_df.reset_index()"
   ]
  },
  {
   "cell_type": "code",
   "execution_count": 12,
   "metadata": {},
   "outputs": [],
   "source": [
    "df_split=new_df[['text']].apply(normalize,axis=1)"
   ]
  },
  {
   "cell_type": "code",
   "execution_count": 13,
   "metadata": {},
   "outputs": [],
   "source": [
    "stopword_rem=stopwords_removal(stopwords,df_split)"
   ]
  },
  {
   "cell_type": "code",
   "execution_count": 14,
   "metadata": {},
   "outputs": [],
   "source": [
    "removed_number=number_removed(stopword_rem)"
   ]
  },
  {
   "cell_type": "code",
   "execution_count": 15,
   "metadata": {},
   "outputs": [],
   "source": [
    "new=[]\n",
    "for i in range(len(removed_number)):\n",
    "    new.append(removed_number[i].split(','))"
   ]
  },
  {
   "cell_type": "code",
   "execution_count": 16,
   "metadata": {},
   "outputs": [],
   "source": [
    "new_df['text_mining']=new"
   ]
  },
  {
   "cell_type": "code",
   "execution_count": 17,
   "metadata": {},
   "outputs": [],
   "source": [
    "new_df = new_df.rename(columns={'Business Model': 'tags'})"
   ]
  },
  {
   "cell_type": "code",
   "execution_count": 18,
   "metadata": {},
   "outputs": [],
   "source": [
    "new_df = new_df[['text','text_mining', 'tags']]"
   ]
  },
  {
   "cell_type": "code",
   "execution_count": 19,
   "metadata": {},
   "outputs": [
    {
     "data": {
      "text/html": [
       "<div>\n",
       "<style scoped>\n",
       "    .dataframe tbody tr th:only-of-type {\n",
       "        vertical-align: middle;\n",
       "    }\n",
       "\n",
       "    .dataframe tbody tr th {\n",
       "        vertical-align: top;\n",
       "    }\n",
       "\n",
       "    .dataframe thead th {\n",
       "        text-align: right;\n",
       "    }\n",
       "</style>\n",
       "<table border=\"1\" class=\"dataframe\">\n",
       "  <thead>\n",
       "    <tr style=\"text-align: right;\">\n",
       "      <th></th>\n",
       "      <th>text</th>\n",
       "      <th>text_mining</th>\n",
       "      <th>tags</th>\n",
       "      <th>tags_id</th>\n",
       "    </tr>\n",
       "  </thead>\n",
       "  <tbody>\n",
       "    <tr>\n",
       "      <th>0</th>\n",
       "      <td>staffing recruitment agencies detroit merithal...</td>\n",
       "      <td>[staffing recruitment agencies detroit meritha...</td>\n",
       "      <td>B2C</td>\n",
       "      <td>1</td>\n",
       "    </tr>\n",
       "    <tr>\n",
       "      <th>1</th>\n",
       "      <td>home olmsted falls city schools skip main cont...</td>\n",
       "      <td>[home olmsted falls city schools skip main con...</td>\n",
       "      <td>B2C</td>\n",
       "      <td>1</td>\n",
       "    </tr>\n",
       "    <tr>\n",
       "      <th>2</th>\n",
       "      <td></td>\n",
       "      <td>[]</td>\n",
       "      <td>B2C</td>\n",
       "      <td>1</td>\n",
       "    </tr>\n",
       "    <tr>\n",
       "      <th>3</th>\n",
       "      <td></td>\n",
       "      <td>[]</td>\n",
       "      <td>B2C</td>\n",
       "      <td>1</td>\n",
       "    </tr>\n",
       "    <tr>\n",
       "      <th>4</th>\n",
       "      <td>online full part time national university virt...</td>\n",
       "      <td>[online full part time national university vir...</td>\n",
       "      <td>B2C</td>\n",
       "      <td>1</td>\n",
       "    </tr>\n",
       "  </tbody>\n",
       "</table>\n",
       "</div>"
      ],
      "text/plain": [
       "                                                text  \\\n",
       "0  staffing recruitment agencies detroit merithal...   \n",
       "1  home olmsted falls city schools skip main cont...   \n",
       "2                                                      \n",
       "3                                                      \n",
       "4  online full part time national university virt...   \n",
       "\n",
       "                                         text_mining tags  tags_id  \n",
       "0  [staffing recruitment agencies detroit meritha...  B2C        1  \n",
       "1  [home olmsted falls city schools skip main con...  B2C        1  \n",
       "2                                                 []  B2C        1  \n",
       "3                                                 []  B2C        1  \n",
       "4  [online full part time national university vir...  B2C        1  "
      ]
     },
     "execution_count": 19,
     "metadata": {},
     "output_type": "execute_result"
    }
   ],
   "source": [
    "new_df[\"tags\"] = new_df[\"tags\"].astype('category')\n",
    "new_df[\"tags_id\"] = new_df[\"tags\"].cat.codes\n",
    "new_df.head()"
   ]
  },
  {
   "cell_type": "code",
   "execution_count": 20,
   "metadata": {},
   "outputs": [
    {
     "data": {
      "text/html": [
       "<div>\n",
       "<style scoped>\n",
       "    .dataframe tbody tr th:only-of-type {\n",
       "        vertical-align: middle;\n",
       "    }\n",
       "\n",
       "    .dataframe tbody tr th {\n",
       "        vertical-align: top;\n",
       "    }\n",
       "\n",
       "    .dataframe thead th {\n",
       "        text-align: right;\n",
       "    }\n",
       "</style>\n",
       "<table border=\"1\" class=\"dataframe\">\n",
       "  <thead>\n",
       "    <tr style=\"text-align: right;\">\n",
       "      <th></th>\n",
       "      <th>text</th>\n",
       "      <th>text_mining</th>\n",
       "      <th>tags</th>\n",
       "      <th>tags_id</th>\n",
       "    </tr>\n",
       "  </thead>\n",
       "  <tbody>\n",
       "    <tr>\n",
       "      <th>0</th>\n",
       "      <td>staffing recruitment agencies detroit merithal...</td>\n",
       "      <td>[staffing recruitment agencies detroit meritha...</td>\n",
       "      <td>B2C</td>\n",
       "      <td>1</td>\n",
       "    </tr>\n",
       "    <tr>\n",
       "      <th>1</th>\n",
       "      <td>home olmsted falls city schools skip main cont...</td>\n",
       "      <td>[home olmsted falls city schools skip main con...</td>\n",
       "      <td>B2C</td>\n",
       "      <td>1</td>\n",
       "    </tr>\n",
       "    <tr>\n",
       "      <th>2</th>\n",
       "      <td></td>\n",
       "      <td>[]</td>\n",
       "      <td>B2C</td>\n",
       "      <td>1</td>\n",
       "    </tr>\n",
       "    <tr>\n",
       "      <th>3</th>\n",
       "      <td></td>\n",
       "      <td>[]</td>\n",
       "      <td>B2C</td>\n",
       "      <td>1</td>\n",
       "    </tr>\n",
       "    <tr>\n",
       "      <th>4</th>\n",
       "      <td>online full part time national university virt...</td>\n",
       "      <td>[online full part time national university vir...</td>\n",
       "      <td>B2C</td>\n",
       "      <td>1</td>\n",
       "    </tr>\n",
       "  </tbody>\n",
       "</table>\n",
       "</div>"
      ],
      "text/plain": [
       "                                                text  \\\n",
       "0  staffing recruitment agencies detroit merithal...   \n",
       "1  home olmsted falls city schools skip main cont...   \n",
       "2                                                      \n",
       "3                                                      \n",
       "4  online full part time national university virt...   \n",
       "\n",
       "                                         text_mining tags  tags_id  \n",
       "0  [staffing recruitment agencies detroit meritha...  B2C        1  \n",
       "1  [home olmsted falls city schools skip main con...  B2C        1  \n",
       "2                                                 []  B2C        1  \n",
       "3                                                 []  B2C        1  \n",
       "4  [online full part time national university vir...  B2C        1  "
      ]
     },
     "execution_count": 20,
     "metadata": {},
     "output_type": "execute_result"
    }
   ],
   "source": [
    "new_df.head()"
   ]
  },
  {
   "cell_type": "code",
   "execution_count": 21,
   "metadata": {},
   "outputs": [],
   "source": [
    "vocab_size = 20000  # Only consider the top 20K words\n",
    "max_len = 2000  # Maximum review (text) size in words"
   ]
  },
  {
   "cell_type": "code",
   "execution_count": 22,
   "metadata": {},
   "outputs": [],
   "source": [
    "new_df['textt'] = [','.join(map(str, l)) for l in new_df['text_mining']]"
   ]
  },
  {
   "cell_type": "code",
   "execution_count": 23,
   "metadata": {},
   "outputs": [
    {
     "data": {
      "text/plain": [
       "62176"
      ]
     },
     "execution_count": 23,
     "metadata": {},
     "output_type": "execute_result"
    }
   ],
   "source": [
    "len(set((str(new_df.text.to_list())).split()))"
   ]
  },
  {
   "cell_type": "markdown",
   "metadata": {},
   "source": [
    "Converting to tensorflow dataset"
   ]
  },
  {
   "cell_type": "code",
   "execution_count": 24,
   "metadata": {},
   "outputs": [
    {
     "name": "stderr",
     "output_type": "stream",
     "text": [
      "2022-04-22 10:58:16.818629: W tensorflow/stream_executor/platform/default/dso_loader.cc:64] Could not load dynamic library 'libcuda.so.1'; dlerror: libcuda.so.1: cannot open shared object file: No such file or directory\n",
      "2022-04-22 10:58:16.818658: W tensorflow/stream_executor/cuda/cuda_driver.cc:269] failed call to cuInit: UNKNOWN ERROR (303)\n",
      "2022-04-22 10:58:16.818676: I tensorflow/stream_executor/cuda/cuda_diagnostics.cc:156] kernel driver does not appear to be running on this host (IAAHMLAP099): /proc/driver/nvidia/version does not exist\n",
      "2022-04-22 10:58:16.820424: I tensorflow/core/platform/cpu_feature_guard.cc:151] This TensorFlow binary is optimized with oneAPI Deep Neural Network Library (oneDNN) to use the following CPU instructions in performance-critical operations:  AVX2 AVX512F FMA\n",
      "To enable them in other operations, rebuild TensorFlow with the appropriate compiler flags.\n"
     ]
    }
   ],
   "source": [
    "numeric_dataset = tf.data.Dataset.from_tensor_slices((new_df.text, new_df['tags_id']))"
   ]
  },
  {
   "cell_type": "code",
   "execution_count": 25,
   "metadata": {},
   "outputs": [],
   "source": [
    "BATCH_SIZE = 64\n",
    "numeric_batches = numeric_dataset.shuffle(1000).batch(BATCH_SIZE)"
   ]
  },
  {
   "cell_type": "code",
   "execution_count": 26,
   "metadata": {
    "scrolled": true
   },
   "outputs": [
    {
     "name": "stdout",
     "output_type": "stream",
     "text": [
      "text:  b'staffing recruitment agencies detroit merithall skip main content careers search jobs people place hiring process client services faqs story team testimonials blog contact menu careers search jobs people place hiring process client services faqs story team testimonials blog contact great jobs exceptional people metro detroit premier staffing workforce solutions provider find next opportunity find next employee industries serve merithall full service staffing agency detroit put expertise experience work today manufacturing landscaping construction services solutions skilled trades recruitment long term staffing seasonal staffing find great job today looking new opportunity merithall recruitment agency detroit matches people jobs construction landscaping manufacturing find job right right apply online search jobs location ferndale hamtramck livonia livonia milford plymouth taylor troy industry automotive industry construction driving facility maintenance forklift operator general labor landscaping machine tool management sales manufacturing office clerical area shipping receiving snow removal welding fabricating search jobs advanced search merithall news news benefits maintaining strong communication candidates crisis communicating candidates always important maintaining strong communication crisis set apart competitors due read october news maneuvering job search covid right times uncertain stressful even bit frightening covid outbreak caused health crisis read october view news pleased say merithall lived commitment provided top quality candidates meet unique requirements impressed short souring time number candidates provided opening well professionalism worked hiring teams human resources manager global medical technology company merithall helpful providing company experienced labor unable find reliable professional importantly provide quality service merithall made simple convenient use services equipped handle business needs necessary started today waiting lauren millennium outdoor services molnar roofing introduced merithall abc labor update may crew effectively supplemented existing workforce management responded quickly last minute schedule changes recommend merithall construction staffing open shop contractors seeking temporary staffing robert molnar molnar roofing workers supplied capable getting job done little direction allowed core employees accomplish brian dewan general manager ejh construction inc found merithall earlier year used construction service company every day since afternoon call request certain number carpenters certain level next morning like magic fully staffed economically tough times construction type services truly beneficial company able eliminate payroll taxes general liability insurance workman compensation big thank merithall staff cheryl savage company administrator buildmaster inc working merit hall great experience company take much workload backs providing quality employees qualified positions filled timothy warner warner brothers services inc merithall pleasure work overall labor provided construction projects satisfactory workers show time ready work required ppe continue use merithall resource temporary help needed dean stacer operations manager kent companies thanks help needed wish would contacted earlier year thanks kris beers abl landscaping merithall able supply hill top property services salt salt supplier pleased service laurie hill top property services merithall provides advantage able bring group experienced productive asbestos workers need ensures fulfill needs customers regardless size location job bruce montgomery president asb services view testimonials merithall member organizations schoolcraft road livonia directions info merithall com merithall inc privacy site credits staffing websites haley marketing search jobs solutions blog contact construction skilled trades recruiters detroit merithall skip main content careers search jobs people place hiring process client services faqs story team testimonials blog contact menu careers search jobs people place hiring process client services faqs story team testimonials blog contact success built service excellence mission merithall exists help contractors acquire manage monitor human resources focus completing projects core values provide best support clients partners employees embrace change new ideas promote opportunities personal professional development operating standards expectations clear ownership work ensure accountability make recognition achievements possible job recruiters detroit self manage based known goals deadlines employees motivated perform exceptional work ambition commitment company mission vision core values desire personal professional growth success learn merithall satisfied clients happy employees story team pleased say merithall lived commitment provided top quality candidates meet unique requirements impressed short souring time number candidates provided opening well professionalism worked hiring teams human resources manager global medical technology company merithall helpful providing company experienced labor unable find reliable professional importantly provide quality service merithall made simple convenient use services equipped handle business needs necessary started today waiting lauren millennium outdoor services molnar roofing introduced merithall abc labor update may crew effectively supplemented existing workforce management responded quickly last minute schedule changes recommend merithall construction staffing open shop contractors seeking temporary staffing robert molnar molnar roofing workers supplied capable getting job done little direction allowed core employees accomplish brian dewan general manager ejh construction inc found merithall earlier year used construction service company every day since afternoon call request certain number carpenters certain level next morning like magic fully staffed economically tough times construction type services truly beneficial company able eliminate payroll taxes general liability insurance workman compensation big thank merithall staff cheryl savage company administrator buildmaster inc working merit hall great experience company take much workload backs providing quality employees qualified positions filled timothy warner warner brothers services inc merithall pleasure work overall labor provided construction projects satisfactory workers show time ready work required ppe continue use merithall resource temporary help needed dean stacer operations manager kent companies thanks help needed wish would contacted earlier year thanks kris beers abl landscaping merithall able supply hill top property services salt salt supplier pleased service laurie hill top property services merithall provides advantage able bring group experienced productive asbestos workers need ensures fulfill needs customers regardless size location job bruce montgomery president asb services view testimonials let merithall help achieve goals contact search jobs schoolcraft road livonia directions info merithall com merithall inc privacy site credits staffing websites haley marketing search jobs solutions blog contact team merithall inc skip main content careers search jobs people place hiring process client services faqs story team testimonials blog contact menu careers search jobs people place hiring process client services faqs story team testimonials blog contact team team meet people working behind scenes connect jannie linkedin jannie adams recruiter connect shayna linkedin shayna burden recruiter connect keith linkedin keith ditmore account manager connect robert linkedin robert drake manager connect travis linkedin travis gorski account manager connect paul linkedin paul kaser ceo lindsay washer assistant jannie adams recruiter linkedin shayna burden recruiter linkedin keith ditmore account manager linkedin robert drake manager linkedin travis gorski account manager linkedin paul kaser ceo linkedin lindsay washer assistant schoolcraft road livonia directions info merithall com merithall inc privacy site credits staffing websites haley marketing search jobs solutions blog contact testimonials merithall inc skip main content careers search jobs people place hiring process client services faqs story team testimonials blog contact menu careers search jobs people place hiring process client services faqs story team testimonials blog contact testimonials testimonials like work merithall people saying merithall take pride knowing clients candidates satisfied services pleased say merithall lived commitment provided top quality candidates meet unique requirements impressed short souring time number candidates provided opening well professionalism worked hiring teams human resources manager global medical technology company merithall helpful providing company experienced labor unable find reliable professional importantly provide quality service merithall made simple convenient use services equipped handle business needs necessary started today waiting lauren millennium outdoor services molnar roofing introduced merithall abc labor update may crew effectively supplemented existing workforce management responded quickly last minute schedule changes recommend merithall construction staffing open shop contractors seeking temporary staffing robert molnar molnar roofing workers supplied capable getting job done little direction allowed core employees accomplish brian dewan general manager ejh construction inc found merithall earlier year used construction service company every day since afternoon call request certain number carpenters certain level next morning like magic fully staffed economically tough times construction type services truly beneficial company able eliminate payroll taxes general liability insurance workman compensation big thank merithall staff cheryl savage company administrator buildmaster inc working merit hall great experience company take much workload backs providing quality employees qualified positions filled timothy warner warner brothers services inc merithall pleasure work overall labor provided construction projects satisfactory workers show time ready work required ppe continue use merithall resource temporary help needed dean stacer operations manager kent companies thanks help needed wish would contacted earlier year thanks kris beers abl landscaping merithall able supply hill top property services salt salt supplier pleased service laurie hill top property services merithall provides advantage able bring group experienced productive asbestos workers need ensures fulfill needs customers regardless size location job bruce montgomery president asb services happy service quality manpower kevin callahan bruttell roofing inc schoolcraft road livonia directions info merithall com merithall inc privacy site credits staffing websites haley marketing search jobs solutions blog contact wordpress error critical error website learn troubleshooting wordpress'\n",
      "label:  1\n"
     ]
    }
   ],
   "source": [
    "for example, label in numeric_dataset.take(1):\n",
    "  print('text: ', example.numpy())\n",
    "  print('label: ', label.numpy())"
   ]
  },
  {
   "cell_type": "code",
   "execution_count": 27,
   "metadata": {},
   "outputs": [],
   "source": [
    "BUFFER_SIZE = 3000\n",
    "BATCH_SIZE = 64"
   ]
  },
  {
   "cell_type": "code",
   "execution_count": 28,
   "metadata": {},
   "outputs": [],
   "source": [
    "def get_dataset_partitions_tf(ds, ds_size, train_split=0.8, val_split=0.1, test_split=0.1, shuffle=True, shuffle_size=5000):\n",
    "    assert (train_split + test_split + val_split) == 1\n",
    "    \n",
    "    if shuffle:\n",
    "        ds = ds.shuffle(shuffle_size, seed=24)\n",
    "    \n",
    "    train_size = int(train_split * ds_size)\n",
    "    val_size = int(val_split * ds_size)\n",
    "    \n",
    "    train_ds = ds.take(train_size)    \n",
    "    val_ds = ds.skip(train_size).take(val_size)\n",
    "    test_ds = ds.skip(train_size).skip(val_size)\n",
    "    \n",
    "    return train_ds, val_ds, test_ds"
   ]
  },
  {
   "cell_type": "code",
   "execution_count": 29,
   "metadata": {},
   "outputs": [
    {
     "data": {
      "text/plain": [
       "2872"
      ]
     },
     "execution_count": 29,
     "metadata": {},
     "output_type": "execute_result"
    }
   ],
   "source": [
    "len(numeric_dataset)"
   ]
  },
  {
   "cell_type": "code",
   "execution_count": 30,
   "metadata": {},
   "outputs": [],
   "source": [
    "\n",
    "train_ds, val_ds, test_ds = get_dataset_partitions_tf(numeric_dataset, 2872)"
   ]
  },
  {
   "cell_type": "code",
   "execution_count": 32,
   "metadata": {},
   "outputs": [],
   "source": [
    "train_dataset = train_ds.shuffle(BUFFER_SIZE).batch(BATCH_SIZE)\n",
    "test_dataset = test_ds.batch(BATCH_SIZE)"
   ]
  },
  {
   "cell_type": "code",
   "execution_count": 33,
   "metadata": {},
   "outputs": [],
   "source": [
    "VOCAB_SIZE = 62000 #maximum number of words to take\n",
    "encoder = tf.keras.layers.TextVectorization(\n",
    "    max_tokens=VOCAB_SIZE)\n",
    "encoder.adapt(train_dataset.map(lambda text, label: text))"
   ]
  },
  {
   "cell_type": "code",
   "execution_count": 34,
   "metadata": {},
   "outputs": [
    {
     "data": {
      "text/plain": [
       "array(['', '[UNK]', 'services', 'contact', 'care', 'new', 'home',\n",
       "       'health', 'service', 'team', 'solutions', 'learn', 'business',\n",
       "       'careers', 'support', 'information', 'company', 'products', 'news',\n",
       "       'center'], dtype='<U62')"
      ]
     },
     "execution_count": 34,
     "metadata": {},
     "output_type": "execute_result"
    }
   ],
   "source": [
    "vocab = np.array(encoder.get_vocabulary())\n",
    "vocab[:20]"
   ]
  },
  {
   "cell_type": "markdown",
   "metadata": {},
   "source": [
    "# sequential model with 2 LSTM layers and Dropout layer"
   ]
  },
  {
   "cell_type": "code",
   "execution_count": 36,
   "metadata": {},
   "outputs": [],
   "source": [
    "\n",
    "model = tf.keras.Sequential([\n",
    "    encoder,\n",
    "    tf.keras.layers.Embedding(len(encoder.get_vocabulary()), 64, mask_zero=True),\n",
    "    tf.keras.layers.Bidirectional(tf.keras.layers.LSTM(64,  return_sequences=True)),\n",
    "    tf.keras.layers.Bidirectional(tf.keras.layers.LSTM(32)),\n",
    "    tf.keras.layers.Dense(64, activation='relu'),\n",
    "    tf.keras.layers.Dropout(0.5),\n",
    "    tf.keras.layers.Dense(1)\n",
    "])"
   ]
  },
  {
   "cell_type": "code",
   "execution_count": 38,
   "metadata": {},
   "outputs": [
    {
     "name": "stdout",
     "output_type": "stream",
     "text": [
      "[False, True, True, True, True, True]\n"
     ]
    }
   ],
   "source": [
    "print([layer.supports_masking for layer in model.layers])"
   ]
  },
  {
   "cell_type": "code",
   "execution_count": 39,
   "metadata": {},
   "outputs": [],
   "source": [
    "model.compile(loss=tf.keras.losses.BinaryCrossentropy(from_logits=True),\n",
    "              optimizer=tf.keras.optimizers.Adam(1e-4),\n",
    "              metrics=['accuracy'])"
   ]
  },
  {
   "cell_type": "markdown",
   "metadata": {},
   "source": [
    "# training Data Set"
   ]
  },
  {
   "cell_type": "code",
   "execution_count": 40,
   "metadata": {},
   "outputs": [
    {
     "name": "stdout",
     "output_type": "stream",
     "text": [
      "Epoch 1/25\n",
      "36/36 [==============================] - ETA: 0s - loss: 0.6925 - accuracy: 0.5085WARNING:tensorflow:Your input ran out of data; interrupting training. Make sure that your dataset or generator can generate at least `steps_per_epoch * epochs` batches (in this case, 30 batches). You may need to use the repeat() function when building your dataset.\n",
      "36/36 [==============================] - 130s 3s/step - loss: 0.6925 - accuracy: 0.5085 - val_loss: 0.6922 - val_accuracy: 0.4826\n",
      "Epoch 2/25\n",
      "36/36 [==============================] - 109s 3s/step - loss: 0.6914 - accuracy: 0.5059\n",
      "Epoch 3/25\n",
      "36/36 [==============================] - 110s 3s/step - loss: 0.6891 - accuracy: 0.5020\n",
      "Epoch 4/25\n",
      "36/36 [==============================] - 102s 3s/step - loss: 0.6814 - accuracy: 0.4963\n",
      "Epoch 5/25\n",
      "36/36 [==============================] - 98s 3s/step - loss: 0.6018 - accuracy: 0.5694\n",
      "Epoch 6/25\n",
      "36/36 [==============================] - 118s 3s/step - loss: 0.4708 - accuracy: 0.7849\n",
      "Epoch 7/25\n",
      "36/36 [==============================] - 111s 3s/step - loss: 0.4128 - accuracy: 0.8180\n",
      "Epoch 8/25\n",
      "36/36 [==============================] - 110s 3s/step - loss: 0.3427 - accuracy: 0.8398\n",
      "Epoch 9/25\n",
      "36/36 [==============================] - 101s 3s/step - loss: 0.3021 - accuracy: 0.8655\n",
      "Epoch 10/25\n",
      "36/36 [==============================] - 96s 3s/step - loss: 0.2789 - accuracy: 0.8690\n",
      "Epoch 11/25\n",
      "36/36 [==============================] - 103s 3s/step - loss: 0.2547 - accuracy: 0.8859\n",
      "Epoch 12/25\n",
      "36/36 [==============================] - 101s 3s/step - loss: 0.2148 - accuracy: 0.8994\n",
      "Epoch 13/25\n",
      "36/36 [==============================] - 104s 3s/step - loss: 0.2127 - accuracy: 0.9020\n",
      "Epoch 14/25\n",
      "36/36 [==============================] - 100s 3s/step - loss: 0.1878 - accuracy: 0.9103\n",
      "Epoch 15/25\n",
      "36/36 [==============================] - 101s 3s/step - loss: 0.1605 - accuracy: 0.9199\n",
      "Epoch 16/25\n",
      "36/36 [==============================] - 105s 3s/step - loss: 0.1411 - accuracy: 0.9264\n",
      "Epoch 17/25\n",
      "36/36 [==============================] - 107s 3s/step - loss: 0.1426 - accuracy: 0.9264\n",
      "Epoch 18/25\n",
      "36/36 [==============================] - 129s 4s/step - loss: 0.1185 - accuracy: 0.9334\n",
      "Epoch 19/25\n",
      "36/36 [==============================] - 114s 3s/step - loss: 0.1137 - accuracy: 0.9408\n",
      "Epoch 20/25\n",
      "36/36 [==============================] - 115s 3s/step - loss: 0.1155 - accuracy: 0.9360\n",
      "Epoch 21/25\n",
      "36/36 [==============================] - 139s 4s/step - loss: 0.1059 - accuracy: 0.9425\n",
      "Epoch 22/25\n",
      "36/36 [==============================] - 134s 4s/step - loss: 0.1122 - accuracy: 0.9408\n",
      "Epoch 23/25\n",
      "36/36 [==============================] - 97s 3s/step - loss: 0.0981 - accuracy: 0.9443\n",
      "Epoch 24/25\n",
      "36/36 [==============================] - 85s 2s/step - loss: 0.0965 - accuracy: 0.9438\n",
      "Epoch 25/25\n",
      "36/36 [==============================] - 86s 2s/step - loss: 0.0960 - accuracy: 0.9473\n"
     ]
    }
   ],
   "source": [
    "history = model.fit(train_dataset, epochs=25,\n",
    "                    validation_data=test_dataset,\n",
    "                    validation_steps=30)"
   ]
  },
  {
   "cell_type": "code",
   "execution_count": 41,
   "metadata": {},
   "outputs": [
    {
     "name": "stdout",
     "output_type": "stream",
     "text": [
      "5/5 [==============================] - 2s 360ms/step - loss: 0.0916 - accuracy: 0.9271\n",
      "Test Loss: 0.09161242842674255\n",
      "Test Accuracy: 0.9270833134651184\n"
     ]
    }
   ],
   "source": [
    "test_loss, test_acc = model.evaluate(test_dataset)\n",
    "\n",
    "print('Test Loss:', test_loss)\n",
    "print('Test Accuracy:', test_acc)"
   ]
  },
  {
   "cell_type": "markdown",
   "metadata": {},
   "source": [
    "# Saving Model"
   ]
  },
  {
   "cell_type": "code",
   "execution_count": 47,
   "metadata": {},
   "outputs": [
    {
     "name": "stderr",
     "output_type": "stream",
     "text": [
      "2022-04-22 12:38:07.695446: W tensorflow/python/util/util.cc:368] Sets are not currently considered sequences, but this may change in the future, so consider avoiding using them.\n",
      "WARNING:absl:Found untraced functions such as lstm_cell_10_layer_call_fn, lstm_cell_10_layer_call_and_return_conditional_losses, lstm_cell_11_layer_call_fn, lstm_cell_11_layer_call_and_return_conditional_losses while saving (showing 4 of 4). These functions will not be directly callable after loading.\n"
     ]
    },
    {
     "name": "stdout",
     "output_type": "stream",
     "text": [
      "INFO:tensorflow:Assets written to: saved_model/my_model/assets\n"
     ]
    },
    {
     "name": "stderr",
     "output_type": "stream",
     "text": [
      "INFO:tensorflow:Assets written to: saved_model/my_model/assets\n",
      "WARNING:absl:<keras.layers.recurrent.LSTMCell object at 0x7f7a32761400> has the same name 'LSTMCell' as a built-in Keras object. Consider renaming <class 'keras.layers.recurrent.LSTMCell'> to avoid naming conflicts when loading with `tf.keras.models.load_model`. If renaming is not possible, pass the object in the `custom_objects` parameter of the load function.\n",
      "WARNING:absl:<keras.layers.recurrent.LSTMCell object at 0x7f7a31253370> has the same name 'LSTMCell' as a built-in Keras object. Consider renaming <class 'keras.layers.recurrent.LSTMCell'> to avoid naming conflicts when loading with `tf.keras.models.load_model`. If renaming is not possible, pass the object in the `custom_objects` parameter of the load function.\n"
     ]
    }
   ],
   "source": [
    "!mkdir -p saved_model\n",
    "model.save('saved_model/my_model')"
   ]
  },
  {
   "cell_type": "code",
   "execution_count": 50,
   "metadata": {},
   "outputs": [
    {
     "name": "stdout",
     "output_type": "stream",
     "text": [
      "my_model\n",
      "assets\tkeras_metadata.pb  saved_model.pb  variables\n"
     ]
    }
   ],
   "source": [
    "# my_model directory\n",
    "!ls saved_model\n",
    "\n",
    "# Contains an assets folder, saved_model.pb, and variables folder.\n",
    "!ls saved_model/my_model"
   ]
  },
  {
   "cell_type": "code",
   "execution_count": 51,
   "metadata": {},
   "outputs": [
    {
     "name": "stderr",
     "output_type": "stream",
     "text": [
      "2022-04-22 12:38:53.826010: W tensorflow/core/common_runtime/graph_constructor.cc:803] Node 'cond/while' has 13 outputs but the _output_shapes attribute specifies shapes for 46 outputs. Output shapes may be inaccurate.\n",
      "2022-04-22 12:38:54.302179: W tensorflow/core/common_runtime/graph_constructor.cc:803] Node 'cond' has 5 outputs but the _output_shapes attribute specifies shapes for 46 outputs. Output shapes may be inaccurate.\n",
      "2022-04-22 12:38:54.602399: W tensorflow/core/common_runtime/graph_constructor.cc:803] Node 'cond/while' has 13 outputs but the _output_shapes attribute specifies shapes for 46 outputs. Output shapes may be inaccurate.\n",
      "2022-04-22 12:38:54.740389: W tensorflow/core/common_runtime/graph_constructor.cc:803] Node 'cond' has 5 outputs but the _output_shapes attribute specifies shapes for 46 outputs. Output shapes may be inaccurate.\n",
      "2022-04-22 12:38:56.145394: W tensorflow/core/common_runtime/graph_constructor.cc:803] Node 'cond/while' has 13 outputs but the _output_shapes attribute specifies shapes for 46 outputs. Output shapes may be inaccurate.\n",
      "2022-04-22 12:38:56.157665: W tensorflow/core/common_runtime/graph_constructor.cc:803] Node 'cond' has 5 outputs but the _output_shapes attribute specifies shapes for 46 outputs. Output shapes may be inaccurate.\n",
      "2022-04-22 12:38:56.173883: W tensorflow/core/common_runtime/graph_constructor.cc:803] Node 'cond/while' has 13 outputs but the _output_shapes attribute specifies shapes for 46 outputs. Output shapes may be inaccurate.\n",
      "2022-04-22 12:38:56.190387: W tensorflow/core/common_runtime/graph_constructor.cc:803] Node 'cond' has 5 outputs but the _output_shapes attribute specifies shapes for 46 outputs. Output shapes may be inaccurate.\n",
      "2022-04-22 12:38:56.883918: W tensorflow/core/common_runtime/graph_constructor.cc:803] Node 'cond/while' has 13 outputs but the _output_shapes attribute specifies shapes for 46 outputs. Output shapes may be inaccurate.\n",
      "2022-04-22 12:38:56.895659: W tensorflow/core/common_runtime/graph_constructor.cc:803] Node 'cond' has 5 outputs but the _output_shapes attribute specifies shapes for 46 outputs. Output shapes may be inaccurate.\n",
      "2022-04-22 12:38:56.946773: W tensorflow/core/common_runtime/graph_constructor.cc:803] Node 'cond/while' has 13 outputs but the _output_shapes attribute specifies shapes for 46 outputs. Output shapes may be inaccurate.\n",
      "2022-04-22 12:38:56.961631: W tensorflow/core/common_runtime/graph_constructor.cc:803] Node 'cond' has 5 outputs but the _output_shapes attribute specifies shapes for 46 outputs. Output shapes may be inaccurate.\n",
      "2022-04-22 12:38:57.026989: W tensorflow/core/common_runtime/graph_constructor.cc:803] Node 'cond/while' has 13 outputs but the _output_shapes attribute specifies shapes for 46 outputs. Output shapes may be inaccurate.\n",
      "2022-04-22 12:38:57.039324: W tensorflow/core/common_runtime/graph_constructor.cc:803] Node 'cond' has 5 outputs but the _output_shapes attribute specifies shapes for 46 outputs. Output shapes may be inaccurate.\n",
      "2022-04-22 12:38:57.096325: W tensorflow/core/common_runtime/graph_constructor.cc:803] Node 'cond/while' has 13 outputs but the _output_shapes attribute specifies shapes for 46 outputs. Output shapes may be inaccurate.\n",
      "2022-04-22 12:38:57.145266: W tensorflow/core/common_runtime/graph_constructor.cc:803] Node 'cond/while' has 13 outputs but the _output_shapes attribute specifies shapes for 46 outputs. Output shapes may be inaccurate.\n",
      "2022-04-22 12:38:57.156573: W tensorflow/core/common_runtime/graph_constructor.cc:803] Node 'cond' has 5 outputs but the _output_shapes attribute specifies shapes for 46 outputs. Output shapes may be inaccurate.\n",
      "2022-04-22 12:38:57.801387: W tensorflow/core/common_runtime/graph_constructor.cc:803] Node 'cond' has 5 outputs but the _output_shapes attribute specifies shapes for 46 outputs. Output shapes may be inaccurate.\n",
      "2022-04-22 12:38:57.984814: W tensorflow/core/common_runtime/graph_constructor.cc:803] Node 'cond/while' has 13 outputs but the _output_shapes attribute specifies shapes for 46 outputs. Output shapes may be inaccurate.\n",
      "2022-04-22 12:38:57.997780: W tensorflow/core/common_runtime/graph_constructor.cc:803] Node 'cond' has 5 outputs but the _output_shapes attribute specifies shapes for 46 outputs. Output shapes may be inaccurate.\n",
      "2022-04-22 12:38:58.056675: W tensorflow/core/common_runtime/graph_constructor.cc:803] Node 'cond/while' has 13 outputs but the _output_shapes attribute specifies shapes for 46 outputs. Output shapes may be inaccurate.\n",
      "2022-04-22 12:38:58.067923: W tensorflow/core/common_runtime/graph_constructor.cc:803] Node 'cond' has 5 outputs but the _output_shapes attribute specifies shapes for 46 outputs. Output shapes may be inaccurate.\n",
      "2022-04-22 12:38:58.208276: W tensorflow/core/common_runtime/graph_constructor.cc:803] Node 'cond/while' has 13 outputs but the _output_shapes attribute specifies shapes for 46 outputs. Output shapes may be inaccurate.\n",
      "2022-04-22 12:38:58.221243: W tensorflow/core/common_runtime/graph_constructor.cc:803] Node 'cond' has 5 outputs but the _output_shapes attribute specifies shapes for 46 outputs. Output shapes may be inaccurate.\n",
      "2022-04-22 12:38:58.297171: W tensorflow/core/common_runtime/graph_constructor.cc:803] Node 'cond/while' has 13 outputs but the _output_shapes attribute specifies shapes for 46 outputs. Output shapes may be inaccurate.\n",
      "2022-04-22 12:38:58.308451: W tensorflow/core/common_runtime/graph_constructor.cc:803] Node 'cond' has 5 outputs but the _output_shapes attribute specifies shapes for 46 outputs. Output shapes may be inaccurate.\n",
      "2022-04-22 12:38:58.410111: W tensorflow/core/common_runtime/graph_constructor.cc:803] Node 'cond/while' has 13 outputs but the _output_shapes attribute specifies shapes for 46 outputs. Output shapes may be inaccurate.\n",
      "2022-04-22 12:38:58.422379: W tensorflow/core/common_runtime/graph_constructor.cc:803] Node 'cond' has 5 outputs but the _output_shapes attribute specifies shapes for 46 outputs. Output shapes may be inaccurate.\n"
     ]
    },
    {
     "name": "stdout",
     "output_type": "stream",
     "text": [
      "Model: \"sequential_2\"\n",
      "_________________________________________________________________\n",
      " Layer (type)                Output Shape              Param #   \n",
      "=================================================================\n",
      " text_vectorization (TextVec  (None, None)             0         \n",
      " torization)                                                     \n",
      "                                                                 \n",
      " embedding_2 (Embedding)     (None, None, 64)          3291008   \n",
      "                                                                 \n",
      " bidirectional_3 (Bidirectio  (None, 128)              66048     \n",
      " nal)                                                            \n",
      "                                                                 \n",
      " dense_4 (Dense)             (None, 64)                8256      \n",
      "                                                                 \n",
      " dropout_2 (Dropout)         (None, 64)                0         \n",
      "                                                                 \n",
      " dense_5 (Dense)             (None, 1)                 65        \n",
      "                                                                 \n",
      "=================================================================\n",
      "Total params: 3,365,377\n",
      "Trainable params: 3,365,377\n",
      "Non-trainable params: 0\n",
      "_________________________________________________________________\n"
     ]
    }
   ],
   "source": [
    "new_model = tf.keras.models.load_model('saved_model/my_model')\n",
    "\n",
    "# Check its architecture\n",
    "new_model.summary()"
   ]
  },
  {
   "cell_type": "code",
   "execution_count": 61,
   "metadata": {},
   "outputs": [
    {
     "name": "stdout",
     "output_type": "stream",
     "text": [
      "5/5 [==============================] - 4s 353ms/step - loss: 0.0752 - accuracy: 0.9375\n",
      "Test Loss: 0.0751938670873642\n",
      "Test Accuracy: 0.9375\n"
     ]
    }
   ],
   "source": [
    "test_loss, test_acc = new_model.evaluate(test_dataset)\n",
    "\n",
    "print('Test Loss:', test_loss)\n",
    "print('Test Accuracy:', test_acc)"
   ]
  },
  {
   "cell_type": "code",
   "execution_count": null,
   "metadata": {},
   "outputs": [],
   "source": []
  }
 ],
 "metadata": {
  "kernelspec": {
   "display_name": "Python 3",
   "language": "python",
   "name": "python3"
  },
  "language_info": {
   "codemirror_mode": {
    "name": "ipython",
    "version": 3
   },
   "file_extension": ".py",
   "mimetype": "text/x-python",
   "name": "python",
   "nbconvert_exporter": "python",
   "pygments_lexer": "ipython3",
   "version": "3.8.8"
  }
 },
 "nbformat": 4,
 "nbformat_minor": 4
}
